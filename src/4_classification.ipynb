{
  "nbformat": 4,
  "nbformat_minor": 0,
  "metadata": {
    "colab": {
      "name": "4_classification.ipynb",
      "provenance": [],
      "collapsed_sections": []
    },
    "kernelspec": {
      "name": "python3",
      "display_name": "Python 3"
    },
    "language_info": {
      "name": "python"
    }
  },
  "cells": [
    {
      "cell_type": "markdown",
      "metadata": {
        "id": "ajcjZ6_yP5Ag"
      },
      "source": [
        "# Classification"
      ]
    },
    {
      "cell_type": "markdown",
      "metadata": {
        "id": "YHxOznzFP8X1"
      },
      "source": [
        "## Download of the dataset"
      ]
    },
    {
      "cell_type": "code",
      "metadata": {
        "colab": {
          "base_uri": "https://localhost:8080/"
        },
        "id": "ROehhFN-4-dh",
        "outputId": "4ffccf6d-ecca-43df-8031-fc393b8b87d5"
      },
      "source": [
        "datasets = ['ThoracicSurgery_pca_test.csv',\n",
        "            'ThoracicSurgery_train.csv',\n",
        "            'ThoracicSurgery_RandomOverSampler_train.csv',\n",
        "            'ThoracicSurgery_pca_train.csv',\n",
        "            'ThoracicSurgery_with_outliers_normalized_test.csv',\n",
        "            'ThoraricSurgery.csv',\n",
        "            'ThoracicSurgery_Smote_train.csv',\n",
        "            'ThoracicSurgery_test.csv',\n",
        "            'ThoracicSurgery_with_outliers_normalized_train.csv'\n",
        "]\n",
        "\n",
        "!rm -rf dataset \n",
        "!mkdir dataset\n",
        "!rm -rf trained_models \n",
        "!mkdir trained_models\n",
        "!mkdir images\n",
        "!mkdir images/confusion_matrix\n",
        "!mkdir images/roc\n",
        "!mkdir images/decision_boundaries\n",
        "!mkdir images/feature_importance\n",
        "!mkdir tuned_classifiers\n",
        "\n",
        "for dataset in datasets:\n",
        "  !wget https://raw.githubusercontent.com/GiuseppeMoscarelli/Thoracic-Surgery/main/dataset/{dataset} -P dataset -nc\n",
        "\n",
        "!wget https://raw.githubusercontent.com/GiuseppeMoscarelli/Thoracic-Surgery/main/finetuned_list.txt -P . -nc\n"
      ],
      "execution_count": null,
      "outputs": [
        {
          "output_type": "stream",
          "name": "stdout",
          "text": [
            "--2021-11-22 01:27:23--  https://raw.githubusercontent.com/GiuseppeMoscarelli/Thoracic-Surgery/main/dataset/ThoracicSurgery_pca_test.csv\n",
            "Resolving raw.githubusercontent.com (raw.githubusercontent.com)... 185.199.110.133, 185.199.109.133, 185.199.111.133, ...\n",
            "Connecting to raw.githubusercontent.com (raw.githubusercontent.com)|185.199.110.133|:443... connected.\n",
            "HTTP request sent, awaiting response... 200 OK\n",
            "Length: 25254 (25K) [text/plain]\n",
            "Saving to: ‘dataset/ThoracicSurgery_pca_test.csv’\n",
            "\n",
            "\r          ThoracicS   0%[                    ]       0  --.-KB/s               \rThoracicSurgery_pca 100%[===================>]  24.66K  --.-KB/s    in 0s      \n",
            "\n",
            "2021-11-22 01:27:23 (92.8 MB/s) - ‘dataset/ThoracicSurgery_pca_test.csv’ saved [25254/25254]\n",
            "\n",
            "--2021-11-22 01:27:23--  https://raw.githubusercontent.com/GiuseppeMoscarelli/Thoracic-Surgery/main/dataset/ThoracicSurgery_train.csv\n",
            "Resolving raw.githubusercontent.com (raw.githubusercontent.com)... 185.199.109.133, 185.199.110.133, 185.199.108.133, ...\n",
            "Connecting to raw.githubusercontent.com (raw.githubusercontent.com)|185.199.109.133|:443... connected.\n",
            "HTTP request sent, awaiting response... 200 OK\n",
            "Length: 30141 (29K) [text/plain]\n",
            "Saving to: ‘dataset/ThoracicSurgery_train.csv’\n",
            "\n",
            "ThoracicSurgery_tra 100%[===================>]  29.43K  --.-KB/s    in 0s      \n",
            "\n",
            "2021-11-22 01:27:23 (113 MB/s) - ‘dataset/ThoracicSurgery_train.csv’ saved [30141/30141]\n",
            "\n",
            "--2021-11-22 01:27:23--  https://raw.githubusercontent.com/GiuseppeMoscarelli/Thoracic-Surgery/main/dataset/ThoracicSurgery_RandomOverSampler_train.csv\n",
            "Resolving raw.githubusercontent.com (raw.githubusercontent.com)... 185.199.110.133, 185.199.108.133, 185.199.111.133, ...\n",
            "Connecting to raw.githubusercontent.com (raw.githubusercontent.com)|185.199.110.133|:443... connected.\n",
            "HTTP request sent, awaiting response... 200 OK\n",
            "Length: 51162 (50K) [text/plain]\n",
            "Saving to: ‘dataset/ThoracicSurgery_RandomOverSampler_train.csv’\n",
            "\n",
            "ThoracicSurgery_Ran 100%[===================>]  49.96K  --.-KB/s    in 0.001s  \n",
            "\n",
            "2021-11-22 01:27:23 (80.3 MB/s) - ‘dataset/ThoracicSurgery_RandomOverSampler_train.csv’ saved [51162/51162]\n",
            "\n",
            "--2021-11-22 01:27:24--  https://raw.githubusercontent.com/GiuseppeMoscarelli/Thoracic-Surgery/main/dataset/ThoracicSurgery_pca_train.csv\n",
            "Resolving raw.githubusercontent.com (raw.githubusercontent.com)... 185.199.108.133, 185.199.109.133, 185.199.110.133, ...\n",
            "Connecting to raw.githubusercontent.com (raw.githubusercontent.com)|185.199.108.133|:443... connected.\n",
            "HTTP request sent, awaiting response... 200 OK\n",
            "Length: 99151 (97K) [text/plain]\n",
            "Saving to: ‘dataset/ThoracicSurgery_pca_train.csv’\n",
            "\n",
            "ThoracicSurgery_pca 100%[===================>]  96.83K  --.-KB/s    in 0.002s  \n",
            "\n",
            "2021-11-22 01:27:24 (43.6 MB/s) - ‘dataset/ThoracicSurgery_pca_train.csv’ saved [99151/99151]\n",
            "\n",
            "--2021-11-22 01:27:24--  https://raw.githubusercontent.com/GiuseppeMoscarelli/Thoracic-Surgery/main/dataset/ThoracicSurgery_with_outliers_normalized_test.csv\n",
            "Resolving raw.githubusercontent.com (raw.githubusercontent.com)... 185.199.108.133, 185.199.109.133, 185.199.110.133, ...\n",
            "Connecting to raw.githubusercontent.com (raw.githubusercontent.com)|185.199.108.133|:443... connected.\n",
            "HTTP request sent, awaiting response... 200 OK\n",
            "Length: 14024 (14K) [text/plain]\n",
            "Saving to: ‘dataset/ThoracicSurgery_with_outliers_normalized_test.csv’\n",
            "\n",
            "ThoracicSurgery_wit 100%[===================>]  13.70K  --.-KB/s    in 0s      \n",
            "\n",
            "2021-11-22 01:27:24 (86.1 MB/s) - ‘dataset/ThoracicSurgery_with_outliers_normalized_test.csv’ saved [14024/14024]\n",
            "\n",
            "--2021-11-22 01:27:24--  https://raw.githubusercontent.com/GiuseppeMoscarelli/Thoracic-Surgery/main/dataset/ThoraricSurgery.csv\n",
            "Resolving raw.githubusercontent.com (raw.githubusercontent.com)... 185.199.109.133, 185.199.111.133, 185.199.108.133, ...\n",
            "Connecting to raw.githubusercontent.com (raw.githubusercontent.com)|185.199.109.133|:443... connected.\n",
            "HTTP request sent, awaiting response... 200 OK\n",
            "Length: 25113 (25K) [text/plain]\n",
            "Saving to: ‘dataset/ThoraricSurgery.csv’\n",
            "\n",
            "ThoraricSurgery.csv 100%[===================>]  24.52K  --.-KB/s    in 0s      \n",
            "\n",
            "2021-11-22 01:27:24 (106 MB/s) - ‘dataset/ThoraricSurgery.csv’ saved [25113/25113]\n",
            "\n",
            "--2021-11-22 01:27:24--  https://raw.githubusercontent.com/GiuseppeMoscarelli/Thoracic-Surgery/main/dataset/ThoracicSurgery_Smote_train.csv\n",
            "Resolving raw.githubusercontent.com (raw.githubusercontent.com)... 185.199.110.133, 185.199.111.133, 185.199.109.133, ...\n",
            "Connecting to raw.githubusercontent.com (raw.githubusercontent.com)|185.199.110.133|:443... connected.\n",
            "HTTP request sent, awaiting response... 200 OK\n",
            "Length: 51212 (50K) [text/plain]\n",
            "Saving to: ‘dataset/ThoracicSurgery_Smote_train.csv’\n",
            "\n",
            "ThoracicSurgery_Smo 100%[===================>]  50.01K  --.-KB/s    in 0.001s  \n",
            "\n",
            "2021-11-22 01:27:24 (53.9 MB/s) - ‘dataset/ThoracicSurgery_Smote_train.csv’ saved [51212/51212]\n",
            "\n",
            "--2021-11-22 01:27:24--  https://raw.githubusercontent.com/GiuseppeMoscarelli/Thoracic-Surgery/main/dataset/ThoracicSurgery_test.csv\n",
            "Resolving raw.githubusercontent.com (raw.githubusercontent.com)... 185.199.108.133, 185.199.109.133, 185.199.110.133, ...\n",
            "Connecting to raw.githubusercontent.com (raw.githubusercontent.com)|185.199.108.133|:443... connected.\n",
            "HTTP request sent, awaiting response... 200 OK\n",
            "Length: 12981 (13K) [text/plain]\n",
            "Saving to: ‘dataset/ThoracicSurgery_test.csv’\n",
            "\n",
            "ThoracicSurgery_tes 100%[===================>]  12.68K  --.-KB/s    in 0s      \n",
            "\n",
            "2021-11-22 01:27:24 (67.8 MB/s) - ‘dataset/ThoracicSurgery_test.csv’ saved [12981/12981]\n",
            "\n",
            "--2021-11-22 01:27:25--  https://raw.githubusercontent.com/GiuseppeMoscarelli/Thoracic-Surgery/main/dataset/ThoracicSurgery_with_outliers_normalized_train.csv\n",
            "Resolving raw.githubusercontent.com (raw.githubusercontent.com)... 185.199.109.133, 185.199.111.133, 185.199.108.133, ...\n",
            "Connecting to raw.githubusercontent.com (raw.githubusercontent.com)|185.199.109.133|:443... connected.\n",
            "HTTP request sent, awaiting response... 200 OK\n",
            "Length: 32680 (32K) [text/plain]\n",
            "Saving to: ‘dataset/ThoracicSurgery_with_outliers_normalized_train.csv’\n",
            "\n",
            "ThoracicSurgery_wit 100%[===================>]  31.91K  --.-KB/s    in 0s      \n",
            "\n",
            "2021-11-22 01:27:25 (131 MB/s) - ‘dataset/ThoracicSurgery_with_outliers_normalized_train.csv’ saved [32680/32680]\n",
            "\n",
            "--2021-11-22 01:27:25--  https://raw.githubusercontent.com/GiuseppeMoscarelli/Thoracic-Surgery/main/finetuned_list.txt\n",
            "Resolving raw.githubusercontent.com (raw.githubusercontent.com)... 185.199.108.133, 185.199.109.133, 185.199.110.133, ...\n",
            "Connecting to raw.githubusercontent.com (raw.githubusercontent.com)|185.199.108.133|:443... connected.\n",
            "HTTP request sent, awaiting response... 200 OK\n",
            "Length: 2479 (2.4K) [text/plain]\n",
            "Saving to: ‘./finetuned_list.txt’\n",
            "\n",
            "finetuned_list.txt  100%[===================>]   2.42K  --.-KB/s    in 0s      \n",
            "\n",
            "2021-11-22 01:27:25 (42.5 MB/s) - ‘./finetuned_list.txt’ saved [2479/2479]\n",
            "\n"
          ]
        }
      ]
    },
    {
      "cell_type": "markdown",
      "metadata": {
        "id": "5rRzcpaBW_Ya"
      },
      "source": [
        "**###########################################################**\n",
        "\n",
        "**De-comment this cell to download the already trained classifiers and save time!**\n",
        "\n",
        "**###########################################################**\n"
      ]
    },
    {
      "cell_type": "code",
      "metadata": {
        "id": "nEjvB_sgRuBy",
        "colab": {
          "base_uri": "https://localhost:8080/"
        },
        "outputId": "d308a2cd-c74f-4335-923a-f5ee32a251f3"
      },
      "source": [
        "models_file = open('finetuned_list.txt', 'r')\n",
        "models = models_file.readlines()\n",
        "\n",
        "for model in models:\n",
        " print(\"model: \", model)\n",
        " !pwd\n",
        " !wget -P tuned_classifiers -nc https://raw.githubusercontent.com/GiuseppeMoscarelli/Thoracic-Surgery/main/finetuned_models/{model} "
      ],
      "execution_count": null,
      "outputs": [
        {
          "output_type": "stream",
          "name": "stdout",
          "text": [
            "model:  DecisionTree_PCA_accuracy_tuned_model.joblib\n",
            "\n",
            "/content\n",
            "--2021-11-22 01:27:25--  https://raw.githubusercontent.com/GiuseppeMoscarelli/Thoracic-Surgery/main/finetuned_models/DecisionTree_PCA_accuracy_tuned_model.joblib\n",
            "Resolving raw.githubusercontent.com (raw.githubusercontent.com)... 185.199.108.133, 185.199.109.133, 185.199.110.133, ...\n",
            "Connecting to raw.githubusercontent.com (raw.githubusercontent.com)|185.199.108.133|:443... connected.\n",
            "HTTP request sent, awaiting response... 200 OK\n",
            "Length: 2928 (2.9K) [application/octet-stream]\n",
            "Saving to: ‘tuned_classifiers/DecisionTree_PCA_accuracy_tuned_model.joblib’\n",
            "\n",
            "DecisionTree_PCA_ac 100%[===================>]   2.86K  --.-KB/s    in 0s      \n",
            "\n",
            "2021-11-22 01:27:25 (35.4 MB/s) - ‘tuned_classifiers/DecisionTree_PCA_accuracy_tuned_model.joblib’ saved [2928/2928]\n",
            "\n",
            "model:  DecisionTree_PCA_recall_tuned_model.joblib\n",
            "\n",
            "/content\n",
            "--2021-11-22 01:27:25--  https://raw.githubusercontent.com/GiuseppeMoscarelli/Thoracic-Surgery/main/finetuned_models/DecisionTree_PCA_recall_tuned_model.joblib\n",
            "Resolving raw.githubusercontent.com (raw.githubusercontent.com)... 185.199.108.133, 185.199.109.133, 185.199.110.133, ...\n",
            "Connecting to raw.githubusercontent.com (raw.githubusercontent.com)|185.199.108.133|:443... connected.\n",
            "HTTP request sent, awaiting response... 200 OK\n",
            "Length: 2931 (2.9K) [application/octet-stream]\n",
            "Saving to: ‘tuned_classifiers/DecisionTree_PCA_recall_tuned_model.joblib’\n",
            "\n",
            "DecisionTree_PCA_re 100%[===================>]   2.86K  --.-KB/s    in 0s      \n",
            "\n",
            "2021-11-22 01:27:25 (34.5 MB/s) - ‘tuned_classifiers/DecisionTree_PCA_recall_tuned_model.joblib’ saved [2931/2931]\n",
            "\n",
            "model:  DecisionTree_SMOTE_accuracy_tuned_model.joblib\n",
            "\n",
            "/content\n",
            "--2021-11-22 01:27:25--  https://raw.githubusercontent.com/GiuseppeMoscarelli/Thoracic-Surgery/main/finetuned_models/DecisionTree_SMOTE_accuracy_tuned_model.joblib\n",
            "Resolving raw.githubusercontent.com (raw.githubusercontent.com)... 185.199.108.133, 185.199.109.133, 185.199.110.133, ...\n",
            "Connecting to raw.githubusercontent.com (raw.githubusercontent.com)|185.199.108.133|:443... connected.\n",
            "HTTP request sent, awaiting response... 200 OK\n",
            "Length: 6953 (6.8K) [application/octet-stream]\n",
            "Saving to: ‘tuned_classifiers/DecisionTree_SMOTE_accuracy_tuned_model.joblib’\n",
            "\n",
            "DecisionTree_SMOTE_ 100%[===================>]   6.79K  --.-KB/s    in 0s      \n",
            "\n",
            "2021-11-22 01:27:27 (48.5 MB/s) - ‘tuned_classifiers/DecisionTree_SMOTE_accuracy_tuned_model.joblib’ saved [6953/6953]\n",
            "\n",
            "model:  DecisionTree_SMOTE_recall_tuned_model.joblib\n",
            "\n",
            "/content\n",
            "--2021-11-22 01:27:27--  https://raw.githubusercontent.com/GiuseppeMoscarelli/Thoracic-Surgery/main/finetuned_models/DecisionTree_SMOTE_recall_tuned_model.joblib\n",
            "Resolving raw.githubusercontent.com (raw.githubusercontent.com)... 185.199.108.133, 185.199.109.133, 185.199.110.133, ...\n",
            "Connecting to raw.githubusercontent.com (raw.githubusercontent.com)|185.199.108.133|:443... connected.\n",
            "HTTP request sent, awaiting response... 200 OK\n",
            "Length: 2345 (2.3K) [application/octet-stream]\n",
            "Saving to: ‘tuned_classifiers/DecisionTree_SMOTE_recall_tuned_model.joblib’\n",
            "\n",
            "DecisionTree_SMOTE_ 100%[===================>]   2.29K  --.-KB/s    in 0s      \n",
            "\n",
            "2021-11-22 01:27:28 (25.8 MB/s) - ‘tuned_classifiers/DecisionTree_SMOTE_recall_tuned_model.joblib’ saved [2345/2345]\n",
            "\n",
            "model:  DecisionTree_no_oversampling_accuracy_tuned_model.joblib\n",
            "\n",
            "/content\n",
            "--2021-11-22 01:27:28--  https://raw.githubusercontent.com/GiuseppeMoscarelli/Thoracic-Surgery/main/finetuned_models/DecisionTree_no_oversampling_accuracy_tuned_model.joblib\n",
            "Resolving raw.githubusercontent.com (raw.githubusercontent.com)... 185.199.108.133, 185.199.109.133, 185.199.111.133, ...\n",
            "Connecting to raw.githubusercontent.com (raw.githubusercontent.com)|185.199.108.133|:443... connected.\n",
            "HTTP request sent, awaiting response... 200 OK\n",
            "Length: 2348 (2.3K) [application/octet-stream]\n",
            "Saving to: ‘tuned_classifiers/DecisionTree_no_oversampling_accuracy_tuned_model.joblib’\n",
            "\n",
            "DecisionTree_no_ove 100%[===================>]   2.29K  --.-KB/s    in 0s      \n",
            "\n",
            "2021-11-22 01:27:28 (36.0 MB/s) - ‘tuned_classifiers/DecisionTree_no_oversampling_accuracy_tuned_model.joblib’ saved [2348/2348]\n",
            "\n",
            "model:  DecisionTree_no_oversampling_recall_tuned_model.joblib\n",
            "\n",
            "/content\n",
            "--2021-11-22 01:27:28--  https://raw.githubusercontent.com/GiuseppeMoscarelli/Thoracic-Surgery/main/finetuned_models/DecisionTree_no_oversampling_recall_tuned_model.joblib\n",
            "Resolving raw.githubusercontent.com (raw.githubusercontent.com)... 185.199.108.133, 185.199.109.133, 185.199.110.133, ...\n",
            "Connecting to raw.githubusercontent.com (raw.githubusercontent.com)|185.199.108.133|:443... connected.\n",
            "HTTP request sent, awaiting response... 200 OK\n",
            "Length: 7244 (7.1K) [application/octet-stream]\n",
            "Saving to: ‘tuned_classifiers/DecisionTree_no_oversampling_recall_tuned_model.joblib’\n",
            "\n",
            "DecisionTree_no_ove 100%[===================>]   7.07K  --.-KB/s    in 0s      \n",
            "\n",
            "2021-11-22 01:27:28 (75.2 MB/s) - ‘tuned_classifiers/DecisionTree_no_oversampling_recall_tuned_model.joblib’ saved [7244/7244]\n",
            "\n",
            "model:  DecisionTree_random_oversampling_accuracy_tuned_model.joblib\n",
            "\n",
            "/content\n",
            "--2021-11-22 01:27:28--  https://raw.githubusercontent.com/GiuseppeMoscarelli/Thoracic-Surgery/main/finetuned_models/DecisionTree_random_oversampling_accuracy_tuned_model.joblib\n",
            "Resolving raw.githubusercontent.com (raw.githubusercontent.com)... 185.199.108.133, 185.199.109.133, 185.199.110.133, ...\n",
            "Connecting to raw.githubusercontent.com (raw.githubusercontent.com)|185.199.108.133|:443... connected.\n",
            "HTTP request sent, awaiting response... 200 OK\n",
            "Length: 8393 (8.2K) [application/octet-stream]\n",
            "Saving to: ‘tuned_classifiers/DecisionTree_random_oversampling_accuracy_tuned_model.joblib’\n",
            "\n",
            "DecisionTree_random 100%[===================>]   8.20K  --.-KB/s    in 0s      \n",
            "\n",
            "2021-11-22 01:27:28 (89.6 MB/s) - ‘tuned_classifiers/DecisionTree_random_oversampling_accuracy_tuned_model.joblib’ saved [8393/8393]\n",
            "\n",
            "model:  DecisionTree_random_oversampling_recall_tuned_model.joblib\n",
            "\n",
            "/content\n",
            "--2021-11-22 01:27:29--  https://raw.githubusercontent.com/GiuseppeMoscarelli/Thoracic-Surgery/main/finetuned_models/DecisionTree_random_oversampling_recall_tuned_model.joblib\n",
            "Resolving raw.githubusercontent.com (raw.githubusercontent.com)... 185.199.108.133, 185.199.109.133, 185.199.110.133, ...\n",
            "Connecting to raw.githubusercontent.com (raw.githubusercontent.com)|185.199.108.133|:443... connected.\n",
            "HTTP request sent, awaiting response... 200 OK\n",
            "Length: 7385 (7.2K) [application/octet-stream]\n",
            "Saving to: ‘tuned_classifiers/DecisionTree_random_oversampling_recall_tuned_model.joblib’\n",
            "\n",
            "DecisionTree_random 100%[===================>]   7.21K  --.-KB/s    in 0s      \n",
            "\n",
            "2021-11-22 01:27:29 (68.0 MB/s) - ‘tuned_classifiers/DecisionTree_random_oversampling_recall_tuned_model.joblib’ saved [7385/7385]\n",
            "\n",
            "model:  DecisionTree_with_outliers_accuracy_tuned_model.joblib\n",
            "\n",
            "/content\n",
            "--2021-11-22 01:27:29--  https://raw.githubusercontent.com/GiuseppeMoscarelli/Thoracic-Surgery/main/finetuned_models/DecisionTree_with_outliers_accuracy_tuned_model.joblib\n",
            "Resolving raw.githubusercontent.com (raw.githubusercontent.com)... 185.199.108.133, 185.199.109.133, 185.199.110.133, ...\n",
            "Connecting to raw.githubusercontent.com (raw.githubusercontent.com)|185.199.108.133|:443... connected.\n",
            "HTTP request sent, awaiting response... 200 OK\n",
            "Length: 2362 (2.3K) [application/octet-stream]\n",
            "Saving to: ‘tuned_classifiers/DecisionTree_with_outliers_accuracy_tuned_model.joblib’\n",
            "\n",
            "DecisionTree_with_o 100%[===================>]   2.31K  --.-KB/s    in 0s      \n",
            "\n",
            "2021-11-22 01:27:29 (36.4 MB/s) - ‘tuned_classifiers/DecisionTree_with_outliers_accuracy_tuned_model.joblib’ saved [2362/2362]\n",
            "\n",
            "model:  DecisionTree_with_outliers_recall_tuned_model.joblib\n",
            "\n",
            "/content\n",
            "--2021-11-22 01:27:29--  https://raw.githubusercontent.com/GiuseppeMoscarelli/Thoracic-Surgery/main/finetuned_models/DecisionTree_with_outliers_recall_tuned_model.joblib\n",
            "Resolving raw.githubusercontent.com (raw.githubusercontent.com)... 185.199.110.133, 185.199.108.133, 185.199.111.133, ...\n",
            "Connecting to raw.githubusercontent.com (raw.githubusercontent.com)|185.199.110.133|:443... connected.\n",
            "HTTP request sent, awaiting response... 200 OK\n",
            "Length: 7978 (7.8K) [application/octet-stream]\n",
            "Saving to: ‘tuned_classifiers/DecisionTree_with_outliers_recall_tuned_model.joblib’\n",
            "\n",
            "DecisionTree_with_o 100%[===================>]   7.79K  --.-KB/s    in 0s      \n",
            "\n",
            "2021-11-22 01:27:29 (76.7 MB/s) - ‘tuned_classifiers/DecisionTree_with_outliers_recall_tuned_model.joblib’ saved [7978/7978]\n",
            "\n",
            "model:  KNN_PCA_accuracy_tuned_model.joblib\n",
            "\n",
            "/content\n",
            "--2021-11-22 01:27:29--  https://raw.githubusercontent.com/GiuseppeMoscarelli/Thoracic-Surgery/main/finetuned_models/KNN_PCA_accuracy_tuned_model.joblib\n",
            "Resolving raw.githubusercontent.com (raw.githubusercontent.com)... 185.199.109.133, 185.199.111.133, 185.199.108.133, ...\n",
            "Connecting to raw.githubusercontent.com (raw.githubusercontent.com)|185.199.109.133|:443... connected.\n",
            "HTTP request sent, awaiting response... 200 OK\n",
            "Length: 268320 (262K) [application/octet-stream]\n",
            "Saving to: ‘tuned_classifiers/KNN_PCA_accuracy_tuned_model.joblib’\n",
            "\n",
            "KNN_PCA_accuracy_tu 100%[===================>] 262.03K  --.-KB/s    in 0.004s  \n",
            "\n",
            "2021-11-22 01:27:29 (63.0 MB/s) - ‘tuned_classifiers/KNN_PCA_accuracy_tuned_model.joblib’ saved [268320/268320]\n",
            "\n",
            "model:  KNN_PCA_recall_tuned_model.joblib\n",
            "\n",
            "/content\n",
            "--2021-11-22 01:27:30--  https://raw.githubusercontent.com/GiuseppeMoscarelli/Thoracic-Surgery/main/finetuned_models/KNN_PCA_recall_tuned_model.joblib\n",
            "Resolving raw.githubusercontent.com (raw.githubusercontent.com)... 185.199.108.133, 185.199.109.133, 185.199.110.133, ...\n",
            "Connecting to raw.githubusercontent.com (raw.githubusercontent.com)|185.199.108.133|:443... connected.\n",
            "HTTP request sent, awaiting response... 200 OK\n",
            "Length: 268320 (262K) [application/octet-stream]\n",
            "Saving to: ‘tuned_classifiers/KNN_PCA_recall_tuned_model.joblib’\n",
            "\n",
            "KNN_PCA_recall_tune 100%[===================>] 262.03K  --.-KB/s    in 0.005s  \n",
            "\n",
            "2021-11-22 01:27:30 (47.1 MB/s) - ‘tuned_classifiers/KNN_PCA_recall_tuned_model.joblib’ saved [268320/268320]\n",
            "\n",
            "model:  KNN_SMOTE_accuracy_tuned_model.joblib\n",
            "\n",
            "/content\n",
            "--2021-11-22 01:27:30--  https://raw.githubusercontent.com/GiuseppeMoscarelli/Thoracic-Surgery/main/finetuned_models/KNN_SMOTE_accuracy_tuned_model.joblib\n",
            "Resolving raw.githubusercontent.com (raw.githubusercontent.com)... 185.199.110.133, 185.199.108.133, 185.199.109.133, ...\n",
            "Connecting to raw.githubusercontent.com (raw.githubusercontent.com)|185.199.110.133|:443... connected.\n",
            "HTTP request sent, awaiting response... 200 OK\n",
            "Length: 74825 (73K) [application/octet-stream]\n",
            "Saving to: ‘tuned_classifiers/KNN_SMOTE_accuracy_tuned_model.joblib’\n",
            "\n",
            "KNN_SMOTE_accuracy_ 100%[===================>]  73.07K  --.-KB/s    in 0.002s  \n",
            "\n",
            "2021-11-22 01:27:30 (32.0 MB/s) - ‘tuned_classifiers/KNN_SMOTE_accuracy_tuned_model.joblib’ saved [74825/74825]\n",
            "\n",
            "model:  KNN_SMOTE_recall_tuned_model.joblib\n",
            "\n",
            "/content\n",
            "--2021-11-22 01:27:30--  https://raw.githubusercontent.com/GiuseppeMoscarelli/Thoracic-Surgery/main/finetuned_models/KNN_SMOTE_recall_tuned_model.joblib\n",
            "Resolving raw.githubusercontent.com (raw.githubusercontent.com)... 185.199.108.133, 185.199.109.133, 185.199.110.133, ...\n",
            "Connecting to raw.githubusercontent.com (raw.githubusercontent.com)|185.199.108.133|:443... connected.\n",
            "HTTP request sent, awaiting response... 200 OK\n",
            "Length: 74824 (73K) [application/octet-stream]\n",
            "Saving to: ‘tuned_classifiers/KNN_SMOTE_recall_tuned_model.joblib’\n",
            "\n",
            "KNN_SMOTE_recall_tu 100%[===================>]  73.07K  --.-KB/s    in 0.002s  \n",
            "\n",
            "2021-11-22 01:27:30 (40.7 MB/s) - ‘tuned_classifiers/KNN_SMOTE_recall_tuned_model.joblib’ saved [74824/74824]\n",
            "\n",
            "model:  KNN_no_oversampling_accuracy_tuned_model.joblib\n",
            "\n",
            "/content\n",
            "--2021-11-22 01:27:31--  https://raw.githubusercontent.com/GiuseppeMoscarelli/Thoracic-Surgery/main/finetuned_models/KNN_no_oversampling_accuracy_tuned_model.joblib\n",
            "Resolving raw.githubusercontent.com (raw.githubusercontent.com)... 185.199.108.133, 185.199.109.133, 185.199.110.133, ...\n",
            "Connecting to raw.githubusercontent.com (raw.githubusercontent.com)|185.199.108.133|:443... connected.\n",
            "HTTP request sent, awaiting response... 200 OK\n",
            "Length: 44633 (44K) [application/octet-stream]\n",
            "Saving to: ‘tuned_classifiers/KNN_no_oversampling_accuracy_tuned_model.joblib’\n",
            "\n",
            "KNN_no_oversampling 100%[===================>]  43.59K  --.-KB/s    in 0.001s  \n",
            "\n",
            "2021-11-22 01:27:31 (37.0 MB/s) - ‘tuned_classifiers/KNN_no_oversampling_accuracy_tuned_model.joblib’ saved [44633/44633]\n",
            "\n",
            "model:  KNN_no_oversampling_recall_tuned_model.joblib\n",
            "\n",
            "/content\n",
            "--2021-11-22 01:27:31--  https://raw.githubusercontent.com/GiuseppeMoscarelli/Thoracic-Surgery/main/finetuned_models/KNN_no_oversampling_recall_tuned_model.joblib\n",
            "Resolving raw.githubusercontent.com (raw.githubusercontent.com)... 185.199.108.133, 185.199.111.133, 185.199.109.133, ...\n",
            "Connecting to raw.githubusercontent.com (raw.githubusercontent.com)|185.199.108.133|:443... connected.\n",
            "HTTP request sent, awaiting response... 200 OK\n",
            "Length: 44632 (44K) [application/octet-stream]\n",
            "Saving to: ‘tuned_classifiers/KNN_no_oversampling_recall_tuned_model.joblib’\n",
            "\n",
            "KNN_no_oversampling 100%[===================>]  43.59K  --.-KB/s    in 0.001s  \n",
            "\n",
            "2021-11-22 01:27:31 (79.0 MB/s) - ‘tuned_classifiers/KNN_no_oversampling_recall_tuned_model.joblib’ saved [44632/44632]\n",
            "\n",
            "model:  KNN_random_oversampling_accuracy_tuned_model.joblib\n",
            "\n",
            "/content\n",
            "--2021-11-22 01:27:31--  https://raw.githubusercontent.com/GiuseppeMoscarelli/Thoracic-Surgery/main/finetuned_models/KNN_random_oversampling_accuracy_tuned_model.joblib\n",
            "Resolving raw.githubusercontent.com (raw.githubusercontent.com)... 185.199.108.133, 185.199.109.133, 185.199.110.133, ...\n",
            "Connecting to raw.githubusercontent.com (raw.githubusercontent.com)|185.199.108.133|:443... connected.\n",
            "HTTP request sent, awaiting response... 200 OK\n",
            "Length: 74824 (73K) [application/octet-stream]\n",
            "Saving to: ‘tuned_classifiers/KNN_random_oversampling_accuracy_tuned_model.joblib’\n",
            "\n",
            "KNN_random_oversamp 100%[===================>]  73.07K  --.-KB/s    in 0.002s  \n",
            "\n",
            "2021-11-22 01:27:31 (34.2 MB/s) - ‘tuned_classifiers/KNN_random_oversampling_accuracy_tuned_model.joblib’ saved [74824/74824]\n",
            "\n",
            "model:  KNN_random_oversampling_recall_tuned_model.joblib\n",
            "\n",
            "/content\n",
            "--2021-11-22 01:27:32--  https://raw.githubusercontent.com/GiuseppeMoscarelli/Thoracic-Surgery/main/finetuned_models/KNN_random_oversampling_recall_tuned_model.joblib\n",
            "Resolving raw.githubusercontent.com (raw.githubusercontent.com)... 185.199.108.133, 185.199.109.133, 185.199.110.133, ...\n",
            "Connecting to raw.githubusercontent.com (raw.githubusercontent.com)|185.199.108.133|:443... connected.\n",
            "HTTP request sent, awaiting response... 200 OK\n",
            "Length: 74825 (73K) [application/octet-stream]\n",
            "Saving to: ‘tuned_classifiers/KNN_random_oversampling_recall_tuned_model.joblib’\n",
            "\n",
            "KNN_random_oversamp 100%[===================>]  73.07K  --.-KB/s    in 0.002s  \n",
            "\n",
            "2021-11-22 01:27:32 (38.5 MB/s) - ‘tuned_classifiers/KNN_random_oversampling_recall_tuned_model.joblib’ saved [74825/74825]\n",
            "\n",
            "model:  KNN_with_outliers_accuracy_tuned_model.joblib\n",
            "\n",
            "/content\n",
            "--2021-11-22 01:27:32--  https://raw.githubusercontent.com/GiuseppeMoscarelli/Thoracic-Surgery/main/finetuned_models/KNN_with_outliers_accuracy_tuned_model.joblib\n",
            "Resolving raw.githubusercontent.com (raw.githubusercontent.com)... 185.199.108.133, 185.199.109.133, 185.199.110.133, ...\n",
            "Connecting to raw.githubusercontent.com (raw.githubusercontent.com)|185.199.108.133|:443... connected.\n",
            "HTTP request sent, awaiting response... 200 OK\n",
            "Length: 48777 (48K) [application/octet-stream]\n",
            "Saving to: ‘tuned_classifiers/KNN_with_outliers_accuracy_tuned_model.joblib’\n",
            "\n",
            "KNN_with_outliers_a 100%[===================>]  47.63K  --.-KB/s    in 0.001s  \n",
            "\n",
            "2021-11-22 01:27:32 (41.2 MB/s) - ‘tuned_classifiers/KNN_with_outliers_accuracy_tuned_model.joblib’ saved [48777/48777]\n",
            "\n",
            "model:  KNN_with_outliers_recall_tuned_model.joblib\n",
            "\n",
            "/content\n",
            "--2021-11-22 01:27:32--  https://raw.githubusercontent.com/GiuseppeMoscarelli/Thoracic-Surgery/main/finetuned_models/KNN_with_outliers_recall_tuned_model.joblib\n",
            "Resolving raw.githubusercontent.com (raw.githubusercontent.com)... 185.199.108.133, 185.199.109.133, 185.199.110.133, ...\n",
            "Connecting to raw.githubusercontent.com (raw.githubusercontent.com)|185.199.108.133|:443... connected.\n",
            "HTTP request sent, awaiting response... 200 OK\n",
            "Length: 48777 (48K) [application/octet-stream]\n",
            "Saving to: ‘tuned_classifiers/KNN_with_outliers_recall_tuned_model.joblib’\n",
            "\n",
            "KNN_with_outliers_r 100%[===================>]  47.63K  --.-KB/s    in 0s      \n",
            "\n",
            "2021-11-22 01:27:32 (93.9 MB/s) - ‘tuned_classifiers/KNN_with_outliers_recall_tuned_model.joblib’ saved [48777/48777]\n",
            "\n",
            "model:  LogisticRegression_PCA_accuracy_tuned_model.joblib\n",
            "\n",
            "/content\n",
            "--2021-11-22 01:27:33--  https://raw.githubusercontent.com/GiuseppeMoscarelli/Thoracic-Surgery/main/finetuned_models/LogisticRegression_PCA_accuracy_tuned_model.joblib\n",
            "Resolving raw.githubusercontent.com (raw.githubusercontent.com)... 185.199.108.133, 185.199.109.133, 185.199.110.133, ...\n",
            "Connecting to raw.githubusercontent.com (raw.githubusercontent.com)|185.199.108.133|:443... connected.\n",
            "HTTP request sent, awaiting response... 200 OK\n",
            "Length: 1356 (1.3K) [application/octet-stream]\n",
            "Saving to: ‘tuned_classifiers/LogisticRegression_PCA_accuracy_tuned_model.joblib’\n",
            "\n",
            "LogisticRegression_ 100%[===================>]   1.32K  --.-KB/s    in 0s      \n",
            "\n",
            "2021-11-22 01:27:33 (58.6 MB/s) - ‘tuned_classifiers/LogisticRegression_PCA_accuracy_tuned_model.joblib’ saved [1356/1356]\n",
            "\n",
            "model:  LogisticRegression_PCA_recall_tuned_model.joblib\n",
            "\n",
            "/content\n",
            "--2021-11-22 01:27:33--  https://raw.githubusercontent.com/GiuseppeMoscarelli/Thoracic-Surgery/main/finetuned_models/LogisticRegression_PCA_recall_tuned_model.joblib\n",
            "Resolving raw.githubusercontent.com (raw.githubusercontent.com)... 185.199.108.133, 185.199.109.133, 185.199.110.133, ...\n",
            "Connecting to raw.githubusercontent.com (raw.githubusercontent.com)|185.199.108.133|:443... connected.\n",
            "HTTP request sent, awaiting response... 200 OK\n",
            "Length: 1356 (1.3K) [application/octet-stream]\n",
            "Saving to: ‘tuned_classifiers/LogisticRegression_PCA_recall_tuned_model.joblib’\n",
            "\n",
            "LogisticRegression_ 100%[===================>]   1.32K  --.-KB/s    in 0s      \n",
            "\n",
            "2021-11-22 01:27:33 (39.0 MB/s) - ‘tuned_classifiers/LogisticRegression_PCA_recall_tuned_model.joblib’ saved [1356/1356]\n",
            "\n",
            "model:  LogisticRegression_SMOTE_accuracy_tuned_model.joblib\n",
            "\n",
            "/content\n",
            "--2021-11-22 01:27:33--  https://raw.githubusercontent.com/GiuseppeMoscarelli/Thoracic-Surgery/main/finetuned_models/LogisticRegression_SMOTE_accuracy_tuned_model.joblib\n",
            "Resolving raw.githubusercontent.com (raw.githubusercontent.com)... 185.199.108.133, 185.199.109.133, 185.199.110.133, ...\n",
            "Connecting to raw.githubusercontent.com (raw.githubusercontent.com)|185.199.108.133|:443... connected.\n",
            "HTTP request sent, awaiting response... 200 OK\n",
            "Length: 1548 (1.5K) [application/octet-stream]\n",
            "Saving to: ‘tuned_classifiers/LogisticRegression_SMOTE_accuracy_tuned_model.joblib’\n",
            "\n",
            "LogisticRegression_ 100%[===================>]   1.51K  --.-KB/s    in 0s      \n",
            "\n",
            "2021-11-22 01:27:33 (26.9 MB/s) - ‘tuned_classifiers/LogisticRegression_SMOTE_accuracy_tuned_model.joblib’ saved [1548/1548]\n",
            "\n",
            "model:  LogisticRegression_SMOTE_recall_tuned_model.joblib\n",
            "\n",
            "/content\n",
            "--2021-11-22 01:27:33--  https://raw.githubusercontent.com/GiuseppeMoscarelli/Thoracic-Surgery/main/finetuned_models/LogisticRegression_SMOTE_recall_tuned_model.joblib\n",
            "Resolving raw.githubusercontent.com (raw.githubusercontent.com)... 185.199.108.133, 185.199.109.133, 185.199.110.133, ...\n",
            "Connecting to raw.githubusercontent.com (raw.githubusercontent.com)|185.199.108.133|:443... connected.\n",
            "HTTP request sent, awaiting response... 200 OK\n",
            "Length: 1555 (1.5K) [application/octet-stream]\n",
            "Saving to: ‘tuned_classifiers/LogisticRegression_SMOTE_recall_tuned_model.joblib’\n",
            "\n",
            "LogisticRegression_ 100%[===================>]   1.52K  --.-KB/s    in 0s      \n",
            "\n",
            "2021-11-22 01:27:33 (29.4 MB/s) - ‘tuned_classifiers/LogisticRegression_SMOTE_recall_tuned_model.joblib’ saved [1555/1555]\n",
            "\n",
            "model:  LogisticRegression_no_oversampling_accuracy_tuned_model.joblib\n",
            "\n",
            "/content\n",
            "--2021-11-22 01:27:34--  https://raw.githubusercontent.com/GiuseppeMoscarelli/Thoracic-Surgery/main/finetuned_models/LogisticRegression_no_oversampling_accuracy_tuned_model.joblib\n",
            "Resolving raw.githubusercontent.com (raw.githubusercontent.com)... 185.199.108.133, 185.199.109.133, 185.199.110.133, ...\n",
            "Connecting to raw.githubusercontent.com (raw.githubusercontent.com)|185.199.108.133|:443... connected.\n",
            "HTTP request sent, awaiting response... 200 OK\n",
            "Length: 1548 (1.5K) [application/octet-stream]\n",
            "Saving to: ‘tuned_classifiers/LogisticRegression_no_oversampling_accuracy_tuned_model.joblib’\n",
            "\n",
            "LogisticRegression_ 100%[===================>]   1.51K  --.-KB/s    in 0s      \n",
            "\n",
            "2021-11-22 01:27:34 (20.1 MB/s) - ‘tuned_classifiers/LogisticRegression_no_oversampling_accuracy_tuned_model.joblib’ saved [1548/1548]\n",
            "\n",
            "model:  LogisticRegression_no_oversampling_recall_tuned_model.joblib\n",
            "\n",
            "/content\n",
            "--2021-11-22 01:27:34--  https://raw.githubusercontent.com/GiuseppeMoscarelli/Thoracic-Surgery/main/finetuned_models/LogisticRegression_no_oversampling_recall_tuned_model.joblib\n",
            "Resolving raw.githubusercontent.com (raw.githubusercontent.com)... 185.199.110.133, 185.199.111.133, 185.199.109.133, ...\n",
            "Connecting to raw.githubusercontent.com (raw.githubusercontent.com)|185.199.110.133|:443... connected.\n",
            "HTTP request sent, awaiting response... 200 OK\n",
            "Length: 1549 (1.5K) [application/octet-stream]\n",
            "Saving to: ‘tuned_classifiers/LogisticRegression_no_oversampling_recall_tuned_model.joblib’\n",
            "\n",
            "LogisticRegression_ 100%[===================>]   1.51K  --.-KB/s    in 0s      \n",
            "\n",
            "2021-11-22 01:27:34 (32.4 MB/s) - ‘tuned_classifiers/LogisticRegression_no_oversampling_recall_tuned_model.joblib’ saved [1549/1549]\n",
            "\n",
            "model:  LogisticRegression_random_oversampling_accuracy_tuned_model.joblib\n",
            "\n",
            "/content\n",
            "--2021-11-22 01:27:34--  https://raw.githubusercontent.com/GiuseppeMoscarelli/Thoracic-Surgery/main/finetuned_models/LogisticRegression_random_oversampling_accuracy_tuned_model.joblib\n",
            "Resolving raw.githubusercontent.com (raw.githubusercontent.com)... 185.199.108.133, 185.199.109.133, 185.199.110.133, ...\n",
            "Connecting to raw.githubusercontent.com (raw.githubusercontent.com)|185.199.108.133|:443... connected.\n",
            "HTTP request sent, awaiting response... 200 OK\n",
            "Length: 1548 (1.5K) [application/octet-stream]\n",
            "Saving to: ‘tuned_classifiers/LogisticRegression_random_oversampling_accuracy_tuned_model.joblib’\n",
            "\n",
            "LogisticRegression_ 100%[===================>]   1.51K  --.-KB/s    in 0s      \n",
            "\n",
            "2021-11-22 01:27:34 (21.4 MB/s) - ‘tuned_classifiers/LogisticRegression_random_oversampling_accuracy_tuned_model.joblib’ saved [1548/1548]\n",
            "\n",
            "model:  LogisticRegression_random_oversampling_recall_tuned_model.joblib\n",
            "\n",
            "/content\n",
            "--2021-11-22 01:27:35--  https://raw.githubusercontent.com/GiuseppeMoscarelli/Thoracic-Surgery/main/finetuned_models/LogisticRegression_random_oversampling_recall_tuned_model.joblib\n",
            "Resolving raw.githubusercontent.com (raw.githubusercontent.com)... 185.199.111.133, 185.199.110.133, 185.199.109.133, ...\n",
            "Connecting to raw.githubusercontent.com (raw.githubusercontent.com)|185.199.111.133|:443... connected.\n",
            "HTTP request sent, awaiting response... 200 OK\n",
            "Length: 1555 (1.5K) [application/octet-stream]\n",
            "Saving to: ‘tuned_classifiers/LogisticRegression_random_oversampling_recall_tuned_model.joblib’\n",
            "\n",
            "LogisticRegression_ 100%[===================>]   1.52K  --.-KB/s    in 0s      \n",
            "\n",
            "2021-11-22 01:27:35 (15.7 MB/s) - ‘tuned_classifiers/LogisticRegression_random_oversampling_recall_tuned_model.joblib’ saved [1555/1555]\n",
            "\n",
            "model:  LogisticRegression_with_outliers_accuracy_tuned_model.joblib\n",
            "\n",
            "/content\n",
            "--2021-11-22 01:27:35--  https://raw.githubusercontent.com/GiuseppeMoscarelli/Thoracic-Surgery/main/finetuned_models/LogisticRegression_with_outliers_accuracy_tuned_model.joblib\n",
            "Resolving raw.githubusercontent.com (raw.githubusercontent.com)... 185.199.110.133, 185.199.111.133, 185.199.108.133, ...\n",
            "Connecting to raw.githubusercontent.com (raw.githubusercontent.com)|185.199.110.133|:443... connected.\n",
            "HTTP request sent, awaiting response... 200 OK\n",
            "Length: 1580 (1.5K) [application/octet-stream]\n",
            "Saving to: ‘tuned_classifiers/LogisticRegression_with_outliers_accuracy_tuned_model.joblib’\n",
            "\n",
            "LogisticRegression_ 100%[===================>]   1.54K  --.-KB/s    in 0s      \n",
            "\n",
            "2021-11-22 01:27:35 (23.2 MB/s) - ‘tuned_classifiers/LogisticRegression_with_outliers_accuracy_tuned_model.joblib’ saved [1580/1580]\n",
            "\n",
            "model:  LogisticRegression_with_outliers_recall_tuned_model.joblib\n",
            "\n",
            "/content\n",
            "--2021-11-22 01:27:35--  https://raw.githubusercontent.com/GiuseppeMoscarelli/Thoracic-Surgery/main/finetuned_models/LogisticRegression_with_outliers_recall_tuned_model.joblib\n",
            "Resolving raw.githubusercontent.com (raw.githubusercontent.com)... 185.199.110.133, 185.199.109.133, 185.199.111.133, ...\n",
            "Connecting to raw.githubusercontent.com (raw.githubusercontent.com)|185.199.110.133|:443... connected.\n",
            "HTTP request sent, awaiting response... 200 OK\n",
            "Length: 1574 (1.5K) [application/octet-stream]\n",
            "Saving to: ‘tuned_classifiers/LogisticRegression_with_outliers_recall_tuned_model.joblib’\n",
            "\n",
            "LogisticRegression_ 100%[===================>]   1.54K  --.-KB/s    in 0s      \n",
            "\n",
            "2021-11-22 01:27:35 (17.5 MB/s) - ‘tuned_classifiers/LogisticRegression_with_outliers_recall_tuned_model.joblib’ saved [1574/1574]\n",
            "\n",
            "model:  RandomForest_PCA_accuracy_tuned_model.joblib\n",
            "\n",
            "/content\n",
            "--2021-11-22 01:27:36--  https://raw.githubusercontent.com/GiuseppeMoscarelli/Thoracic-Surgery/main/finetuned_models/RandomForest_PCA_accuracy_tuned_model.joblib\n",
            "Resolving raw.githubusercontent.com (raw.githubusercontent.com)... 185.199.108.133, 185.199.109.133, 185.199.110.133, ...\n",
            "Connecting to raw.githubusercontent.com (raw.githubusercontent.com)|185.199.108.133|:443... connected.\n",
            "HTTP request sent, awaiting response... 200 OK\n",
            "Length: 1190290 (1.1M) [application/octet-stream]\n",
            "Saving to: ‘tuned_classifiers/RandomForest_PCA_accuracy_tuned_model.joblib’\n",
            "\n",
            "RandomForest_PCA_ac 100%[===================>]   1.13M  --.-KB/s    in 0.009s  \n",
            "\n",
            "2021-11-22 01:27:36 (129 MB/s) - ‘tuned_classifiers/RandomForest_PCA_accuracy_tuned_model.joblib’ saved [1190290/1190290]\n",
            "\n",
            "model:  RandomForest_PCA_recall_tuned_model.joblib\n",
            "\n",
            "/content\n",
            "--2021-11-22 01:27:36--  https://raw.githubusercontent.com/GiuseppeMoscarelli/Thoracic-Surgery/main/finetuned_models/RandomForest_PCA_recall_tuned_model.joblib\n",
            "Resolving raw.githubusercontent.com (raw.githubusercontent.com)... 185.199.108.133, 185.199.109.133, 185.199.110.133, ...\n",
            "Connecting to raw.githubusercontent.com (raw.githubusercontent.com)|185.199.108.133|:443... connected.\n",
            "HTTP request sent, awaiting response... 200 OK\n",
            "Length: 840802 (821K) [application/octet-stream]\n",
            "Saving to: ‘tuned_classifiers/RandomForest_PCA_recall_tuned_model.joblib’\n",
            "\n",
            "RandomForest_PCA_re 100%[===================>] 821.10K  --.-KB/s    in 0.008s  \n",
            "\n",
            "2021-11-22 01:27:36 (98.9 MB/s) - ‘tuned_classifiers/RandomForest_PCA_recall_tuned_model.joblib’ saved [840802/840802]\n",
            "\n",
            "model:  RandomForest_SMOTE_accuracy_tuned_model.joblib\n",
            "\n",
            "/content\n",
            "--2021-11-22 01:27:36--  https://raw.githubusercontent.com/GiuseppeMoscarelli/Thoracic-Surgery/main/finetuned_models/RandomForest_SMOTE_accuracy_tuned_model.joblib\n",
            "Resolving raw.githubusercontent.com (raw.githubusercontent.com)... 185.199.110.133, 185.199.108.133, 185.199.111.133, ...\n",
            "Connecting to raw.githubusercontent.com (raw.githubusercontent.com)|185.199.110.133|:443... connected.\n",
            "HTTP request sent, awaiting response... 200 OK\n",
            "Length: 5340795 (5.1M) [application/octet-stream]\n",
            "Saving to: ‘tuned_classifiers/RandomForest_SMOTE_accuracy_tuned_model.joblib’\n",
            "\n",
            "RandomForest_SMOTE_ 100%[===================>]   5.09M  --.-KB/s    in 0.03s   \n",
            "\n",
            "2021-11-22 01:27:36 (183 MB/s) - ‘tuned_classifiers/RandomForest_SMOTE_accuracy_tuned_model.joblib’ saved [5340795/5340795]\n",
            "\n",
            "model:  RandomForest_SMOTE_recall_tuned_model.joblib\n",
            "\n",
            "/content\n",
            "--2021-11-22 01:27:37--  https://raw.githubusercontent.com/GiuseppeMoscarelli/Thoracic-Surgery/main/finetuned_models/RandomForest_SMOTE_recall_tuned_model.joblib\n",
            "Resolving raw.githubusercontent.com (raw.githubusercontent.com)... 185.199.108.133, 185.199.109.133, 185.199.110.133, ...\n",
            "Connecting to raw.githubusercontent.com (raw.githubusercontent.com)|185.199.108.133|:443... connected.\n",
            "HTTP request sent, awaiting response... 200 OK\n",
            "Length: 51458 (50K) [application/octet-stream]\n",
            "Saving to: ‘tuned_classifiers/RandomForest_SMOTE_recall_tuned_model.joblib’\n",
            "\n",
            "RandomForest_SMOTE_ 100%[===================>]  50.25K  --.-KB/s    in 0.001s  \n",
            "\n",
            "2021-11-22 01:27:37 (43.5 MB/s) - ‘tuned_classifiers/RandomForest_SMOTE_recall_tuned_model.joblib’ saved [51458/51458]\n",
            "\n",
            "model:  RandomForest_no_oversampling_accuracy_tuned_model.joblib\n",
            "\n",
            "/content\n",
            "--2021-11-22 01:27:37--  https://raw.githubusercontent.com/GiuseppeMoscarelli/Thoracic-Surgery/main/finetuned_models/RandomForest_no_oversampling_accuracy_tuned_model.joblib\n",
            "Resolving raw.githubusercontent.com (raw.githubusercontent.com)... 185.199.110.133, 185.199.109.133, 185.199.111.133, ...\n",
            "Connecting to raw.githubusercontent.com (raw.githubusercontent.com)|185.199.110.133|:443... connected.\n",
            "HTTP request sent, awaiting response... 200 OK\n",
            "Length: 10130 (9.9K) [application/octet-stream]\n",
            "Saving to: ‘tuned_classifiers/RandomForest_no_oversampling_accuracy_tuned_model.joblib’\n",
            "\n",
            "RandomForest_no_ove 100%[===================>]   9.89K  --.-KB/s    in 0s      \n",
            "\n",
            "2021-11-22 01:27:37 (78.3 MB/s) - ‘tuned_classifiers/RandomForest_no_oversampling_accuracy_tuned_model.joblib’ saved [10130/10130]\n",
            "\n",
            "model:  RandomForest_no_oversampling_recall_tuned_model.joblib\n",
            "\n",
            "/content\n",
            "--2021-11-22 01:27:37--  https://raw.githubusercontent.com/GiuseppeMoscarelli/Thoracic-Surgery/main/finetuned_models/RandomForest_no_oversampling_recall_tuned_model.joblib\n",
            "Resolving raw.githubusercontent.com (raw.githubusercontent.com)... 185.199.110.133, 185.199.108.133, 185.199.111.133, ...\n",
            "Connecting to raw.githubusercontent.com (raw.githubusercontent.com)|185.199.110.133|:443... connected.\n",
            "HTTP request sent, awaiting response... 200 OK\n",
            "Length: 37058 (36K) [application/octet-stream]\n",
            "Saving to: ‘tuned_classifiers/RandomForest_no_oversampling_recall_tuned_model.joblib’\n",
            "\n",
            "RandomForest_no_ove 100%[===================>]  36.19K  --.-KB/s    in 0s      \n",
            "\n",
            "2021-11-22 01:27:37 (117 MB/s) - ‘tuned_classifiers/RandomForest_no_oversampling_recall_tuned_model.joblib’ saved [37058/37058]\n",
            "\n",
            "model:  RandomForest_random_oversampling_accuracy_tuned_model.joblib\n",
            "\n",
            "/content\n",
            "--2021-11-22 01:27:37--  https://raw.githubusercontent.com/GiuseppeMoscarelli/Thoracic-Surgery/main/finetuned_models/RandomForest_random_oversampling_accuracy_tuned_model.joblib\n",
            "Resolving raw.githubusercontent.com (raw.githubusercontent.com)... 185.199.108.133, 185.199.109.133, 185.199.110.133, ...\n",
            "Connecting to raw.githubusercontent.com (raw.githubusercontent.com)|185.199.108.133|:443... connected.\n",
            "HTTP request sent, awaiting response... 200 OK\n",
            "Length: 487994 (477K) [application/octet-stream]\n",
            "Saving to: ‘tuned_classifiers/RandomForest_random_oversampling_accuracy_tuned_model.joblib’\n",
            "\n",
            "RandomForest_random 100%[===================>] 476.56K  --.-KB/s    in 0.006s  \n",
            "\n",
            "2021-11-22 01:27:38 (80.0 MB/s) - ‘tuned_classifiers/RandomForest_random_oversampling_accuracy_tuned_model.joblib’ saved [487994/487994]\n",
            "\n",
            "model:  RandomForest_random_oversampling_recall_tuned_model.joblib\n",
            "\n",
            "/content\n",
            "--2021-11-22 01:27:38--  https://raw.githubusercontent.com/GiuseppeMoscarelli/Thoracic-Surgery/main/finetuned_models/RandomForest_random_oversampling_recall_tuned_model.joblib\n",
            "Resolving raw.githubusercontent.com (raw.githubusercontent.com)... 185.199.108.133, 185.199.109.133, 185.199.110.133, ...\n",
            "Connecting to raw.githubusercontent.com (raw.githubusercontent.com)|185.199.108.133|:443... connected.\n",
            "HTTP request sent, awaiting response... 200 OK\n",
            "Length: 487994 (477K) [application/octet-stream]\n",
            "Saving to: ‘tuned_classifiers/RandomForest_random_oversampling_recall_tuned_model.joblib’\n",
            "\n",
            "RandomForest_random 100%[===================>] 476.56K  --.-KB/s    in 0.006s  \n",
            "\n",
            "2021-11-22 01:27:38 (82.9 MB/s) - ‘tuned_classifiers/RandomForest_random_oversampling_recall_tuned_model.joblib’ saved [487994/487994]\n",
            "\n",
            "model:  RandomForest_with_outliers_accuracy_tuned_model.joblib\n",
            "\n",
            "/content\n",
            "--2021-11-22 01:27:38--  https://raw.githubusercontent.com/GiuseppeMoscarelli/Thoracic-Surgery/main/finetuned_models/RandomForest_with_outliers_accuracy_tuned_model.joblib\n",
            "Resolving raw.githubusercontent.com (raw.githubusercontent.com)... 185.199.109.133, 185.199.110.133, 185.199.108.133, ...\n",
            "Connecting to raw.githubusercontent.com (raw.githubusercontent.com)|185.199.109.133|:443... connected.\n",
            "HTTP request sent, awaiting response... 200 OK\n",
            "Length: 88699 (87K) [application/octet-stream]\n",
            "Saving to: ‘tuned_classifiers/RandomForest_with_outliers_accuracy_tuned_model.joblib’\n",
            "\n",
            "RandomForest_with_o 100%[===================>]  86.62K  --.-KB/s    in 0.002s  \n",
            "\n",
            "2021-11-22 01:27:38 (49.5 MB/s) - ‘tuned_classifiers/RandomForest_with_outliers_accuracy_tuned_model.joblib’ saved [88699/88699]\n",
            "\n",
            "model:  RandomForest_with_outliers_recall_tuned_model.joblib\n",
            "\n",
            "/content\n",
            "--2021-11-22 01:27:38--  https://raw.githubusercontent.com/GiuseppeMoscarelli/Thoracic-Surgery/main/finetuned_models/RandomForest_with_outliers_recall_tuned_model.joblib\n",
            "Resolving raw.githubusercontent.com (raw.githubusercontent.com)... 185.199.108.133, 185.199.109.133, 185.199.110.133, ...\n",
            "Connecting to raw.githubusercontent.com (raw.githubusercontent.com)|185.199.108.133|:443... connected.\n",
            "HTTP request sent, awaiting response... 200 OK\n",
            "Length: 43555 (43K) [application/octet-stream]\n",
            "Saving to: ‘tuned_classifiers/RandomForest_with_outliers_recall_tuned_model.joblib’\n",
            "\n",
            "RandomForest_with_o 100%[===================>]  42.53K  --.-KB/s    in 0s      \n",
            "\n",
            "2021-11-22 01:27:38 (87.2 MB/s) - ‘tuned_classifiers/RandomForest_with_outliers_recall_tuned_model.joblib’ saved [43555/43555]\n",
            "\n",
            "model:  SVC_PCA_accuracy_tuned_model.joblib\n",
            "\n",
            "/content\n",
            "--2021-11-22 01:27:39--  https://raw.githubusercontent.com/GiuseppeMoscarelli/Thoracic-Surgery/main/finetuned_models/SVC_PCA_accuracy_tuned_model.joblib\n",
            "Resolving raw.githubusercontent.com (raw.githubusercontent.com)... 185.199.108.133, 185.199.109.133, 185.199.110.133, ...\n",
            "Connecting to raw.githubusercontent.com (raw.githubusercontent.com)|185.199.108.133|:443... connected.\n",
            "HTTP request sent, awaiting response... 200 OK\n",
            "Length: 19533 (19K) [application/octet-stream]\n",
            "Saving to: ‘tuned_classifiers/SVC_PCA_accuracy_tuned_model.joblib’\n",
            "\n",
            "SVC_PCA_accuracy_tu 100%[===================>]  19.08K  --.-KB/s    in 0s      \n",
            "\n",
            "2021-11-22 01:27:39 (111 MB/s) - ‘tuned_classifiers/SVC_PCA_accuracy_tuned_model.joblib’ saved [19533/19533]\n",
            "\n",
            "model:  SVC_PCA_recall_tuned_model.joblib\n",
            "\n",
            "/content\n",
            "--2021-11-22 01:27:39--  https://raw.githubusercontent.com/GiuseppeMoscarelli/Thoracic-Surgery/main/finetuned_models/SVC_PCA_recall_tuned_model.joblib\n",
            "Resolving raw.githubusercontent.com (raw.githubusercontent.com)... 185.199.110.133, 185.199.109.133, 185.199.111.133, ...\n",
            "Connecting to raw.githubusercontent.com (raw.githubusercontent.com)|185.199.110.133|:443... connected.\n",
            "HTTP request sent, awaiting response... 200 OK\n",
            "Length: 19533 (19K) [application/octet-stream]\n",
            "Saving to: ‘tuned_classifiers/SVC_PCA_recall_tuned_model.joblib’\n",
            "\n",
            "SVC_PCA_recall_tune 100%[===================>]  19.08K  --.-KB/s    in 0s      \n",
            "\n",
            "2021-11-22 01:27:39 (112 MB/s) - ‘tuned_classifiers/SVC_PCA_recall_tuned_model.joblib’ saved [19533/19533]\n",
            "\n",
            "model:  SVC_SMOTE_accuracy_tuned_model.joblib\n",
            "\n",
            "/content\n",
            "--2021-11-22 01:27:39--  https://raw.githubusercontent.com/GiuseppeMoscarelli/Thoracic-Surgery/main/finetuned_models/SVC_SMOTE_accuracy_tuned_model.joblib\n",
            "Resolving raw.githubusercontent.com (raw.githubusercontent.com)... 185.199.110.133, 185.199.109.133, 185.199.111.133, ...\n",
            "Connecting to raw.githubusercontent.com (raw.githubusercontent.com)|185.199.110.133|:443... connected.\n",
            "HTTP request sent, awaiting response... 200 OK\n",
            "Length: 34467 (34K) [application/octet-stream]\n",
            "Saving to: ‘tuned_classifiers/SVC_SMOTE_accuracy_tuned_model.joblib’\n",
            "\n",
            "SVC_SMOTE_accuracy_ 100%[===================>]  33.66K  --.-KB/s    in 0.001s  \n",
            "\n",
            "2021-11-22 01:27:39 (44.8 MB/s) - ‘tuned_classifiers/SVC_SMOTE_accuracy_tuned_model.joblib’ saved [34467/34467]\n",
            "\n",
            "model:  SVC_SMOTE_recall_tuned_model.joblib\n",
            "\n",
            "/content\n",
            "--2021-11-22 01:27:40--  https://raw.githubusercontent.com/GiuseppeMoscarelli/Thoracic-Surgery/main/finetuned_models/SVC_SMOTE_recall_tuned_model.joblib\n",
            "Resolving raw.githubusercontent.com (raw.githubusercontent.com)... 185.199.108.133, 185.199.109.133, 185.199.110.133, ...\n",
            "Connecting to raw.githubusercontent.com (raw.githubusercontent.com)|185.199.108.133|:443... connected.\n",
            "HTTP request sent, awaiting response... 200 OK\n",
            "Length: 81852 (80K) [application/octet-stream]\n",
            "Saving to: ‘tuned_classifiers/SVC_SMOTE_recall_tuned_model.joblib’\n",
            "\n",
            "SVC_SMOTE_recall_tu 100%[===================>]  79.93K  --.-KB/s    in 0.002s  \n",
            "\n",
            "2021-11-22 01:27:40 (41.9 MB/s) - ‘tuned_classifiers/SVC_SMOTE_recall_tuned_model.joblib’ saved [81852/81852]\n",
            "\n",
            "model:  SVC_no_oversampling_accuracy_tuned_model.joblib\n",
            "\n",
            "/content\n",
            "--2021-11-22 01:27:40--  https://raw.githubusercontent.com/GiuseppeMoscarelli/Thoracic-Surgery/main/finetuned_models/SVC_no_oversampling_accuracy_tuned_model.joblib\n",
            "Resolving raw.githubusercontent.com (raw.githubusercontent.com)... 185.199.108.133, 185.199.109.133, 185.199.110.133, ...\n",
            "Connecting to raw.githubusercontent.com (raw.githubusercontent.com)|185.199.108.133|:443... connected.\n",
            "HTTP request sent, awaiting response... 200 OK\n",
            "Length: 25742 (25K) [application/octet-stream]\n",
            "Saving to: ‘tuned_classifiers/SVC_no_oversampling_accuracy_tuned_model.joblib’\n",
            "\n",
            "SVC_no_oversampling 100%[===================>]  25.14K  --.-KB/s    in 0s      \n",
            "\n",
            "2021-11-22 01:27:40 (99.4 MB/s) - ‘tuned_classifiers/SVC_no_oversampling_accuracy_tuned_model.joblib’ saved [25742/25742]\n",
            "\n",
            "model:  SVC_no_oversampling_recall_tuned_model.joblib\n",
            "\n",
            "/content\n",
            "--2021-11-22 01:27:40--  https://raw.githubusercontent.com/GiuseppeMoscarelli/Thoracic-Surgery/main/finetuned_models/SVC_no_oversampling_recall_tuned_model.joblib\n",
            "Resolving raw.githubusercontent.com (raw.githubusercontent.com)... 185.199.111.133, 185.199.110.133, 185.199.108.133, ...\n",
            "Connecting to raw.githubusercontent.com (raw.githubusercontent.com)|185.199.111.133|:443... connected.\n",
            "HTTP request sent, awaiting response... 200 OK\n",
            "Length: 20421 (20K) [application/octet-stream]\n",
            "Saving to: ‘tuned_classifiers/SVC_no_oversampling_recall_tuned_model.joblib’\n",
            "\n",
            "SVC_no_oversampling 100%[===================>]  19.94K  --.-KB/s    in 0s      \n",
            "\n",
            "2021-11-22 01:27:40 (82.2 MB/s) - ‘tuned_classifiers/SVC_no_oversampling_recall_tuned_model.joblib’ saved [20421/20421]\n",
            "\n",
            "model:  SVC_random_oversampling_accuracy_tuned_model.joblib\n",
            "\n",
            "/content\n",
            "--2021-11-22 01:27:41--  https://raw.githubusercontent.com/GiuseppeMoscarelli/Thoracic-Surgery/main/finetuned_models/SVC_random_oversampling_accuracy_tuned_model.joblib\n",
            "Resolving raw.githubusercontent.com (raw.githubusercontent.com)... 185.199.108.133, 185.199.109.133, 185.199.110.133, ...\n",
            "Connecting to raw.githubusercontent.com (raw.githubusercontent.com)|185.199.108.133|:443... connected.\n",
            "HTTP request sent, awaiting response... 200 OK\n",
            "Length: 40243 (39K) [application/octet-stream]\n",
            "Saving to: ‘tuned_classifiers/SVC_random_oversampling_accuracy_tuned_model.joblib’\n",
            "\n",
            "SVC_random_oversamp 100%[===================>]  39.30K  --.-KB/s    in 0s      \n",
            "\n",
            "2021-11-22 01:27:41 (118 MB/s) - ‘tuned_classifiers/SVC_random_oversampling_accuracy_tuned_model.joblib’ saved [40243/40243]\n",
            "\n",
            "model:  SVC_random_oversampling_recall_tuned_model.joblib\n",
            "\n",
            "/content\n",
            "--2021-11-22 01:27:41--  https://raw.githubusercontent.com/GiuseppeMoscarelli/Thoracic-Surgery/main/finetuned_models/SVC_random_oversampling_recall_tuned_model.joblib\n",
            "Resolving raw.githubusercontent.com (raw.githubusercontent.com)... 185.199.108.133, 185.199.109.133, 185.199.110.133, ...\n",
            "Connecting to raw.githubusercontent.com (raw.githubusercontent.com)|185.199.108.133|:443... connected.\n",
            "HTTP request sent, awaiting response... 200 OK\n",
            "Length: 40243 (39K) [application/octet-stream]\n",
            "Saving to: ‘tuned_classifiers/SVC_random_oversampling_recall_tuned_model.joblib’\n",
            "\n",
            "SVC_random_oversamp 100%[===================>]  39.30K  --.-KB/s    in 0s      \n",
            "\n",
            "2021-11-22 01:27:41 (94.2 MB/s) - ‘tuned_classifiers/SVC_random_oversampling_recall_tuned_model.joblib’ saved [40243/40243]\n",
            "\n",
            "model:  SVC_with_outliers_accuracy_tuned_model.joblib\n",
            "\n",
            "/content\n",
            "--2021-11-22 01:27:41--  https://raw.githubusercontent.com/GiuseppeMoscarelli/Thoracic-Surgery/main/finetuned_models/SVC_with_outliers_accuracy_tuned_model.joblib\n",
            "Resolving raw.githubusercontent.com (raw.githubusercontent.com)... 185.199.108.133, 185.199.109.133, 185.199.110.133, ...\n",
            "Connecting to raw.githubusercontent.com (raw.githubusercontent.com)|185.199.108.133|:443... connected.\n",
            "HTTP request sent, awaiting response... 200 OK\n",
            "Length: 52947 (52K) [application/octet-stream]\n",
            "Saving to: ‘tuned_classifiers/SVC_with_outliers_accuracy_tuned_model.joblib’\n",
            "\n",
            "SVC_with_outliers_a 100%[===================>]  51.71K  --.-KB/s    in 0.001s  \n",
            "\n",
            "2021-11-22 01:27:41 (40.0 MB/s) - ‘tuned_classifiers/SVC_with_outliers_accuracy_tuned_model.joblib’ saved [52947/52947]\n",
            "\n",
            "model:  SVC_with_outliers_recall_tuned_model.joblib\n",
            "/content\n",
            "--2021-11-22 01:27:41--  https://raw.githubusercontent.com/GiuseppeMoscarelli/Thoracic-Surgery/main/finetuned_models/SVC_with_outliers_recall_tuned_model.joblib\n",
            "Resolving raw.githubusercontent.com (raw.githubusercontent.com)... 185.199.110.133, 185.199.108.133, 185.199.111.133, ...\n",
            "Connecting to raw.githubusercontent.com (raw.githubusercontent.com)|185.199.110.133|:443... connected.\n",
            "HTTP request sent, awaiting response... 200 OK\n",
            "Length: 25026 (24K) [application/octet-stream]\n",
            "Saving to: ‘tuned_classifiers/SVC_with_outliers_recall_tuned_model.joblib’\n",
            "\n",
            "SVC_with_outliers_r 100%[===================>]  24.44K  --.-KB/s    in 0s      \n",
            "\n",
            "2021-11-22 01:27:41 (112 MB/s) - ‘tuned_classifiers/SVC_with_outliers_recall_tuned_model.joblib’ saved [25026/25026]\n",
            "\n"
          ]
        }
      ]
    },
    {
      "cell_type": "code",
      "metadata": {
        "id": "1aUQQjQkGZXi"
      },
      "source": [
        "from pathlib import Path\n",
        "import pandas as pd\n",
        "import matplotlib.pyplot as plt\n",
        "import sklearn\n",
        "from sklearn import tree, svm, linear_model, ensemble, neighbors \n",
        "import numpy as np\n",
        "from sklearn.metrics import confusion_matrix\n",
        "from sklearn.model_selection import GridSearchCV\n",
        "from sklearn.metrics import plot_confusion_matrix\n",
        "from joblib import dump, load"
      ],
      "execution_count": null,
      "outputs": []
    },
    {
      "cell_type": "code",
      "metadata": {
        "id": "DY62CiCCM_a-"
      },
      "source": [
        "def remove_prefix(df, col, prefix):\n",
        "    df[col] = df[col].apply(lambda s: int(s.replace(prefix, '')))\n",
        "    df[col] = (df[col] - df[col].min()) / (df[col].max() - df[col].min())  \n",
        "    return df"
      ],
      "execution_count": null,
      "outputs": []
    },
    {
      "cell_type": "code",
      "metadata": {
        "id": "hzvWAk4-Gmvn"
      },
      "source": [
        "DATASET_PATH = Path('.') / 'dataset' \n",
        "\n",
        "def load_dataset(name):\n",
        "    path = DATASET_PATH / name\n",
        "    df = pd.read_csv(path)\n",
        "\n",
        "    if 'pca' not in str(name):\n",
        "      remove_prefix(df, 'Diagnosis', 'DGN')\n",
        "      remove_prefix(df, 'Performance', 'PRZ')\n",
        "      remove_prefix(df, 'Tumor_Size', 'OC')\n",
        "\n",
        "    return df"
      ],
      "execution_count": null,
      "outputs": []
    },
    {
      "cell_type": "markdown",
      "metadata": {
        "id": "6qG-XED4QB69"
      },
      "source": [
        "## Classification loop"
      ]
    },
    {
      "cell_type": "code",
      "metadata": {
        "colab": {
          "base_uri": "https://localhost:8080/"
        },
        "id": "dOkASIDNGm28",
        "outputId": "104f0149-1275-40a8-8f79-cfcd4ee5085d"
      },
      "source": [
        "decision_tree_parameters = {\n",
        "  'max_depth': list(range(2, 10)),\n",
        "  'min_samples_split': list(range(2, 10)),\n",
        "  'criterion' : ['gini', 'entropy'],\n",
        "  'random_state': [42]\n",
        "}\n",
        "\n",
        "SVC_parameters = {\n",
        "  'C': [0.1, 1, 10, 100],\n",
        "  'gamma': [1, 0.1, 0.01, 0.001]\n",
        "}\n",
        "\n",
        "logistic_regression_parameters = {\n",
        "    'penalty': ['l1', 'l2'],\n",
        "    'random_state': [42],\n",
        "    'C': [1000, 100, 10, 1, 0.1, 0.01, 0.001],\n",
        "    'max_iter': [1000],\n",
        "    'solver': ['liblinear']\n",
        "}\n",
        "\n",
        "random_forest_parameters = {\n",
        "    'n_estimators': [10, 100, 1000],\n",
        "    'criterion' : ['gini', 'entropy'],\n",
        "    'random_state': [42],\n",
        "    'max_depth': list(range(2, 8)), #intervallo derivante dal finetuning del decision tree\n",
        "    'min_samples_split': list(range(2, 9)), #intervallo derivante dal finetuning del decision tree\n",
        "    'max_features': ['sqrt'],\n",
        "}\n",
        "\n",
        "KNN_parameters = {\n",
        "    'leaf_size' : list(range(1,50, 4)),\n",
        "    'n_neighbors' : list(range(1,35, 4)), #1+4n is always odd\n",
        "    'p': [1, 2], #power parameter for the Minkowski metric.\n",
        "    'weights': ['uniform', 'distance' ],\n",
        "    'n_jobs' : [-1]\n",
        "}\n",
        "\n",
        "classifiers = {\n",
        "  'DecisionTree': tree.DecisionTreeClassifier(),\n",
        "  'SVC': svm.SVC(),\n",
        "  'LogisticRegression': linear_model.LogisticRegression(),\n",
        "  'RandomForest': ensemble.RandomForestClassifier(),\n",
        "  'KNN': neighbors.KNeighborsClassifier()\n",
        "}\n",
        "\n",
        "classifiers_parameters = {\n",
        "  'DecisionTree': decision_tree_parameters,\n",
        "  'SVC': SVC_parameters,\n",
        "  'LogisticRegression': logistic_regression_parameters,\n",
        "  'RandomForest': random_forest_parameters,\n",
        "  'KNN': KNN_parameters\n",
        "}\n",
        "\n",
        "train_datasets = {\n",
        "  'with_outliers': load_dataset(name= 'ThoracicSurgery_with_outliers_normalized_train.csv'),\n",
        "  'no_oversampling': load_dataset(name='ThoracicSurgery_train.csv'),\n",
        "  'random_oversampling': load_dataset(name='ThoracicSurgery_RandomOverSampler_train.csv'),\n",
        "  'SMOTE': load_dataset(name='ThoracicSurgery_Smote_train.csv'),\n",
        "  'PCA': load_dataset(name='ThoracicSurgery_pca_train.csv')\n",
        "}\n",
        "\n",
        "test_datasets = {\n",
        "  'with_outliers': load_dataset(name= 'ThoracicSurgery_with_outliers_normalized_test.csv'),\n",
        "  'no_oversampling': load_dataset(name='ThoracicSurgery_test.csv'),\n",
        "  'random_oversampling': load_dataset(name='ThoracicSurgery_test.csv'),\n",
        "  'SMOTE': load_dataset(name='ThoracicSurgery_test.csv'),\n",
        "  'PCA': load_dataset(name='ThoracicSurgery_pca_test.csv')\n",
        "}\n",
        "\n",
        "tuned_classifiers = {\n",
        "    'DecisionTree': [],\n",
        "    'SVC': [],\n",
        "    'LogisticRegression': [],\n",
        "    'RandomForest': [],\n",
        "    'KNN': []\n",
        "}\n",
        "\n",
        "accuracy_matrix = np.empty((len(classifiers), len(train_datasets)))\n",
        "recall_matrix = np.empty((len(classifiers), len(train_datasets)))\n",
        "\n",
        "for scoring in ['accuracy', 'recall']:\n",
        "  for j, dataset in enumerate(test_datasets.keys()):\n",
        "    for i, classifier in enumerate(classifiers.keys()):\n",
        "      print(\"Classifier: \", classifier)\n",
        "\n",
        "      df_train = train_datasets[dataset]\n",
        "      df_test = test_datasets[dataset]\n",
        "\n",
        "      x_labels = df_train.keys()[0:-1]\n",
        "      y_label = df_train.keys()[-1]\n",
        "\n",
        "      X = df_train[x_labels]\n",
        "      Y = df_train[y_label]\n",
        "      X_test = df_test[x_labels]\n",
        "      Y_test = df_test[y_label]\n",
        "\n",
        "      clf_str = f'{classifier}_{dataset}_{scoring}_tuned_model.joblib'\n",
        "      clf_path =  Path('.') / 'tuned_classifiers' /f'{classifier}_{dataset}_{scoring}_tuned_model.joblib'\n",
        "      print(\"Checking if file {} exists\".format(clf_path))\n",
        "      if clf_path.exists():\n",
        "        tuned_clf = load(str(clf_path))\n",
        "      else:\n",
        "        clf = classifiers[classifier]\n",
        "        parametrers = classifiers_parameters[classifier]\n",
        "        grid_search_result = GridSearchCV(clf, parametrers, scoring=scoring)\n",
        "\n",
        "        fit_result = grid_search_result.fit(X, Y)\n",
        "\n",
        "        params = fit_result.best_params_\n",
        "        \n",
        "        print(\"-\"*10)\n",
        "        print(\"Best parameters for classifier {} on the dataset {} using the scoring {}: \".format(classifier, dataset, scoring))\n",
        "        print(params)\n",
        "\n",
        "        tuned_clf = grid_search_result.best_estimator_\n",
        "\n",
        "        #saving tuned classifier\n",
        "        dump(tuned_clf, Path('.') / 'trained_models' /f'{classifier}_{dataset}_{scoring}_tuned_model.joblib') \n",
        "\n",
        "      print(\"Appending classifier at position: \", len(tuned_classifiers[classifier]))\n",
        "      tuned_classifiers[classifier].append(tuned_clf)\n",
        "      \n",
        "      prediction = tuned_clf.predict(X_test)\n",
        "      cm = confusion_matrix(Y_test, prediction)\n",
        "      print(cm)\n",
        "\n",
        "      tn, fp, fn, tp = cm.ravel()\n",
        "      print(f\"tp={tp}, fn={fn}, fp={fp}, tn={tn}\")\n",
        "      test_accuracy = (tn + tp) / (tn + fp + fn + tp)\n",
        "      test_recall = (tp) / (tp + fn)\n",
        "      print(f'accuracy={test_accuracy}; recall={test_recall}')\n",
        "      print(\"-\"*10)\n",
        "      print()\n",
        "      print()\n",
        "\n",
        "\n",
        "      test_accuracy = (tn + tp) / (tn + fp + fn + tp)\n",
        "      test_recall = (tp) / (tp + fn)\n",
        "\n",
        "      if scoring == 'accuracy':\n",
        "        accuracy_matrix[i, j] = test_accuracy\n",
        "      elif scoring == 'recall':\n",
        "        recall_matrix[i, j] = test_recall\n",
        "\n",
        "      fig, ax = plt.subplots(figsize=(5,5),ncols=1)\n",
        "      fig = plot_confusion_matrix(tuned_clf, X_test, Y_test, labels=[1,0], ax=ax)\n",
        "      plt.savefig(Path('.') / 'images' / 'confusion_matrix' / f'{classifier}_{dataset}_{scoring}_confusion_matrix.png')\n",
        "      plt.close()\n",
        "\n",
        "      fig, ax = plt.subplots(figsize=(5,5),ncols=1)\n",
        "      sklearn.metrics.plot_roc_curve(tuned_clf, X_test, Y_test, ax=ax)\n",
        "      plt.savefig(Path('.') / 'images' / 'roc' / f'{classifier}_{dataset}_{scoring}_roc.png')\n",
        "      plt.close()\n",
        "\n",
        "\n",
        "print(accuracy_matrix)\n",
        "print(recall_matrix)\n"
      ],
      "execution_count": null,
      "outputs": [
        {
          "output_type": "stream",
          "name": "stdout",
          "text": [
            "Classifier:  DecisionTree\n",
            "Checking if file tuned_classifiers/DecisionTree_with_outliers_accuracy_tuned_model.joblib exists\n",
            "Appending classifier at position:  0\n",
            "[[119   1]\n",
            " [ 20   1]]\n",
            "tp=1, fn=20, fp=1, tn=119\n",
            "accuracy=0.851063829787234; recall=0.047619047619047616\n",
            "----------\n",
            "\n",
            "\n"
          ]
        },
        {
          "output_type": "stream",
          "name": "stderr",
          "text": [
            "/usr/local/lib/python3.7/dist-packages/sklearn/utils/deprecation.py:87: FutureWarning: Function plot_confusion_matrix is deprecated; Function `plot_confusion_matrix` is deprecated in 1.0 and will be removed in 1.2. Use one of the class methods: ConfusionMatrixDisplay.from_predictions or ConfusionMatrixDisplay.from_estimator.\n",
            "  warnings.warn(msg, category=FutureWarning)\n",
            "/usr/local/lib/python3.7/dist-packages/sklearn/utils/deprecation.py:87: FutureWarning: Function plot_roc_curve is deprecated; Function `plot_roc_curve` is deprecated in 1.0 and will be removed in 1.2. Use one of the class methods: RocCurveDisplay.from_predictions or RocCurveDisplay.from_estimator.\n",
            "  warnings.warn(msg, category=FutureWarning)\n"
          ]
        },
        {
          "output_type": "stream",
          "name": "stdout",
          "text": [
            "Classifier:  SVC\n",
            "Checking if file tuned_classifiers/SVC_with_outliers_accuracy_tuned_model.joblib exists\n",
            "Appending classifier at position:  0\n",
            "[[120   0]\n",
            " [ 21   0]]\n",
            "tp=0, fn=21, fp=0, tn=120\n",
            "accuracy=0.851063829787234; recall=0.0\n",
            "----------\n",
            "\n",
            "\n"
          ]
        },
        {
          "output_type": "stream",
          "name": "stderr",
          "text": [
            "/usr/local/lib/python3.7/dist-packages/sklearn/utils/deprecation.py:87: FutureWarning: Function plot_confusion_matrix is deprecated; Function `plot_confusion_matrix` is deprecated in 1.0 and will be removed in 1.2. Use one of the class methods: ConfusionMatrixDisplay.from_predictions or ConfusionMatrixDisplay.from_estimator.\n",
            "  warnings.warn(msg, category=FutureWarning)\n",
            "/usr/local/lib/python3.7/dist-packages/sklearn/utils/deprecation.py:87: FutureWarning: Function plot_roc_curve is deprecated; Function `plot_roc_curve` is deprecated in 1.0 and will be removed in 1.2. Use one of the class methods: RocCurveDisplay.from_predictions or RocCurveDisplay.from_estimator.\n",
            "  warnings.warn(msg, category=FutureWarning)\n"
          ]
        },
        {
          "output_type": "stream",
          "name": "stdout",
          "text": [
            "Classifier:  LogisticRegression\n",
            "Checking if file tuned_classifiers/LogisticRegression_with_outliers_accuracy_tuned_model.joblib exists\n",
            "Appending classifier at position:  0\n",
            "[[120   0]\n",
            " [ 21   0]]\n",
            "tp=0, fn=21, fp=0, tn=120\n",
            "accuracy=0.851063829787234; recall=0.0\n",
            "----------\n",
            "\n",
            "\n"
          ]
        },
        {
          "output_type": "stream",
          "name": "stderr",
          "text": [
            "/usr/local/lib/python3.7/dist-packages/sklearn/utils/deprecation.py:87: FutureWarning: Function plot_confusion_matrix is deprecated; Function `plot_confusion_matrix` is deprecated in 1.0 and will be removed in 1.2. Use one of the class methods: ConfusionMatrixDisplay.from_predictions or ConfusionMatrixDisplay.from_estimator.\n",
            "  warnings.warn(msg, category=FutureWarning)\n",
            "/usr/local/lib/python3.7/dist-packages/sklearn/utils/deprecation.py:87: FutureWarning: Function plot_roc_curve is deprecated; Function `plot_roc_curve` is deprecated in 1.0 and will be removed in 1.2. Use one of the class methods: RocCurveDisplay.from_predictions or RocCurveDisplay.from_estimator.\n",
            "  warnings.warn(msg, category=FutureWarning)\n"
          ]
        },
        {
          "output_type": "stream",
          "name": "stdout",
          "text": [
            "Classifier:  RandomForest\n",
            "Checking if file tuned_classifiers/RandomForest_with_outliers_accuracy_tuned_model.joblib exists\n",
            "Appending classifier at position:  0\n",
            "[[120   0]\n",
            " [ 21   0]]\n",
            "tp=0, fn=21, fp=0, tn=120\n",
            "accuracy=0.851063829787234; recall=0.0\n",
            "----------\n",
            "\n",
            "\n"
          ]
        },
        {
          "output_type": "stream",
          "name": "stderr",
          "text": [
            "/usr/local/lib/python3.7/dist-packages/sklearn/utils/deprecation.py:87: FutureWarning: Function plot_confusion_matrix is deprecated; Function `plot_confusion_matrix` is deprecated in 1.0 and will be removed in 1.2. Use one of the class methods: ConfusionMatrixDisplay.from_predictions or ConfusionMatrixDisplay.from_estimator.\n",
            "  warnings.warn(msg, category=FutureWarning)\n",
            "/usr/local/lib/python3.7/dist-packages/sklearn/utils/deprecation.py:87: FutureWarning: Function plot_roc_curve is deprecated; Function `plot_roc_curve` is deprecated in 1.0 and will be removed in 1.2. Use one of the class methods: RocCurveDisplay.from_predictions or RocCurveDisplay.from_estimator.\n",
            "  warnings.warn(msg, category=FutureWarning)\n"
          ]
        },
        {
          "output_type": "stream",
          "name": "stdout",
          "text": [
            "Classifier:  KNN\n",
            "Checking if file tuned_classifiers/KNN_with_outliers_accuracy_tuned_model.joblib exists\n",
            "Appending classifier at position:  0\n",
            "[[120   0]\n",
            " [ 21   0]]\n",
            "tp=0, fn=21, fp=0, tn=120\n",
            "accuracy=0.851063829787234; recall=0.0\n",
            "----------\n",
            "\n",
            "\n"
          ]
        },
        {
          "output_type": "stream",
          "name": "stderr",
          "text": [
            "/usr/local/lib/python3.7/dist-packages/sklearn/utils/deprecation.py:87: FutureWarning: Function plot_confusion_matrix is deprecated; Function `plot_confusion_matrix` is deprecated in 1.0 and will be removed in 1.2. Use one of the class methods: ConfusionMatrixDisplay.from_predictions or ConfusionMatrixDisplay.from_estimator.\n",
            "  warnings.warn(msg, category=FutureWarning)\n",
            "/usr/local/lib/python3.7/dist-packages/sklearn/utils/deprecation.py:87: FutureWarning: Function plot_roc_curve is deprecated; Function `plot_roc_curve` is deprecated in 1.0 and will be removed in 1.2. Use one of the class methods: RocCurveDisplay.from_predictions or RocCurveDisplay.from_estimator.\n",
            "  warnings.warn(msg, category=FutureWarning)\n"
          ]
        },
        {
          "output_type": "stream",
          "name": "stdout",
          "text": [
            "Classifier:  DecisionTree\n",
            "Checking if file tuned_classifiers/DecisionTree_no_oversampling_accuracy_tuned_model.joblib exists\n",
            "Appending classifier at position:  1\n",
            "[[116   0]\n",
            " [ 21   0]]\n",
            "tp=0, fn=21, fp=0, tn=116\n",
            "accuracy=0.8467153284671532; recall=0.0\n",
            "----------\n",
            "\n",
            "\n"
          ]
        },
        {
          "output_type": "stream",
          "name": "stderr",
          "text": [
            "/usr/local/lib/python3.7/dist-packages/sklearn/utils/deprecation.py:87: FutureWarning: Function plot_confusion_matrix is deprecated; Function `plot_confusion_matrix` is deprecated in 1.0 and will be removed in 1.2. Use one of the class methods: ConfusionMatrixDisplay.from_predictions or ConfusionMatrixDisplay.from_estimator.\n",
            "  warnings.warn(msg, category=FutureWarning)\n",
            "/usr/local/lib/python3.7/dist-packages/sklearn/utils/deprecation.py:87: FutureWarning: Function plot_roc_curve is deprecated; Function `plot_roc_curve` is deprecated in 1.0 and will be removed in 1.2. Use one of the class methods: RocCurveDisplay.from_predictions or RocCurveDisplay.from_estimator.\n",
            "  warnings.warn(msg, category=FutureWarning)\n",
            "/usr/local/lib/python3.7/dist-packages/sklearn/utils/deprecation.py:87: FutureWarning: Function plot_confusion_matrix is deprecated; Function `plot_confusion_matrix` is deprecated in 1.0 and will be removed in 1.2. Use one of the class methods: ConfusionMatrixDisplay.from_predictions or ConfusionMatrixDisplay.from_estimator.\n",
            "  warnings.warn(msg, category=FutureWarning)\n"
          ]
        },
        {
          "output_type": "stream",
          "name": "stdout",
          "text": [
            "Classifier:  SVC\n",
            "Checking if file tuned_classifiers/SVC_no_oversampling_accuracy_tuned_model.joblib exists\n",
            "Appending classifier at position:  1\n",
            "[[116   0]\n",
            " [ 21   0]]\n",
            "tp=0, fn=21, fp=0, tn=116\n",
            "accuracy=0.8467153284671532; recall=0.0\n",
            "----------\n",
            "\n",
            "\n"
          ]
        },
        {
          "output_type": "stream",
          "name": "stderr",
          "text": [
            "/usr/local/lib/python3.7/dist-packages/sklearn/utils/deprecation.py:87: FutureWarning: Function plot_roc_curve is deprecated; Function `plot_roc_curve` is deprecated in 1.0 and will be removed in 1.2. Use one of the class methods: RocCurveDisplay.from_predictions or RocCurveDisplay.from_estimator.\n",
            "  warnings.warn(msg, category=FutureWarning)\n",
            "/usr/local/lib/python3.7/dist-packages/sklearn/utils/deprecation.py:87: FutureWarning: Function plot_confusion_matrix is deprecated; Function `plot_confusion_matrix` is deprecated in 1.0 and will be removed in 1.2. Use one of the class methods: ConfusionMatrixDisplay.from_predictions or ConfusionMatrixDisplay.from_estimator.\n",
            "  warnings.warn(msg, category=FutureWarning)\n"
          ]
        },
        {
          "output_type": "stream",
          "name": "stdout",
          "text": [
            "Classifier:  LogisticRegression\n",
            "Checking if file tuned_classifiers/LogisticRegression_no_oversampling_accuracy_tuned_model.joblib exists\n",
            "Appending classifier at position:  1\n",
            "[[116   0]\n",
            " [ 21   0]]\n",
            "tp=0, fn=21, fp=0, tn=116\n",
            "accuracy=0.8467153284671532; recall=0.0\n",
            "----------\n",
            "\n",
            "\n"
          ]
        },
        {
          "output_type": "stream",
          "name": "stderr",
          "text": [
            "/usr/local/lib/python3.7/dist-packages/sklearn/utils/deprecation.py:87: FutureWarning: Function plot_roc_curve is deprecated; Function `plot_roc_curve` is deprecated in 1.0 and will be removed in 1.2. Use one of the class methods: RocCurveDisplay.from_predictions or RocCurveDisplay.from_estimator.\n",
            "  warnings.warn(msg, category=FutureWarning)\n",
            "/usr/local/lib/python3.7/dist-packages/sklearn/utils/deprecation.py:87: FutureWarning: Function plot_confusion_matrix is deprecated; Function `plot_confusion_matrix` is deprecated in 1.0 and will be removed in 1.2. Use one of the class methods: ConfusionMatrixDisplay.from_predictions or ConfusionMatrixDisplay.from_estimator.\n",
            "  warnings.warn(msg, category=FutureWarning)\n"
          ]
        },
        {
          "output_type": "stream",
          "name": "stdout",
          "text": [
            "Classifier:  RandomForest\n",
            "Checking if file tuned_classifiers/RandomForest_no_oversampling_accuracy_tuned_model.joblib exists\n",
            "Appending classifier at position:  1\n",
            "[[116   0]\n",
            " [ 21   0]]\n",
            "tp=0, fn=21, fp=0, tn=116\n",
            "accuracy=0.8467153284671532; recall=0.0\n",
            "----------\n",
            "\n",
            "\n"
          ]
        },
        {
          "output_type": "stream",
          "name": "stderr",
          "text": [
            "/usr/local/lib/python3.7/dist-packages/sklearn/utils/deprecation.py:87: FutureWarning: Function plot_roc_curve is deprecated; Function `plot_roc_curve` is deprecated in 1.0 and will be removed in 1.2. Use one of the class methods: RocCurveDisplay.from_predictions or RocCurveDisplay.from_estimator.\n",
            "  warnings.warn(msg, category=FutureWarning)\n"
          ]
        },
        {
          "output_type": "stream",
          "name": "stdout",
          "text": [
            "Classifier:  KNN\n",
            "Checking if file tuned_classifiers/KNN_no_oversampling_accuracy_tuned_model.joblib exists\n",
            "Appending classifier at position:  1\n",
            "[[116   0]\n",
            " [ 21   0]]\n",
            "tp=0, fn=21, fp=0, tn=116\n",
            "accuracy=0.8467153284671532; recall=0.0\n",
            "----------\n",
            "\n",
            "\n"
          ]
        },
        {
          "output_type": "stream",
          "name": "stderr",
          "text": [
            "/usr/local/lib/python3.7/dist-packages/sklearn/utils/deprecation.py:87: FutureWarning: Function plot_confusion_matrix is deprecated; Function `plot_confusion_matrix` is deprecated in 1.0 and will be removed in 1.2. Use one of the class methods: ConfusionMatrixDisplay.from_predictions or ConfusionMatrixDisplay.from_estimator.\n",
            "  warnings.warn(msg, category=FutureWarning)\n",
            "/usr/local/lib/python3.7/dist-packages/sklearn/utils/deprecation.py:87: FutureWarning: Function plot_roc_curve is deprecated; Function `plot_roc_curve` is deprecated in 1.0 and will be removed in 1.2. Use one of the class methods: RocCurveDisplay.from_predictions or RocCurveDisplay.from_estimator.\n",
            "  warnings.warn(msg, category=FutureWarning)\n"
          ]
        },
        {
          "output_type": "stream",
          "name": "stdout",
          "text": [
            "Classifier:  DecisionTree\n",
            "Checking if file tuned_classifiers/DecisionTree_random_oversampling_accuracy_tuned_model.joblib exists\n",
            "Appending classifier at position:  2\n",
            "[[96 20]\n",
            " [16  5]]\n",
            "tp=5, fn=16, fp=20, tn=96\n",
            "accuracy=0.7372262773722628; recall=0.23809523809523808\n",
            "----------\n",
            "\n",
            "\n"
          ]
        },
        {
          "output_type": "stream",
          "name": "stderr",
          "text": [
            "/usr/local/lib/python3.7/dist-packages/sklearn/utils/deprecation.py:87: FutureWarning: Function plot_confusion_matrix is deprecated; Function `plot_confusion_matrix` is deprecated in 1.0 and will be removed in 1.2. Use one of the class methods: ConfusionMatrixDisplay.from_predictions or ConfusionMatrixDisplay.from_estimator.\n",
            "  warnings.warn(msg, category=FutureWarning)\n",
            "/usr/local/lib/python3.7/dist-packages/sklearn/utils/deprecation.py:87: FutureWarning: Function plot_roc_curve is deprecated; Function `plot_roc_curve` is deprecated in 1.0 and will be removed in 1.2. Use one of the class methods: RocCurveDisplay.from_predictions or RocCurveDisplay.from_estimator.\n",
            "  warnings.warn(msg, category=FutureWarning)\n"
          ]
        },
        {
          "output_type": "stream",
          "name": "stdout",
          "text": [
            "Classifier:  SVC\n",
            "Checking if file tuned_classifiers/SVC_random_oversampling_accuracy_tuned_model.joblib exists\n",
            "Appending classifier at position:  2\n",
            "[[95 21]\n",
            " [16  5]]\n",
            "tp=5, fn=16, fp=21, tn=95\n",
            "accuracy=0.7299270072992701; recall=0.23809523809523808\n",
            "----------\n",
            "\n",
            "\n"
          ]
        },
        {
          "output_type": "stream",
          "name": "stderr",
          "text": [
            "/usr/local/lib/python3.7/dist-packages/sklearn/utils/deprecation.py:87: FutureWarning: Function plot_confusion_matrix is deprecated; Function `plot_confusion_matrix` is deprecated in 1.0 and will be removed in 1.2. Use one of the class methods: ConfusionMatrixDisplay.from_predictions or ConfusionMatrixDisplay.from_estimator.\n",
            "  warnings.warn(msg, category=FutureWarning)\n",
            "/usr/local/lib/python3.7/dist-packages/sklearn/utils/deprecation.py:87: FutureWarning: Function plot_roc_curve is deprecated; Function `plot_roc_curve` is deprecated in 1.0 and will be removed in 1.2. Use one of the class methods: RocCurveDisplay.from_predictions or RocCurveDisplay.from_estimator.\n",
            "  warnings.warn(msg, category=FutureWarning)\n"
          ]
        },
        {
          "output_type": "stream",
          "name": "stdout",
          "text": [
            "Classifier:  LogisticRegression\n",
            "Checking if file tuned_classifiers/LogisticRegression_random_oversampling_accuracy_tuned_model.joblib exists\n",
            "Appending classifier at position:  2\n",
            "[[95 21]\n",
            " [10 11]]\n",
            "tp=11, fn=10, fp=21, tn=95\n",
            "accuracy=0.7737226277372263; recall=0.5238095238095238\n",
            "----------\n",
            "\n",
            "\n"
          ]
        },
        {
          "output_type": "stream",
          "name": "stderr",
          "text": [
            "/usr/local/lib/python3.7/dist-packages/sklearn/utils/deprecation.py:87: FutureWarning: Function plot_confusion_matrix is deprecated; Function `plot_confusion_matrix` is deprecated in 1.0 and will be removed in 1.2. Use one of the class methods: ConfusionMatrixDisplay.from_predictions or ConfusionMatrixDisplay.from_estimator.\n",
            "  warnings.warn(msg, category=FutureWarning)\n",
            "/usr/local/lib/python3.7/dist-packages/sklearn/utils/deprecation.py:87: FutureWarning: Function plot_roc_curve is deprecated; Function `plot_roc_curve` is deprecated in 1.0 and will be removed in 1.2. Use one of the class methods: RocCurveDisplay.from_predictions or RocCurveDisplay.from_estimator.\n",
            "  warnings.warn(msg, category=FutureWarning)\n"
          ]
        },
        {
          "output_type": "stream",
          "name": "stdout",
          "text": [
            "Classifier:  RandomForest\n",
            "Checking if file tuned_classifiers/RandomForest_random_oversampling_accuracy_tuned_model.joblib exists\n",
            "Appending classifier at position:  2\n",
            "[[101  15]\n",
            " [ 15   6]]\n",
            "tp=6, fn=15, fp=15, tn=101\n",
            "accuracy=0.781021897810219; recall=0.2857142857142857\n",
            "----------\n",
            "\n",
            "\n"
          ]
        },
        {
          "output_type": "stream",
          "name": "stderr",
          "text": [
            "/usr/local/lib/python3.7/dist-packages/sklearn/utils/deprecation.py:87: FutureWarning: Function plot_confusion_matrix is deprecated; Function `plot_confusion_matrix` is deprecated in 1.0 and will be removed in 1.2. Use one of the class methods: ConfusionMatrixDisplay.from_predictions or ConfusionMatrixDisplay.from_estimator.\n",
            "  warnings.warn(msg, category=FutureWarning)\n",
            "/usr/local/lib/python3.7/dist-packages/sklearn/utils/deprecation.py:87: FutureWarning: Function plot_roc_curve is deprecated; Function `plot_roc_curve` is deprecated in 1.0 and will be removed in 1.2. Use one of the class methods: RocCurveDisplay.from_predictions or RocCurveDisplay.from_estimator.\n",
            "  warnings.warn(msg, category=FutureWarning)\n"
          ]
        },
        {
          "output_type": "stream",
          "name": "stdout",
          "text": [
            "Classifier:  KNN\n",
            "Checking if file tuned_classifiers/KNN_random_oversampling_accuracy_tuned_model.joblib exists\n",
            "Appending classifier at position:  2\n",
            "[[104  12]\n",
            " [ 18   3]]\n",
            "tp=3, fn=18, fp=12, tn=104\n",
            "accuracy=0.781021897810219; recall=0.14285714285714285\n",
            "----------\n",
            "\n",
            "\n"
          ]
        },
        {
          "output_type": "stream",
          "name": "stderr",
          "text": [
            "/usr/local/lib/python3.7/dist-packages/sklearn/utils/deprecation.py:87: FutureWarning: Function plot_confusion_matrix is deprecated; Function `plot_confusion_matrix` is deprecated in 1.0 and will be removed in 1.2. Use one of the class methods: ConfusionMatrixDisplay.from_predictions or ConfusionMatrixDisplay.from_estimator.\n",
            "  warnings.warn(msg, category=FutureWarning)\n",
            "/usr/local/lib/python3.7/dist-packages/sklearn/utils/deprecation.py:87: FutureWarning: Function plot_roc_curve is deprecated; Function `plot_roc_curve` is deprecated in 1.0 and will be removed in 1.2. Use one of the class methods: RocCurveDisplay.from_predictions or RocCurveDisplay.from_estimator.\n",
            "  warnings.warn(msg, category=FutureWarning)\n"
          ]
        },
        {
          "output_type": "stream",
          "name": "stdout",
          "text": [
            "Classifier:  DecisionTree\n",
            "Checking if file tuned_classifiers/DecisionTree_SMOTE_accuracy_tuned_model.joblib exists\n",
            "Appending classifier at position:  3\n",
            "[[86 30]\n",
            " [14  7]]\n",
            "tp=7, fn=14, fp=30, tn=86\n",
            "accuracy=0.6788321167883211; recall=0.3333333333333333\n",
            "----------\n",
            "\n",
            "\n"
          ]
        },
        {
          "output_type": "stream",
          "name": "stderr",
          "text": [
            "/usr/local/lib/python3.7/dist-packages/sklearn/utils/deprecation.py:87: FutureWarning: Function plot_confusion_matrix is deprecated; Function `plot_confusion_matrix` is deprecated in 1.0 and will be removed in 1.2. Use one of the class methods: ConfusionMatrixDisplay.from_predictions or ConfusionMatrixDisplay.from_estimator.\n",
            "  warnings.warn(msg, category=FutureWarning)\n",
            "/usr/local/lib/python3.7/dist-packages/sklearn/utils/deprecation.py:87: FutureWarning: Function plot_roc_curve is deprecated; Function `plot_roc_curve` is deprecated in 1.0 and will be removed in 1.2. Use one of the class methods: RocCurveDisplay.from_predictions or RocCurveDisplay.from_estimator.\n",
            "  warnings.warn(msg, category=FutureWarning)\n"
          ]
        },
        {
          "output_type": "stream",
          "name": "stdout",
          "text": [
            "Classifier:  SVC\n",
            "Checking if file tuned_classifiers/SVC_SMOTE_accuracy_tuned_model.joblib exists\n",
            "Appending classifier at position:  3\n",
            "[[86 30]\n",
            " [17  4]]\n",
            "tp=4, fn=17, fp=30, tn=86\n",
            "accuracy=0.656934306569343; recall=0.19047619047619047\n",
            "----------\n",
            "\n",
            "\n"
          ]
        },
        {
          "output_type": "stream",
          "name": "stderr",
          "text": [
            "/usr/local/lib/python3.7/dist-packages/sklearn/utils/deprecation.py:87: FutureWarning: Function plot_confusion_matrix is deprecated; Function `plot_confusion_matrix` is deprecated in 1.0 and will be removed in 1.2. Use one of the class methods: ConfusionMatrixDisplay.from_predictions or ConfusionMatrixDisplay.from_estimator.\n",
            "  warnings.warn(msg, category=FutureWarning)\n",
            "/usr/local/lib/python3.7/dist-packages/sklearn/utils/deprecation.py:87: FutureWarning: Function plot_roc_curve is deprecated; Function `plot_roc_curve` is deprecated in 1.0 and will be removed in 1.2. Use one of the class methods: RocCurveDisplay.from_predictions or RocCurveDisplay.from_estimator.\n",
            "  warnings.warn(msg, category=FutureWarning)\n"
          ]
        },
        {
          "output_type": "stream",
          "name": "stdout",
          "text": [
            "Classifier:  LogisticRegression\n",
            "Checking if file tuned_classifiers/LogisticRegression_SMOTE_accuracy_tuned_model.joblib exists\n",
            "Appending classifier at position:  3\n",
            "[[68 48]\n",
            " [12  9]]\n",
            "tp=9, fn=12, fp=48, tn=68\n",
            "accuracy=0.5620437956204379; recall=0.42857142857142855\n",
            "----------\n",
            "\n",
            "\n"
          ]
        },
        {
          "output_type": "stream",
          "name": "stderr",
          "text": [
            "/usr/local/lib/python3.7/dist-packages/sklearn/utils/deprecation.py:87: FutureWarning: Function plot_confusion_matrix is deprecated; Function `plot_confusion_matrix` is deprecated in 1.0 and will be removed in 1.2. Use one of the class methods: ConfusionMatrixDisplay.from_predictions or ConfusionMatrixDisplay.from_estimator.\n",
            "  warnings.warn(msg, category=FutureWarning)\n",
            "/usr/local/lib/python3.7/dist-packages/sklearn/utils/deprecation.py:87: FutureWarning: Function plot_roc_curve is deprecated; Function `plot_roc_curve` is deprecated in 1.0 and will be removed in 1.2. Use one of the class methods: RocCurveDisplay.from_predictions or RocCurveDisplay.from_estimator.\n",
            "  warnings.warn(msg, category=FutureWarning)\n"
          ]
        },
        {
          "output_type": "stream",
          "name": "stdout",
          "text": [
            "Classifier:  RandomForest\n",
            "Checking if file tuned_classifiers/RandomForest_SMOTE_accuracy_tuned_model.joblib exists\n",
            "Appending classifier at position:  3\n",
            "[[87 29]\n",
            " [17  4]]\n",
            "tp=4, fn=17, fp=29, tn=87\n",
            "accuracy=0.6642335766423357; recall=0.19047619047619047\n",
            "----------\n",
            "\n",
            "\n"
          ]
        },
        {
          "output_type": "stream",
          "name": "stderr",
          "text": [
            "/usr/local/lib/python3.7/dist-packages/sklearn/utils/deprecation.py:87: FutureWarning: Function plot_confusion_matrix is deprecated; Function `plot_confusion_matrix` is deprecated in 1.0 and will be removed in 1.2. Use one of the class methods: ConfusionMatrixDisplay.from_predictions or ConfusionMatrixDisplay.from_estimator.\n",
            "  warnings.warn(msg, category=FutureWarning)\n",
            "/usr/local/lib/python3.7/dist-packages/sklearn/utils/deprecation.py:87: FutureWarning: Function plot_roc_curve is deprecated; Function `plot_roc_curve` is deprecated in 1.0 and will be removed in 1.2. Use one of the class methods: RocCurveDisplay.from_predictions or RocCurveDisplay.from_estimator.\n",
            "  warnings.warn(msg, category=FutureWarning)\n"
          ]
        },
        {
          "output_type": "stream",
          "name": "stdout",
          "text": [
            "Classifier:  KNN\n",
            "Checking if file tuned_classifiers/KNN_SMOTE_accuracy_tuned_model.joblib exists\n",
            "Appending classifier at position:  3\n",
            "[[87 29]\n",
            " [20  1]]\n",
            "tp=1, fn=20, fp=29, tn=87\n",
            "accuracy=0.6423357664233577; recall=0.047619047619047616\n",
            "----------\n",
            "\n",
            "\n"
          ]
        },
        {
          "output_type": "stream",
          "name": "stderr",
          "text": [
            "/usr/local/lib/python3.7/dist-packages/sklearn/utils/deprecation.py:87: FutureWarning: Function plot_confusion_matrix is deprecated; Function `plot_confusion_matrix` is deprecated in 1.0 and will be removed in 1.2. Use one of the class methods: ConfusionMatrixDisplay.from_predictions or ConfusionMatrixDisplay.from_estimator.\n",
            "  warnings.warn(msg, category=FutureWarning)\n",
            "/usr/local/lib/python3.7/dist-packages/sklearn/utils/deprecation.py:87: FutureWarning: Function plot_roc_curve is deprecated; Function `plot_roc_curve` is deprecated in 1.0 and will be removed in 1.2. Use one of the class methods: RocCurveDisplay.from_predictions or RocCurveDisplay.from_estimator.\n",
            "  warnings.warn(msg, category=FutureWarning)\n"
          ]
        },
        {
          "output_type": "stream",
          "name": "stdout",
          "text": [
            "Classifier:  DecisionTree\n",
            "Checking if file tuned_classifiers/DecisionTree_PCA_accuracy_tuned_model.joblib exists\n",
            "Appending classifier at position:  4\n",
            "[[116   0]\n",
            " [  0  21]]\n",
            "tp=21, fn=0, fp=0, tn=116\n",
            "accuracy=1.0; recall=1.0\n",
            "----------\n",
            "\n",
            "\n"
          ]
        },
        {
          "output_type": "stream",
          "name": "stderr",
          "text": [
            "/usr/local/lib/python3.7/dist-packages/sklearn/utils/deprecation.py:87: FutureWarning: Function plot_confusion_matrix is deprecated; Function `plot_confusion_matrix` is deprecated in 1.0 and will be removed in 1.2. Use one of the class methods: ConfusionMatrixDisplay.from_predictions or ConfusionMatrixDisplay.from_estimator.\n",
            "  warnings.warn(msg, category=FutureWarning)\n",
            "/usr/local/lib/python3.7/dist-packages/sklearn/utils/deprecation.py:87: FutureWarning: Function plot_roc_curve is deprecated; Function `plot_roc_curve` is deprecated in 1.0 and will be removed in 1.2. Use one of the class methods: RocCurveDisplay.from_predictions or RocCurveDisplay.from_estimator.\n",
            "  warnings.warn(msg, category=FutureWarning)\n"
          ]
        },
        {
          "output_type": "stream",
          "name": "stdout",
          "text": [
            "Classifier:  SVC\n",
            "Checking if file tuned_classifiers/SVC_PCA_accuracy_tuned_model.joblib exists\n",
            "Appending classifier at position:  4\n",
            "[[116   0]\n",
            " [  0  21]]\n",
            "tp=21, fn=0, fp=0, tn=116\n",
            "accuracy=1.0; recall=1.0\n",
            "----------\n",
            "\n",
            "\n"
          ]
        },
        {
          "output_type": "stream",
          "name": "stderr",
          "text": [
            "/usr/local/lib/python3.7/dist-packages/sklearn/utils/deprecation.py:87: FutureWarning: Function plot_confusion_matrix is deprecated; Function `plot_confusion_matrix` is deprecated in 1.0 and will be removed in 1.2. Use one of the class methods: ConfusionMatrixDisplay.from_predictions or ConfusionMatrixDisplay.from_estimator.\n",
            "  warnings.warn(msg, category=FutureWarning)\n",
            "/usr/local/lib/python3.7/dist-packages/sklearn/utils/deprecation.py:87: FutureWarning: Function plot_roc_curve is deprecated; Function `plot_roc_curve` is deprecated in 1.0 and will be removed in 1.2. Use one of the class methods: RocCurveDisplay.from_predictions or RocCurveDisplay.from_estimator.\n",
            "  warnings.warn(msg, category=FutureWarning)\n"
          ]
        },
        {
          "output_type": "stream",
          "name": "stdout",
          "text": [
            "Classifier:  LogisticRegression\n",
            "Checking if file tuned_classifiers/LogisticRegression_PCA_accuracy_tuned_model.joblib exists\n",
            "Appending classifier at position:  4\n",
            "[[116   0]\n",
            " [  0  21]]\n",
            "tp=21, fn=0, fp=0, tn=116\n",
            "accuracy=1.0; recall=1.0\n",
            "----------\n",
            "\n",
            "\n"
          ]
        },
        {
          "output_type": "stream",
          "name": "stderr",
          "text": [
            "/usr/local/lib/python3.7/dist-packages/sklearn/utils/deprecation.py:87: FutureWarning: Function plot_confusion_matrix is deprecated; Function `plot_confusion_matrix` is deprecated in 1.0 and will be removed in 1.2. Use one of the class methods: ConfusionMatrixDisplay.from_predictions or ConfusionMatrixDisplay.from_estimator.\n",
            "  warnings.warn(msg, category=FutureWarning)\n",
            "/usr/local/lib/python3.7/dist-packages/sklearn/utils/deprecation.py:87: FutureWarning: Function plot_roc_curve is deprecated; Function `plot_roc_curve` is deprecated in 1.0 and will be removed in 1.2. Use one of the class methods: RocCurveDisplay.from_predictions or RocCurveDisplay.from_estimator.\n",
            "  warnings.warn(msg, category=FutureWarning)\n"
          ]
        },
        {
          "output_type": "stream",
          "name": "stdout",
          "text": [
            "Classifier:  RandomForest\n",
            "Checking if file tuned_classifiers/RandomForest_PCA_accuracy_tuned_model.joblib exists\n",
            "Appending classifier at position:  4\n",
            "[[116   0]\n",
            " [  0  21]]\n",
            "tp=21, fn=0, fp=0, tn=116\n",
            "accuracy=1.0; recall=1.0\n",
            "----------\n",
            "\n",
            "\n"
          ]
        },
        {
          "output_type": "stream",
          "name": "stderr",
          "text": [
            "/usr/local/lib/python3.7/dist-packages/sklearn/utils/deprecation.py:87: FutureWarning: Function plot_confusion_matrix is deprecated; Function `plot_confusion_matrix` is deprecated in 1.0 and will be removed in 1.2. Use one of the class methods: ConfusionMatrixDisplay.from_predictions or ConfusionMatrixDisplay.from_estimator.\n",
            "  warnings.warn(msg, category=FutureWarning)\n",
            "/usr/local/lib/python3.7/dist-packages/sklearn/utils/deprecation.py:87: FutureWarning: Function plot_roc_curve is deprecated; Function `plot_roc_curve` is deprecated in 1.0 and will be removed in 1.2. Use one of the class methods: RocCurveDisplay.from_predictions or RocCurveDisplay.from_estimator.\n",
            "  warnings.warn(msg, category=FutureWarning)\n"
          ]
        },
        {
          "output_type": "stream",
          "name": "stdout",
          "text": [
            "Classifier:  KNN\n",
            "Checking if file tuned_classifiers/KNN_PCA_accuracy_tuned_model.joblib exists\n",
            "Appending classifier at position:  4\n",
            "[[116   0]\n",
            " [  0  21]]\n",
            "tp=21, fn=0, fp=0, tn=116\n",
            "accuracy=1.0; recall=1.0\n",
            "----------\n",
            "\n",
            "\n"
          ]
        },
        {
          "output_type": "stream",
          "name": "stderr",
          "text": [
            "/usr/local/lib/python3.7/dist-packages/sklearn/utils/deprecation.py:87: FutureWarning: Function plot_confusion_matrix is deprecated; Function `plot_confusion_matrix` is deprecated in 1.0 and will be removed in 1.2. Use one of the class methods: ConfusionMatrixDisplay.from_predictions or ConfusionMatrixDisplay.from_estimator.\n",
            "  warnings.warn(msg, category=FutureWarning)\n",
            "/usr/local/lib/python3.7/dist-packages/sklearn/utils/deprecation.py:87: FutureWarning: Function plot_roc_curve is deprecated; Function `plot_roc_curve` is deprecated in 1.0 and will be removed in 1.2. Use one of the class methods: RocCurveDisplay.from_predictions or RocCurveDisplay.from_estimator.\n",
            "  warnings.warn(msg, category=FutureWarning)\n"
          ]
        },
        {
          "output_type": "stream",
          "name": "stdout",
          "text": [
            "Classifier:  DecisionTree\n",
            "Checking if file tuned_classifiers/DecisionTree_with_outliers_recall_tuned_model.joblib exists\n",
            "Appending classifier at position:  5\n",
            "[[101  19]\n",
            " [ 12   9]]\n",
            "tp=9, fn=12, fp=19, tn=101\n",
            "accuracy=0.7801418439716312; recall=0.42857142857142855\n",
            "----------\n",
            "\n",
            "\n"
          ]
        },
        {
          "output_type": "stream",
          "name": "stderr",
          "text": [
            "/usr/local/lib/python3.7/dist-packages/sklearn/utils/deprecation.py:87: FutureWarning: Function plot_confusion_matrix is deprecated; Function `plot_confusion_matrix` is deprecated in 1.0 and will be removed in 1.2. Use one of the class methods: ConfusionMatrixDisplay.from_predictions or ConfusionMatrixDisplay.from_estimator.\n",
            "  warnings.warn(msg, category=FutureWarning)\n",
            "/usr/local/lib/python3.7/dist-packages/sklearn/utils/deprecation.py:87: FutureWarning: Function plot_roc_curve is deprecated; Function `plot_roc_curve` is deprecated in 1.0 and will be removed in 1.2. Use one of the class methods: RocCurveDisplay.from_predictions or RocCurveDisplay.from_estimator.\n",
            "  warnings.warn(msg, category=FutureWarning)\n"
          ]
        },
        {
          "output_type": "stream",
          "name": "stdout",
          "text": [
            "Classifier:  SVC\n",
            "Checking if file tuned_classifiers/SVC_with_outliers_recall_tuned_model.joblib exists\n",
            "Appending classifier at position:  5\n",
            "[[120   0]\n",
            " [ 21   0]]\n",
            "tp=0, fn=21, fp=0, tn=120\n",
            "accuracy=0.851063829787234; recall=0.0\n",
            "----------\n",
            "\n",
            "\n"
          ]
        },
        {
          "output_type": "stream",
          "name": "stderr",
          "text": [
            "/usr/local/lib/python3.7/dist-packages/sklearn/utils/deprecation.py:87: FutureWarning: Function plot_confusion_matrix is deprecated; Function `plot_confusion_matrix` is deprecated in 1.0 and will be removed in 1.2. Use one of the class methods: ConfusionMatrixDisplay.from_predictions or ConfusionMatrixDisplay.from_estimator.\n",
            "  warnings.warn(msg, category=FutureWarning)\n",
            "/usr/local/lib/python3.7/dist-packages/sklearn/utils/deprecation.py:87: FutureWarning: Function plot_roc_curve is deprecated; Function `plot_roc_curve` is deprecated in 1.0 and will be removed in 1.2. Use one of the class methods: RocCurveDisplay.from_predictions or RocCurveDisplay.from_estimator.\n",
            "  warnings.warn(msg, category=FutureWarning)\n"
          ]
        },
        {
          "output_type": "stream",
          "name": "stdout",
          "text": [
            "Classifier:  LogisticRegression\n",
            "Checking if file tuned_classifiers/LogisticRegression_with_outliers_recall_tuned_model.joblib exists\n",
            "Appending classifier at position:  5\n",
            "[[118   2]\n",
            " [ 21   0]]\n",
            "tp=0, fn=21, fp=2, tn=118\n",
            "accuracy=0.8368794326241135; recall=0.0\n",
            "----------\n",
            "\n",
            "\n"
          ]
        },
        {
          "output_type": "stream",
          "name": "stderr",
          "text": [
            "/usr/local/lib/python3.7/dist-packages/sklearn/utils/deprecation.py:87: FutureWarning: Function plot_confusion_matrix is deprecated; Function `plot_confusion_matrix` is deprecated in 1.0 and will be removed in 1.2. Use one of the class methods: ConfusionMatrixDisplay.from_predictions or ConfusionMatrixDisplay.from_estimator.\n",
            "  warnings.warn(msg, category=FutureWarning)\n",
            "/usr/local/lib/python3.7/dist-packages/sklearn/utils/deprecation.py:87: FutureWarning: Function plot_roc_curve is deprecated; Function `plot_roc_curve` is deprecated in 1.0 and will be removed in 1.2. Use one of the class methods: RocCurveDisplay.from_predictions or RocCurveDisplay.from_estimator.\n",
            "  warnings.warn(msg, category=FutureWarning)\n"
          ]
        },
        {
          "output_type": "stream",
          "name": "stdout",
          "text": [
            "Classifier:  RandomForest\n",
            "Checking if file tuned_classifiers/RandomForest_with_outliers_recall_tuned_model.joblib exists\n",
            "Appending classifier at position:  5\n",
            "[[119   1]\n",
            " [ 21   0]]\n",
            "tp=0, fn=21, fp=1, tn=119\n",
            "accuracy=0.8439716312056738; recall=0.0\n",
            "----------\n",
            "\n",
            "\n"
          ]
        },
        {
          "output_type": "stream",
          "name": "stderr",
          "text": [
            "/usr/local/lib/python3.7/dist-packages/sklearn/utils/deprecation.py:87: FutureWarning: Function plot_confusion_matrix is deprecated; Function `plot_confusion_matrix` is deprecated in 1.0 and will be removed in 1.2. Use one of the class methods: ConfusionMatrixDisplay.from_predictions or ConfusionMatrixDisplay.from_estimator.\n",
            "  warnings.warn(msg, category=FutureWarning)\n",
            "/usr/local/lib/python3.7/dist-packages/sklearn/utils/deprecation.py:87: FutureWarning: Function plot_roc_curve is deprecated; Function `plot_roc_curve` is deprecated in 1.0 and will be removed in 1.2. Use one of the class methods: RocCurveDisplay.from_predictions or RocCurveDisplay.from_estimator.\n",
            "  warnings.warn(msg, category=FutureWarning)\n"
          ]
        },
        {
          "output_type": "stream",
          "name": "stdout",
          "text": [
            "Classifier:  KNN\n",
            "Checking if file tuned_classifiers/KNN_with_outliers_recall_tuned_model.joblib exists\n",
            "Appending classifier at position:  5\n",
            "[[107  13]\n",
            " [ 18   3]]\n",
            "tp=3, fn=18, fp=13, tn=107\n",
            "accuracy=0.7801418439716312; recall=0.14285714285714285\n",
            "----------\n",
            "\n",
            "\n"
          ]
        },
        {
          "output_type": "stream",
          "name": "stderr",
          "text": [
            "/usr/local/lib/python3.7/dist-packages/sklearn/utils/deprecation.py:87: FutureWarning: Function plot_confusion_matrix is deprecated; Function `plot_confusion_matrix` is deprecated in 1.0 and will be removed in 1.2. Use one of the class methods: ConfusionMatrixDisplay.from_predictions or ConfusionMatrixDisplay.from_estimator.\n",
            "  warnings.warn(msg, category=FutureWarning)\n",
            "/usr/local/lib/python3.7/dist-packages/sklearn/utils/deprecation.py:87: FutureWarning: Function plot_roc_curve is deprecated; Function `plot_roc_curve` is deprecated in 1.0 and will be removed in 1.2. Use one of the class methods: RocCurveDisplay.from_predictions or RocCurveDisplay.from_estimator.\n",
            "  warnings.warn(msg, category=FutureWarning)\n"
          ]
        },
        {
          "output_type": "stream",
          "name": "stdout",
          "text": [
            "Classifier:  DecisionTree\n",
            "Checking if file tuned_classifiers/DecisionTree_no_oversampling_recall_tuned_model.joblib exists\n",
            "Appending classifier at position:  6\n",
            "[[99 17]\n",
            " [17  4]]\n",
            "tp=4, fn=17, fp=17, tn=99\n",
            "accuracy=0.7518248175182481; recall=0.19047619047619047\n",
            "----------\n",
            "\n",
            "\n"
          ]
        },
        {
          "output_type": "stream",
          "name": "stderr",
          "text": [
            "/usr/local/lib/python3.7/dist-packages/sklearn/utils/deprecation.py:87: FutureWarning: Function plot_confusion_matrix is deprecated; Function `plot_confusion_matrix` is deprecated in 1.0 and will be removed in 1.2. Use one of the class methods: ConfusionMatrixDisplay.from_predictions or ConfusionMatrixDisplay.from_estimator.\n",
            "  warnings.warn(msg, category=FutureWarning)\n",
            "/usr/local/lib/python3.7/dist-packages/sklearn/utils/deprecation.py:87: FutureWarning: Function plot_roc_curve is deprecated; Function `plot_roc_curve` is deprecated in 1.0 and will be removed in 1.2. Use one of the class methods: RocCurveDisplay.from_predictions or RocCurveDisplay.from_estimator.\n",
            "  warnings.warn(msg, category=FutureWarning)\n"
          ]
        },
        {
          "output_type": "stream",
          "name": "stdout",
          "text": [
            "Classifier:  SVC\n",
            "Checking if file tuned_classifiers/SVC_no_oversampling_recall_tuned_model.joblib exists\n",
            "Appending classifier at position:  6\n",
            "[[114   2]\n",
            " [ 20   1]]\n",
            "tp=1, fn=20, fp=2, tn=114\n",
            "accuracy=0.8394160583941606; recall=0.047619047619047616\n",
            "----------\n",
            "\n",
            "\n"
          ]
        },
        {
          "output_type": "stream",
          "name": "stderr",
          "text": [
            "/usr/local/lib/python3.7/dist-packages/sklearn/utils/deprecation.py:87: FutureWarning: Function plot_confusion_matrix is deprecated; Function `plot_confusion_matrix` is deprecated in 1.0 and will be removed in 1.2. Use one of the class methods: ConfusionMatrixDisplay.from_predictions or ConfusionMatrixDisplay.from_estimator.\n",
            "  warnings.warn(msg, category=FutureWarning)\n",
            "/usr/local/lib/python3.7/dist-packages/sklearn/utils/deprecation.py:87: FutureWarning: Function plot_roc_curve is deprecated; Function `plot_roc_curve` is deprecated in 1.0 and will be removed in 1.2. Use one of the class methods: RocCurveDisplay.from_predictions or RocCurveDisplay.from_estimator.\n",
            "  warnings.warn(msg, category=FutureWarning)\n"
          ]
        },
        {
          "output_type": "stream",
          "name": "stdout",
          "text": [
            "Classifier:  LogisticRegression\n",
            "Checking if file tuned_classifiers/LogisticRegression_no_oversampling_recall_tuned_model.joblib exists\n",
            "Appending classifier at position:  6\n",
            "[[114   2]\n",
            " [ 21   0]]\n",
            "tp=0, fn=21, fp=2, tn=114\n",
            "accuracy=0.8321167883211679; recall=0.0\n",
            "----------\n",
            "\n",
            "\n"
          ]
        },
        {
          "output_type": "stream",
          "name": "stderr",
          "text": [
            "/usr/local/lib/python3.7/dist-packages/sklearn/utils/deprecation.py:87: FutureWarning: Function plot_confusion_matrix is deprecated; Function `plot_confusion_matrix` is deprecated in 1.0 and will be removed in 1.2. Use one of the class methods: ConfusionMatrixDisplay.from_predictions or ConfusionMatrixDisplay.from_estimator.\n",
            "  warnings.warn(msg, category=FutureWarning)\n",
            "/usr/local/lib/python3.7/dist-packages/sklearn/utils/deprecation.py:87: FutureWarning: Function plot_roc_curve is deprecated; Function `plot_roc_curve` is deprecated in 1.0 and will be removed in 1.2. Use one of the class methods: RocCurveDisplay.from_predictions or RocCurveDisplay.from_estimator.\n",
            "  warnings.warn(msg, category=FutureWarning)\n"
          ]
        },
        {
          "output_type": "stream",
          "name": "stdout",
          "text": [
            "Classifier:  RandomForest\n",
            "Checking if file tuned_classifiers/RandomForest_no_oversampling_recall_tuned_model.joblib exists\n",
            "Appending classifier at position:  6\n",
            "[[116   0]\n",
            " [ 21   0]]\n",
            "tp=0, fn=21, fp=0, tn=116\n",
            "accuracy=0.8467153284671532; recall=0.0\n",
            "----------\n",
            "\n",
            "\n"
          ]
        },
        {
          "output_type": "stream",
          "name": "stderr",
          "text": [
            "/usr/local/lib/python3.7/dist-packages/sklearn/utils/deprecation.py:87: FutureWarning: Function plot_confusion_matrix is deprecated; Function `plot_confusion_matrix` is deprecated in 1.0 and will be removed in 1.2. Use one of the class methods: ConfusionMatrixDisplay.from_predictions or ConfusionMatrixDisplay.from_estimator.\n",
            "  warnings.warn(msg, category=FutureWarning)\n",
            "/usr/local/lib/python3.7/dist-packages/sklearn/utils/deprecation.py:87: FutureWarning: Function plot_roc_curve is deprecated; Function `plot_roc_curve` is deprecated in 1.0 and will be removed in 1.2. Use one of the class methods: RocCurveDisplay.from_predictions or RocCurveDisplay.from_estimator.\n",
            "  warnings.warn(msg, category=FutureWarning)\n"
          ]
        },
        {
          "output_type": "stream",
          "name": "stdout",
          "text": [
            "Classifier:  KNN\n",
            "Checking if file tuned_classifiers/KNN_no_oversampling_recall_tuned_model.joblib exists\n",
            "Appending classifier at position:  6\n",
            "[[104  12]\n",
            " [ 18   3]]\n",
            "tp=3, fn=18, fp=12, tn=104\n",
            "accuracy=0.781021897810219; recall=0.14285714285714285\n",
            "----------\n",
            "\n",
            "\n"
          ]
        },
        {
          "output_type": "stream",
          "name": "stderr",
          "text": [
            "/usr/local/lib/python3.7/dist-packages/sklearn/utils/deprecation.py:87: FutureWarning: Function plot_confusion_matrix is deprecated; Function `plot_confusion_matrix` is deprecated in 1.0 and will be removed in 1.2. Use one of the class methods: ConfusionMatrixDisplay.from_predictions or ConfusionMatrixDisplay.from_estimator.\n",
            "  warnings.warn(msg, category=FutureWarning)\n",
            "/usr/local/lib/python3.7/dist-packages/sklearn/utils/deprecation.py:87: FutureWarning: Function plot_roc_curve is deprecated; Function `plot_roc_curve` is deprecated in 1.0 and will be removed in 1.2. Use one of the class methods: RocCurveDisplay.from_predictions or RocCurveDisplay.from_estimator.\n",
            "  warnings.warn(msg, category=FutureWarning)\n"
          ]
        },
        {
          "output_type": "stream",
          "name": "stdout",
          "text": [
            "Classifier:  DecisionTree\n",
            "Checking if file tuned_classifiers/DecisionTree_random_oversampling_recall_tuned_model.joblib exists\n",
            "Appending classifier at position:  7\n",
            "[[93 23]\n",
            " [18  3]]\n",
            "tp=3, fn=18, fp=23, tn=93\n",
            "accuracy=0.7007299270072993; recall=0.14285714285714285\n",
            "----------\n",
            "\n",
            "\n"
          ]
        },
        {
          "output_type": "stream",
          "name": "stderr",
          "text": [
            "/usr/local/lib/python3.7/dist-packages/sklearn/utils/deprecation.py:87: FutureWarning: Function plot_confusion_matrix is deprecated; Function `plot_confusion_matrix` is deprecated in 1.0 and will be removed in 1.2. Use one of the class methods: ConfusionMatrixDisplay.from_predictions or ConfusionMatrixDisplay.from_estimator.\n",
            "  warnings.warn(msg, category=FutureWarning)\n",
            "/usr/local/lib/python3.7/dist-packages/sklearn/utils/deprecation.py:87: FutureWarning: Function plot_roc_curve is deprecated; Function `plot_roc_curve` is deprecated in 1.0 and will be removed in 1.2. Use one of the class methods: RocCurveDisplay.from_predictions or RocCurveDisplay.from_estimator.\n",
            "  warnings.warn(msg, category=FutureWarning)\n"
          ]
        },
        {
          "output_type": "stream",
          "name": "stdout",
          "text": [
            "Classifier:  SVC\n",
            "Checking if file tuned_classifiers/SVC_random_oversampling_recall_tuned_model.joblib exists\n",
            "Appending classifier at position:  7\n",
            "[[95 21]\n",
            " [16  5]]\n",
            "tp=5, fn=16, fp=21, tn=95\n",
            "accuracy=0.7299270072992701; recall=0.23809523809523808\n",
            "----------\n",
            "\n",
            "\n"
          ]
        },
        {
          "output_type": "stream",
          "name": "stderr",
          "text": [
            "/usr/local/lib/python3.7/dist-packages/sklearn/utils/deprecation.py:87: FutureWarning: Function plot_confusion_matrix is deprecated; Function `plot_confusion_matrix` is deprecated in 1.0 and will be removed in 1.2. Use one of the class methods: ConfusionMatrixDisplay.from_predictions or ConfusionMatrixDisplay.from_estimator.\n",
            "  warnings.warn(msg, category=FutureWarning)\n",
            "/usr/local/lib/python3.7/dist-packages/sklearn/utils/deprecation.py:87: FutureWarning: Function plot_roc_curve is deprecated; Function `plot_roc_curve` is deprecated in 1.0 and will be removed in 1.2. Use one of the class methods: RocCurveDisplay.from_predictions or RocCurveDisplay.from_estimator.\n",
            "  warnings.warn(msg, category=FutureWarning)\n"
          ]
        },
        {
          "output_type": "stream",
          "name": "stdout",
          "text": [
            "Classifier:  LogisticRegression\n",
            "Checking if file tuned_classifiers/LogisticRegression_random_oversampling_recall_tuned_model.joblib exists\n",
            "Appending classifier at position:  7\n",
            "[[ 16 100]\n",
            " [  1  20]]\n",
            "tp=20, fn=1, fp=100, tn=16\n",
            "accuracy=0.26277372262773724; recall=0.9523809523809523\n",
            "----------\n",
            "\n",
            "\n"
          ]
        },
        {
          "output_type": "stream",
          "name": "stderr",
          "text": [
            "/usr/local/lib/python3.7/dist-packages/sklearn/utils/deprecation.py:87: FutureWarning: Function plot_confusion_matrix is deprecated; Function `plot_confusion_matrix` is deprecated in 1.0 and will be removed in 1.2. Use one of the class methods: ConfusionMatrixDisplay.from_predictions or ConfusionMatrixDisplay.from_estimator.\n",
            "  warnings.warn(msg, category=FutureWarning)\n",
            "/usr/local/lib/python3.7/dist-packages/sklearn/utils/deprecation.py:87: FutureWarning: Function plot_roc_curve is deprecated; Function `plot_roc_curve` is deprecated in 1.0 and will be removed in 1.2. Use one of the class methods: RocCurveDisplay.from_predictions or RocCurveDisplay.from_estimator.\n",
            "  warnings.warn(msg, category=FutureWarning)\n"
          ]
        },
        {
          "output_type": "stream",
          "name": "stdout",
          "text": [
            "Classifier:  RandomForest\n",
            "Checking if file tuned_classifiers/RandomForest_random_oversampling_recall_tuned_model.joblib exists\n",
            "Appending classifier at position:  7\n",
            "[[101  15]\n",
            " [ 15   6]]\n",
            "tp=6, fn=15, fp=15, tn=101\n",
            "accuracy=0.781021897810219; recall=0.2857142857142857\n",
            "----------\n",
            "\n",
            "\n"
          ]
        },
        {
          "output_type": "stream",
          "name": "stderr",
          "text": [
            "/usr/local/lib/python3.7/dist-packages/sklearn/utils/deprecation.py:87: FutureWarning: Function plot_confusion_matrix is deprecated; Function `plot_confusion_matrix` is deprecated in 1.0 and will be removed in 1.2. Use one of the class methods: ConfusionMatrixDisplay.from_predictions or ConfusionMatrixDisplay.from_estimator.\n",
            "  warnings.warn(msg, category=FutureWarning)\n",
            "/usr/local/lib/python3.7/dist-packages/sklearn/utils/deprecation.py:87: FutureWarning: Function plot_roc_curve is deprecated; Function `plot_roc_curve` is deprecated in 1.0 and will be removed in 1.2. Use one of the class methods: RocCurveDisplay.from_predictions or RocCurveDisplay.from_estimator.\n",
            "  warnings.warn(msg, category=FutureWarning)\n"
          ]
        },
        {
          "output_type": "stream",
          "name": "stdout",
          "text": [
            "Classifier:  KNN\n",
            "Checking if file tuned_classifiers/KNN_random_oversampling_recall_tuned_model.joblib exists\n",
            "Appending classifier at position:  7\n",
            "[[81 35]\n",
            " [12  9]]\n",
            "tp=9, fn=12, fp=35, tn=81\n",
            "accuracy=0.656934306569343; recall=0.42857142857142855\n",
            "----------\n",
            "\n",
            "\n"
          ]
        },
        {
          "output_type": "stream",
          "name": "stderr",
          "text": [
            "/usr/local/lib/python3.7/dist-packages/sklearn/utils/deprecation.py:87: FutureWarning: Function plot_confusion_matrix is deprecated; Function `plot_confusion_matrix` is deprecated in 1.0 and will be removed in 1.2. Use one of the class methods: ConfusionMatrixDisplay.from_predictions or ConfusionMatrixDisplay.from_estimator.\n",
            "  warnings.warn(msg, category=FutureWarning)\n",
            "/usr/local/lib/python3.7/dist-packages/sklearn/utils/deprecation.py:87: FutureWarning: Function plot_roc_curve is deprecated; Function `plot_roc_curve` is deprecated in 1.0 and will be removed in 1.2. Use one of the class methods: RocCurveDisplay.from_predictions or RocCurveDisplay.from_estimator.\n",
            "  warnings.warn(msg, category=FutureWarning)\n"
          ]
        },
        {
          "output_type": "stream",
          "name": "stdout",
          "text": [
            "Classifier:  DecisionTree\n",
            "Checking if file tuned_classifiers/DecisionTree_SMOTE_recall_tuned_model.joblib exists\n",
            "Appending classifier at position:  8\n",
            "[[62 54]\n",
            " [ 7 14]]\n",
            "tp=14, fn=7, fp=54, tn=62\n",
            "accuracy=0.5547445255474452; recall=0.6666666666666666\n",
            "----------\n",
            "\n",
            "\n"
          ]
        },
        {
          "output_type": "stream",
          "name": "stderr",
          "text": [
            "/usr/local/lib/python3.7/dist-packages/sklearn/utils/deprecation.py:87: FutureWarning: Function plot_confusion_matrix is deprecated; Function `plot_confusion_matrix` is deprecated in 1.0 and will be removed in 1.2. Use one of the class methods: ConfusionMatrixDisplay.from_predictions or ConfusionMatrixDisplay.from_estimator.\n",
            "  warnings.warn(msg, category=FutureWarning)\n",
            "/usr/local/lib/python3.7/dist-packages/sklearn/utils/deprecation.py:87: FutureWarning: Function plot_roc_curve is deprecated; Function `plot_roc_curve` is deprecated in 1.0 and will be removed in 1.2. Use one of the class methods: RocCurveDisplay.from_predictions or RocCurveDisplay.from_estimator.\n",
            "  warnings.warn(msg, category=FutureWarning)\n"
          ]
        },
        {
          "output_type": "stream",
          "name": "stdout",
          "text": [
            "Classifier:  SVC\n",
            "Checking if file tuned_classifiers/SVC_SMOTE_recall_tuned_model.joblib exists\n",
            "Appending classifier at position:  8\n",
            "[[45 71]\n",
            " [ 4 17]]\n",
            "tp=17, fn=4, fp=71, tn=45\n",
            "accuracy=0.45255474452554745; recall=0.8095238095238095\n",
            "----------\n",
            "\n",
            "\n"
          ]
        },
        {
          "output_type": "stream",
          "name": "stderr",
          "text": [
            "/usr/local/lib/python3.7/dist-packages/sklearn/utils/deprecation.py:87: FutureWarning: Function plot_confusion_matrix is deprecated; Function `plot_confusion_matrix` is deprecated in 1.0 and will be removed in 1.2. Use one of the class methods: ConfusionMatrixDisplay.from_predictions or ConfusionMatrixDisplay.from_estimator.\n",
            "  warnings.warn(msg, category=FutureWarning)\n",
            "/usr/local/lib/python3.7/dist-packages/sklearn/utils/deprecation.py:87: FutureWarning: Function plot_roc_curve is deprecated; Function `plot_roc_curve` is deprecated in 1.0 and will be removed in 1.2. Use one of the class methods: RocCurveDisplay.from_predictions or RocCurveDisplay.from_estimator.\n",
            "  warnings.warn(msg, category=FutureWarning)\n"
          ]
        },
        {
          "output_type": "stream",
          "name": "stdout",
          "text": [
            "Classifier:  LogisticRegression\n",
            "Checking if file tuned_classifiers/LogisticRegression_SMOTE_recall_tuned_model.joblib exists\n",
            "Appending classifier at position:  8\n",
            "[[ 15 101]\n",
            " [  1  20]]\n",
            "tp=20, fn=1, fp=101, tn=15\n",
            "accuracy=0.25547445255474455; recall=0.9523809523809523\n",
            "----------\n",
            "\n",
            "\n"
          ]
        },
        {
          "output_type": "stream",
          "name": "stderr",
          "text": [
            "/usr/local/lib/python3.7/dist-packages/sklearn/utils/deprecation.py:87: FutureWarning: Function plot_confusion_matrix is deprecated; Function `plot_confusion_matrix` is deprecated in 1.0 and will be removed in 1.2. Use one of the class methods: ConfusionMatrixDisplay.from_predictions or ConfusionMatrixDisplay.from_estimator.\n",
            "  warnings.warn(msg, category=FutureWarning)\n",
            "/usr/local/lib/python3.7/dist-packages/sklearn/utils/deprecation.py:87: FutureWarning: Function plot_roc_curve is deprecated; Function `plot_roc_curve` is deprecated in 1.0 and will be removed in 1.2. Use one of the class methods: RocCurveDisplay.from_predictions or RocCurveDisplay.from_estimator.\n",
            "  warnings.warn(msg, category=FutureWarning)\n"
          ]
        },
        {
          "output_type": "stream",
          "name": "stdout",
          "text": [
            "Classifier:  RandomForest\n",
            "Checking if file tuned_classifiers/RandomForest_SMOTE_recall_tuned_model.joblib exists\n",
            "Appending classifier at position:  8\n",
            "[[90 26]\n",
            " [16  5]]\n",
            "tp=5, fn=16, fp=26, tn=90\n",
            "accuracy=0.6934306569343066; recall=0.23809523809523808\n",
            "----------\n",
            "\n",
            "\n"
          ]
        },
        {
          "output_type": "stream",
          "name": "stderr",
          "text": [
            "/usr/local/lib/python3.7/dist-packages/sklearn/utils/deprecation.py:87: FutureWarning: Function plot_confusion_matrix is deprecated; Function `plot_confusion_matrix` is deprecated in 1.0 and will be removed in 1.2. Use one of the class methods: ConfusionMatrixDisplay.from_predictions or ConfusionMatrixDisplay.from_estimator.\n",
            "  warnings.warn(msg, category=FutureWarning)\n",
            "/usr/local/lib/python3.7/dist-packages/sklearn/utils/deprecation.py:87: FutureWarning: Function plot_roc_curve is deprecated; Function `plot_roc_curve` is deprecated in 1.0 and will be removed in 1.2. Use one of the class methods: RocCurveDisplay.from_predictions or RocCurveDisplay.from_estimator.\n",
            "  warnings.warn(msg, category=FutureWarning)\n"
          ]
        },
        {
          "output_type": "stream",
          "name": "stdout",
          "text": [
            "Classifier:  KNN\n",
            "Checking if file tuned_classifiers/KNN_SMOTE_recall_tuned_model.joblib exists\n",
            "Appending classifier at position:  8\n",
            "[[66 50]\n",
            " [11 10]]\n",
            "tp=10, fn=11, fp=50, tn=66\n",
            "accuracy=0.5547445255474452; recall=0.47619047619047616\n",
            "----------\n",
            "\n",
            "\n"
          ]
        },
        {
          "output_type": "stream",
          "name": "stderr",
          "text": [
            "/usr/local/lib/python3.7/dist-packages/sklearn/utils/deprecation.py:87: FutureWarning: Function plot_confusion_matrix is deprecated; Function `plot_confusion_matrix` is deprecated in 1.0 and will be removed in 1.2. Use one of the class methods: ConfusionMatrixDisplay.from_predictions or ConfusionMatrixDisplay.from_estimator.\n",
            "  warnings.warn(msg, category=FutureWarning)\n",
            "/usr/local/lib/python3.7/dist-packages/sklearn/utils/deprecation.py:87: FutureWarning: Function plot_roc_curve is deprecated; Function `plot_roc_curve` is deprecated in 1.0 and will be removed in 1.2. Use one of the class methods: RocCurveDisplay.from_predictions or RocCurveDisplay.from_estimator.\n",
            "  warnings.warn(msg, category=FutureWarning)\n"
          ]
        },
        {
          "output_type": "stream",
          "name": "stdout",
          "text": [
            "Classifier:  DecisionTree\n",
            "Checking if file tuned_classifiers/DecisionTree_PCA_recall_tuned_model.joblib exists\n",
            "Appending classifier at position:  9\n",
            "[[116   0]\n",
            " [  0  21]]\n",
            "tp=21, fn=0, fp=0, tn=116\n",
            "accuracy=1.0; recall=1.0\n",
            "----------\n",
            "\n",
            "\n"
          ]
        },
        {
          "output_type": "stream",
          "name": "stderr",
          "text": [
            "/usr/local/lib/python3.7/dist-packages/sklearn/utils/deprecation.py:87: FutureWarning: Function plot_confusion_matrix is deprecated; Function `plot_confusion_matrix` is deprecated in 1.0 and will be removed in 1.2. Use one of the class methods: ConfusionMatrixDisplay.from_predictions or ConfusionMatrixDisplay.from_estimator.\n",
            "  warnings.warn(msg, category=FutureWarning)\n",
            "/usr/local/lib/python3.7/dist-packages/sklearn/utils/deprecation.py:87: FutureWarning: Function plot_roc_curve is deprecated; Function `plot_roc_curve` is deprecated in 1.0 and will be removed in 1.2. Use one of the class methods: RocCurveDisplay.from_predictions or RocCurveDisplay.from_estimator.\n",
            "  warnings.warn(msg, category=FutureWarning)\n"
          ]
        },
        {
          "output_type": "stream",
          "name": "stdout",
          "text": [
            "Classifier:  SVC\n",
            "Checking if file tuned_classifiers/SVC_PCA_recall_tuned_model.joblib exists\n",
            "Appending classifier at position:  9\n",
            "[[116   0]\n",
            " [  0  21]]\n",
            "tp=21, fn=0, fp=0, tn=116\n",
            "accuracy=1.0; recall=1.0\n",
            "----------\n",
            "\n",
            "\n"
          ]
        },
        {
          "output_type": "stream",
          "name": "stderr",
          "text": [
            "/usr/local/lib/python3.7/dist-packages/sklearn/utils/deprecation.py:87: FutureWarning: Function plot_confusion_matrix is deprecated; Function `plot_confusion_matrix` is deprecated in 1.0 and will be removed in 1.2. Use one of the class methods: ConfusionMatrixDisplay.from_predictions or ConfusionMatrixDisplay.from_estimator.\n",
            "  warnings.warn(msg, category=FutureWarning)\n",
            "/usr/local/lib/python3.7/dist-packages/sklearn/utils/deprecation.py:87: FutureWarning: Function plot_roc_curve is deprecated; Function `plot_roc_curve` is deprecated in 1.0 and will be removed in 1.2. Use one of the class methods: RocCurveDisplay.from_predictions or RocCurveDisplay.from_estimator.\n",
            "  warnings.warn(msg, category=FutureWarning)\n"
          ]
        },
        {
          "output_type": "stream",
          "name": "stdout",
          "text": [
            "Classifier:  LogisticRegression\n",
            "Checking if file tuned_classifiers/LogisticRegression_PCA_recall_tuned_model.joblib exists\n",
            "Appending classifier at position:  9\n",
            "[[116   0]\n",
            " [  0  21]]\n",
            "tp=21, fn=0, fp=0, tn=116\n",
            "accuracy=1.0; recall=1.0\n",
            "----------\n",
            "\n",
            "\n"
          ]
        },
        {
          "output_type": "stream",
          "name": "stderr",
          "text": [
            "/usr/local/lib/python3.7/dist-packages/sklearn/utils/deprecation.py:87: FutureWarning: Function plot_confusion_matrix is deprecated; Function `plot_confusion_matrix` is deprecated in 1.0 and will be removed in 1.2. Use one of the class methods: ConfusionMatrixDisplay.from_predictions or ConfusionMatrixDisplay.from_estimator.\n",
            "  warnings.warn(msg, category=FutureWarning)\n",
            "/usr/local/lib/python3.7/dist-packages/sklearn/utils/deprecation.py:87: FutureWarning: Function plot_roc_curve is deprecated; Function `plot_roc_curve` is deprecated in 1.0 and will be removed in 1.2. Use one of the class methods: RocCurveDisplay.from_predictions or RocCurveDisplay.from_estimator.\n",
            "  warnings.warn(msg, category=FutureWarning)\n"
          ]
        },
        {
          "output_type": "stream",
          "name": "stdout",
          "text": [
            "Classifier:  RandomForest\n",
            "Checking if file tuned_classifiers/RandomForest_PCA_recall_tuned_model.joblib exists\n",
            "Appending classifier at position:  9\n",
            "[[115   1]\n",
            " [  0  21]]\n",
            "tp=21, fn=0, fp=1, tn=115\n",
            "accuracy=0.9927007299270073; recall=1.0\n",
            "----------\n",
            "\n",
            "\n"
          ]
        },
        {
          "output_type": "stream",
          "name": "stderr",
          "text": [
            "/usr/local/lib/python3.7/dist-packages/sklearn/utils/deprecation.py:87: FutureWarning: Function plot_confusion_matrix is deprecated; Function `plot_confusion_matrix` is deprecated in 1.0 and will be removed in 1.2. Use one of the class methods: ConfusionMatrixDisplay.from_predictions or ConfusionMatrixDisplay.from_estimator.\n",
            "  warnings.warn(msg, category=FutureWarning)\n",
            "/usr/local/lib/python3.7/dist-packages/sklearn/utils/deprecation.py:87: FutureWarning: Function plot_roc_curve is deprecated; Function `plot_roc_curve` is deprecated in 1.0 and will be removed in 1.2. Use one of the class methods: RocCurveDisplay.from_predictions or RocCurveDisplay.from_estimator.\n",
            "  warnings.warn(msg, category=FutureWarning)\n"
          ]
        },
        {
          "output_type": "stream",
          "name": "stdout",
          "text": [
            "Classifier:  KNN\n",
            "Checking if file tuned_classifiers/KNN_PCA_recall_tuned_model.joblib exists\n",
            "Appending classifier at position:  9\n",
            "[[116   0]\n",
            " [  0  21]]\n",
            "tp=21, fn=0, fp=0, tn=116\n",
            "accuracy=1.0; recall=1.0\n",
            "----------\n",
            "\n",
            "\n"
          ]
        },
        {
          "output_type": "stream",
          "name": "stderr",
          "text": [
            "/usr/local/lib/python3.7/dist-packages/sklearn/utils/deprecation.py:87: FutureWarning: Function plot_confusion_matrix is deprecated; Function `plot_confusion_matrix` is deprecated in 1.0 and will be removed in 1.2. Use one of the class methods: ConfusionMatrixDisplay.from_predictions or ConfusionMatrixDisplay.from_estimator.\n",
            "  warnings.warn(msg, category=FutureWarning)\n",
            "/usr/local/lib/python3.7/dist-packages/sklearn/utils/deprecation.py:87: FutureWarning: Function plot_roc_curve is deprecated; Function `plot_roc_curve` is deprecated in 1.0 and will be removed in 1.2. Use one of the class methods: RocCurveDisplay.from_predictions or RocCurveDisplay.from_estimator.\n",
            "  warnings.warn(msg, category=FutureWarning)\n"
          ]
        },
        {
          "output_type": "stream",
          "name": "stdout",
          "text": [
            "[[0.85106383 0.84671533 0.73722628 0.67883212 1.        ]\n",
            " [0.85106383 0.84671533 0.72992701 0.65693431 1.        ]\n",
            " [0.85106383 0.84671533 0.77372263 0.5620438  1.        ]\n",
            " [0.85106383 0.84671533 0.7810219  0.66423358 1.        ]\n",
            " [0.85106383 0.84671533 0.7810219  0.64233577 1.        ]]\n",
            "[[0.42857143 0.19047619 0.14285714 0.66666667 1.        ]\n",
            " [0.         0.04761905 0.23809524 0.80952381 1.        ]\n",
            " [0.         0.         0.95238095 0.95238095 1.        ]\n",
            " [0.         0.         0.28571429 0.23809524 1.        ]\n",
            " [0.14285714 0.14285714 0.42857143 0.47619048 1.        ]]\n"
          ]
        }
      ]
    },
    {
      "cell_type": "code",
      "metadata": {
        "id": "-qjbKNXlZf_K",
        "colab": {
          "base_uri": "https://localhost:8080/"
        },
        "outputId": "b80f3a00-a615-4a91-8eb3-095a90a6e657"
      },
      "source": [
        "tuned_classifiers['SVC'][8].get_params()"
      ],
      "execution_count": null,
      "outputs": [
        {
          "output_type": "execute_result",
          "data": {
            "text/plain": [
              "{'C': 0.1,\n",
              " 'break_ties': False,\n",
              " 'cache_size': 200,\n",
              " 'class_weight': None,\n",
              " 'coef0': 0.0,\n",
              " 'decision_function_shape': 'ovr',\n",
              " 'degree': 3,\n",
              " 'gamma': 0.001,\n",
              " 'kernel': 'rbf',\n",
              " 'max_iter': -1,\n",
              " 'probability': False,\n",
              " 'random_state': None,\n",
              " 'shrinking': True,\n",
              " 'tol': 0.001,\n",
              " 'verbose': False}"
            ]
          },
          "metadata": {},
          "execution_count": 23
        }
      ]
    },
    {
      "cell_type": "code",
      "metadata": {
        "colab": {
          "base_uri": "https://localhost:8080/"
        },
        "id": "VwAplZwtUEIP",
        "outputId": "3b6a0b23-3214-4e6d-e6db-9b6ca1fd8d64"
      },
      "source": [
        "feature_importance = tuned_classifiers['DecisionTree'][-1].feature_importances_\n",
        "print(feature_importance)\n",
        "print(len(feature_importance))"
      ],
      "execution_count": null,
      "outputs": [
        {
          "output_type": "stream",
          "name": "stdout",
          "text": [
            "[0.         0.54769942 0.23077419 0.07945995 0.12474683 0.\n",
            " 0.01731961 0.         0.        ]\n",
            "9\n"
          ]
        }
      ]
    },
    {
      "cell_type": "code",
      "metadata": {
        "colab": {
          "base_uri": "https://localhost:8080/",
          "height": 224
        },
        "id": "GPKsmhtkWz9W",
        "outputId": "ff497bab-d249-41a2-82ce-af5af4cf66ea"
      },
      "source": [
        "accuracy_table = pd.DataFrame(accuracy_matrix, columns=train_datasets.keys(), index=pd.Index(classifiers.keys()))\n",
        "print(\"Accuracy table\")\n",
        "accuracy_table.head()\n",
        "#accuracy_table.loc[[\"DecisionTree\"], :].head()"
      ],
      "execution_count": null,
      "outputs": [
        {
          "output_type": "stream",
          "name": "stdout",
          "text": [
            "Accuracy table\n"
          ]
        },
        {
          "output_type": "execute_result",
          "data": {
            "text/html": [
              "<div>\n",
              "<style scoped>\n",
              "    .dataframe tbody tr th:only-of-type {\n",
              "        vertical-align: middle;\n",
              "    }\n",
              "\n",
              "    .dataframe tbody tr th {\n",
              "        vertical-align: top;\n",
              "    }\n",
              "\n",
              "    .dataframe thead th {\n",
              "        text-align: right;\n",
              "    }\n",
              "</style>\n",
              "<table border=\"1\" class=\"dataframe\">\n",
              "  <thead>\n",
              "    <tr style=\"text-align: right;\">\n",
              "      <th></th>\n",
              "      <th>with_outliers</th>\n",
              "      <th>no_oversampling</th>\n",
              "      <th>random_oversampling</th>\n",
              "      <th>SMOTE</th>\n",
              "      <th>PCA</th>\n",
              "    </tr>\n",
              "  </thead>\n",
              "  <tbody>\n",
              "    <tr>\n",
              "      <th>DecisionTree</th>\n",
              "      <td>0.851064</td>\n",
              "      <td>0.846715</td>\n",
              "      <td>0.737226</td>\n",
              "      <td>0.678832</td>\n",
              "      <td>1.0</td>\n",
              "    </tr>\n",
              "    <tr>\n",
              "      <th>SVC</th>\n",
              "      <td>0.851064</td>\n",
              "      <td>0.846715</td>\n",
              "      <td>0.729927</td>\n",
              "      <td>0.656934</td>\n",
              "      <td>1.0</td>\n",
              "    </tr>\n",
              "    <tr>\n",
              "      <th>LogisticRegression</th>\n",
              "      <td>0.851064</td>\n",
              "      <td>0.846715</td>\n",
              "      <td>0.773723</td>\n",
              "      <td>0.562044</td>\n",
              "      <td>1.0</td>\n",
              "    </tr>\n",
              "    <tr>\n",
              "      <th>RandomForest</th>\n",
              "      <td>0.851064</td>\n",
              "      <td>0.846715</td>\n",
              "      <td>0.781022</td>\n",
              "      <td>0.664234</td>\n",
              "      <td>1.0</td>\n",
              "    </tr>\n",
              "    <tr>\n",
              "      <th>KNN</th>\n",
              "      <td>0.851064</td>\n",
              "      <td>0.846715</td>\n",
              "      <td>0.781022</td>\n",
              "      <td>0.642336</td>\n",
              "      <td>1.0</td>\n",
              "    </tr>\n",
              "  </tbody>\n",
              "</table>\n",
              "</div>"
            ],
            "text/plain": [
              "                    with_outliers  no_oversampling  ...     SMOTE  PCA\n",
              "DecisionTree             0.851064         0.846715  ...  0.678832  1.0\n",
              "SVC                      0.851064         0.846715  ...  0.656934  1.0\n",
              "LogisticRegression       0.851064         0.846715  ...  0.562044  1.0\n",
              "RandomForest             0.851064         0.846715  ...  0.664234  1.0\n",
              "KNN                      0.851064         0.846715  ...  0.642336  1.0\n",
              "\n",
              "[5 rows x 5 columns]"
            ]
          },
          "metadata": {},
          "execution_count": 9
        }
      ]
    },
    {
      "cell_type": "code",
      "metadata": {
        "colab": {
          "base_uri": "https://localhost:8080/",
          "height": 224
        },
        "id": "zIN0zW3fXgNw",
        "outputId": "56204c40-d91e-4461-dee1-3c73a5d214ed"
      },
      "source": [
        "recall_table = pd.DataFrame(recall_matrix, columns=train_datasets.keys(), index=pd.Index(classifiers.keys()))\n",
        "print(\"Recall table\")\n",
        "\n",
        "recall_table.head()"
      ],
      "execution_count": null,
      "outputs": [
        {
          "output_type": "stream",
          "name": "stdout",
          "text": [
            "Recall table\n"
          ]
        },
        {
          "output_type": "execute_result",
          "data": {
            "text/html": [
              "<div>\n",
              "<style scoped>\n",
              "    .dataframe tbody tr th:only-of-type {\n",
              "        vertical-align: middle;\n",
              "    }\n",
              "\n",
              "    .dataframe tbody tr th {\n",
              "        vertical-align: top;\n",
              "    }\n",
              "\n",
              "    .dataframe thead th {\n",
              "        text-align: right;\n",
              "    }\n",
              "</style>\n",
              "<table border=\"1\" class=\"dataframe\">\n",
              "  <thead>\n",
              "    <tr style=\"text-align: right;\">\n",
              "      <th></th>\n",
              "      <th>with_outliers</th>\n",
              "      <th>no_oversampling</th>\n",
              "      <th>random_oversampling</th>\n",
              "      <th>SMOTE</th>\n",
              "      <th>PCA</th>\n",
              "    </tr>\n",
              "  </thead>\n",
              "  <tbody>\n",
              "    <tr>\n",
              "      <th>DecisionTree</th>\n",
              "      <td>0.428571</td>\n",
              "      <td>0.190476</td>\n",
              "      <td>0.142857</td>\n",
              "      <td>0.666667</td>\n",
              "      <td>1.0</td>\n",
              "    </tr>\n",
              "    <tr>\n",
              "      <th>SVC</th>\n",
              "      <td>0.000000</td>\n",
              "      <td>0.047619</td>\n",
              "      <td>0.238095</td>\n",
              "      <td>0.809524</td>\n",
              "      <td>1.0</td>\n",
              "    </tr>\n",
              "    <tr>\n",
              "      <th>LogisticRegression</th>\n",
              "      <td>0.000000</td>\n",
              "      <td>0.000000</td>\n",
              "      <td>0.952381</td>\n",
              "      <td>0.952381</td>\n",
              "      <td>1.0</td>\n",
              "    </tr>\n",
              "    <tr>\n",
              "      <th>RandomForest</th>\n",
              "      <td>0.000000</td>\n",
              "      <td>0.000000</td>\n",
              "      <td>0.285714</td>\n",
              "      <td>0.238095</td>\n",
              "      <td>1.0</td>\n",
              "    </tr>\n",
              "    <tr>\n",
              "      <th>KNN</th>\n",
              "      <td>0.142857</td>\n",
              "      <td>0.142857</td>\n",
              "      <td>0.428571</td>\n",
              "      <td>0.476190</td>\n",
              "      <td>1.0</td>\n",
              "    </tr>\n",
              "  </tbody>\n",
              "</table>\n",
              "</div>"
            ],
            "text/plain": [
              "                    with_outliers  no_oversampling  ...     SMOTE  PCA\n",
              "DecisionTree             0.428571         0.190476  ...  0.666667  1.0\n",
              "SVC                      0.000000         0.047619  ...  0.809524  1.0\n",
              "LogisticRegression       0.000000         0.000000  ...  0.952381  1.0\n",
              "RandomForest             0.000000         0.000000  ...  0.238095  1.0\n",
              "KNN                      0.142857         0.142857  ...  0.476190  1.0\n",
              "\n",
              "[5 rows x 5 columns]"
            ]
          },
          "metadata": {},
          "execution_count": 10
        }
      ]
    },
    {
      "cell_type": "code",
      "metadata": {
        "id": "dLFL7gt6CbMb"
      },
      "source": [
        "def plot_decision_boundaries(X, Y, classifier, classifier_name, dataset):\n",
        "  cf2 = sklearn.base.clone(classifier)\n",
        "  features = X.columns\n",
        "\n",
        "  if (\"tree\" in classifier_name or \"forest\" in classifier_name):\n",
        "    feature_importances = cf2.fit(X, Y).feature_importances_\n",
        "  \n",
        "    fig = plt.figure(figsize=(7,4))\n",
        "    ax = fig.add_axes([0,0,1,1])\n",
        "    ax.bar(features, feature_importances)\n",
        "    plt.xticks(rotation=90)\n",
        "    plt.show() \n",
        "    features = np.array([x for _,x in sorted(zip(feature_importances,features), reverse=True)])\n",
        "\n",
        "  # print(features)\n",
        "  n_classes = 2\n",
        "  labels = ['Death_1yr=FALSE', 'Death_1yr=TRUE']\n",
        "  plot_colors = [\"red\", \"blue\"]\n",
        "  \n",
        "  plot_step = 0.02\n",
        "\n",
        "  plt.figure(figsize=(20, 10), dpi=80)\n",
        "\n",
        "  for pairidx, pair in enumerate([[0, 1], [0, 2], [1, 2]]):\n",
        "      _X = X.values[:, pair]\n",
        "      y = Y.values\n",
        "      clf = classifier.fit(_X, y)\n",
        "      selected_features = features[pair]\n",
        "\n",
        "      # Plot the decision boundary\n",
        "      plt.subplot(2, 3, pairidx + 1)\n",
        "\n",
        "      x_min, x_max = _X[:, 0].min() - 1, _X[:, 0].max() + 1\n",
        "      y_min, y_max = _X[:, 1].min() - 1, _X[:, 1].max() + 1\n",
        "      xx, yy = np.meshgrid(\n",
        "          np.arange(x_min, x_max, plot_step), np.arange(y_min, y_max, plot_step)\n",
        "      )\n",
        "      plt.tight_layout(h_pad=0.5, w_pad=0.5, pad=2.5)\n",
        "\n",
        "      Z = clf.predict(np.c_[xx.ravel(), yy.ravel()])\n",
        "      Z = Z.reshape(xx.shape)\n",
        "      cs = plt.contourf(xx, yy, Z, cmap=plt.cm.RdYlBu)\n",
        "\n",
        "      plt.xlabel(selected_features[0])\n",
        "      plt.ylabel(selected_features[1])\n",
        "\n",
        "      # Plot the training points\n",
        "      for i, color in zip(range(n_classes), plot_colors):\n",
        "          idx = np.where(y == i)\n",
        "          plt.scatter(\n",
        "              _X[idx, 0],\n",
        "              _X[idx, 1],\n",
        "              c=color,\n",
        "              label=labels[i],\n",
        "              cmap=plt.cm.RdYlBu,\n",
        "              edgecolor=\"black\",\n",
        "              s=15,\n",
        "          )\n",
        "\n",
        "\n",
        "  plt.suptitle(f\"Decision surface of a {classifier_name} using paired features on {dataset} dataset\")\n",
        "  plt.legend(loc=\"lower right\", borderpad=0, handletextpad=0)\n",
        "  plt.axis(\"tight\")\n",
        "  plt.show()"
      ],
      "execution_count": null,
      "outputs": []
    },
    {
      "cell_type": "markdown",
      "metadata": {
        "id": "xCwHbDPmQNVR"
      },
      "source": [
        "## Decision tree"
      ]
    },
    {
      "cell_type": "markdown",
      "metadata": {
        "id": "xLC5fMrqcf2O"
      },
      "source": [
        "### Smote"
      ]
    },
    {
      "cell_type": "code",
      "metadata": {
        "id": "ckITUEaYIkc6",
        "colab": {
          "base_uri": "https://localhost:8080/",
          "height": 1000
        },
        "outputId": "41e35b09-6e8e-4044-8827-40b91163ef1f"
      },
      "source": [
        "clf = tuned_classifiers['DecisionTree'][8]\n",
        "X = load_dataset(name='ThoracicSurgery_test.csv')\n",
        "plt.figure(figsize=(20,20))\n",
        "tree.plot_tree(clf, fontsize=10, feature_names=X.columns, class_names=['Death_1yr=False', 'Death_1yr=True'], label='all', filled=True, rounded=True)"
      ],
      "execution_count": null,
      "outputs": [
        {
          "output_type": "execute_result",
          "data": {
            "text/plain": [
              "[Text(558.0, 906.0, 'Tumor_Size <= 0.167\\ngini = 0.5\\nsamples = 540\\nvalue = [270, 270]\\nclass = Death_1yr=False'),\n",
              " Text(279.0, 543.6, 'FVC <= 0.604\\ngini = 0.281\\nsamples = 136\\nvalue = [113, 23]\\nclass = Death_1yr=False'),\n",
              " Text(139.5, 181.19999999999993, 'gini = 0.188\\nsamples = 114\\nvalue = [102, 12]\\nclass = Death_1yr=False'),\n",
              " Text(418.5, 181.19999999999993, 'gini = 0.5\\nsamples = 22\\nvalue = [11, 11]\\nclass = Death_1yr=False'),\n",
              " Text(837.0, 543.6, 'Cough <= 0.5\\ngini = 0.475\\nsamples = 404\\nvalue = [157, 247]\\nclass = Death_1yr=True'),\n",
              " Text(697.5, 181.19999999999993, 'gini = 0.208\\nsamples = 51\\nvalue = [45, 6]\\nclass = Death_1yr=False'),\n",
              " Text(976.5, 181.19999999999993, 'gini = 0.433\\nsamples = 353\\nvalue = [112, 241]\\nclass = Death_1yr=True')]"
            ]
          },
          "metadata": {},
          "execution_count": 12
        },
        {
          "output_type": "display_data",
          "data": {
            "image/png": "[encoded data removed]",
            "text/plain": [
              "<Figure size 1440x1440 with 1 Axes>"
            ]
          },
          "metadata": {
            "needs_background": "light"
          }
        }
      ]
    },
    {
      "cell_type": "code",
      "metadata": {
        "colab": {
          "base_uri": "https://localhost:8080/",
          "height": 821
        },
        "id": "HpauL-tMRE3P",
        "outputId": "cd96c6b3-2a1b-4cee-8a92-fb7e771c4728"
      },
      "source": [
        "# Plot decision tree for SMOTE\n",
        "df_train = train_datasets['SMOTE']\n",
        "x_labels = df_train.keys()[0:-1]\n",
        "y_label = df_train.keys()[-1]\n",
        "\n",
        "X = df_train[x_labels]\n",
        "Y = df_train[y_label]\n",
        "\n",
        "tuned_clf = tuned_classifiers['DecisionTree'][8]\n",
        "params = tuned_clf.get_params()\n",
        "print(params)\n",
        "clf = tree.DecisionTreeClassifier(**params)\n",
        "\n",
        "plot_decision_boundaries(X, Y, clf, 'decision tree', 'SMOTE')"
      ],
      "execution_count": null,
      "outputs": [
        {
          "output_type": "stream",
          "name": "stdout",
          "text": [
            "{'ccp_alpha': 0.0, 'class_weight': None, 'criterion': 'gini', 'max_depth': 2, 'max_features': None, 'max_leaf_nodes': None, 'min_impurity_decrease': 0.0, 'min_samples_leaf': 1, 'min_samples_split': 2, 'min_weight_fraction_leaf': 0.0, 'random_state': 42, 'splitter': 'best'}\n"
          ]
        },
        {
          "output_type": "display_data",
          "data": {
            "image/png": "[encoded data removed]",
            "text/plain": [
              "<Figure size 504x288 with 1 Axes>"
            ]
          },
          "metadata": {
            "needs_background": "light"
          }
        },
        {
          "output_type": "display_data",
          "data": {
            "image/png": "[encoded data removed]",
            "text/plain": [
              "<Figure size 1600x800 with 3 Axes>"
            ]
          },
          "metadata": {
            "needs_background": "light"
          }
        }
      ]
    },
    {
      "cell_type": "markdown",
      "metadata": {
        "id": "2EmaiKCIu9c2"
      },
      "source": [
        "### PCA"
      ]
    },
    {
      "cell_type": "code",
      "metadata": {
        "colab": {
          "base_uri": "https://localhost:8080/",
          "height": 751
        },
        "id": "iJ_jLuAwPi7e",
        "outputId": "8c9b7727-cc54-40fa-8cd0-3ff0f672a5d1"
      },
      "source": [
        "df_train = train_datasets['PCA']\n",
        "x_labels = df_train.keys()[0:-1]\n",
        "y_label = df_train.keys()[-1]\n",
        "\n",
        "X = df_train[x_labels]\n",
        "Y = df_train[y_label]\n",
        "\n",
        "tuned_clf = tuned_classifiers['DecisionTree'][9]\n",
        "params = tuned_clf.get_params()\n",
        "print(params)\n",
        "clf = tree.DecisionTreeClassifier(**params)\n",
        "\n",
        "plot_decision_boundaries(X, Y, clf, 'decision tree', 'PCA')"
      ],
      "execution_count": null,
      "outputs": [
        {
          "output_type": "stream",
          "name": "stdout",
          "text": [
            "{'ccp_alpha': 0.0, 'class_weight': None, 'criterion': 'entropy', 'max_depth': 4, 'max_features': None, 'max_leaf_nodes': None, 'min_impurity_decrease': 0.0, 'min_samples_leaf': 1, 'min_samples_split': 2, 'min_weight_fraction_leaf': 0.0, 'random_state': 42, 'splitter': 'best'}\n"
          ]
        },
        {
          "output_type": "display_data",
          "data": {
            "image/png": "[encoded data removed]",
            "text/plain": [
              "<Figure size 504x288 with 1 Axes>"
            ]
          },
          "metadata": {
            "needs_background": "light"
          }
        },
        {
          "output_type": "display_data",
          "data": {
            "image/png": "[encoded data removed]",
            "text/plain": [
              "<Figure size 1600x800 with 3 Axes>"
            ]
          },
          "metadata": {
            "needs_background": "light"
          }
        }
      ]
    },
    {
      "cell_type": "markdown",
      "metadata": {
        "id": "eR_UNqsUkhvC"
      },
      "source": [
        "## KNN"
      ]
    },
    {
      "cell_type": "code",
      "metadata": {
        "colab": {
          "base_uri": "https://localhost:8080/",
          "height": 98
        },
        "id": "7PZYIZGOk8i_",
        "outputId": "6708a35b-15b9-4ec4-96d6-da21ca3ebe6d"
      },
      "source": [
        "print(\"RECALL TABLE\")\n",
        "recall_table.loc[[\"KNN\"], :].head()"
      ],
      "execution_count": null,
      "outputs": [
        {
          "output_type": "stream",
          "name": "stdout",
          "text": [
            "RECALL TABLE\n"
          ]
        },
        {
          "output_type": "execute_result",
          "data": {
            "text/html": [
              "<div>\n",
              "<style scoped>\n",
              "    .dataframe tbody tr th:only-of-type {\n",
              "        vertical-align: middle;\n",
              "    }\n",
              "\n",
              "    .dataframe tbody tr th {\n",
              "        vertical-align: top;\n",
              "    }\n",
              "\n",
              "    .dataframe thead th {\n",
              "        text-align: right;\n",
              "    }\n",
              "</style>\n",
              "<table border=\"1\" class=\"dataframe\">\n",
              "  <thead>\n",
              "    <tr style=\"text-align: right;\">\n",
              "      <th></th>\n",
              "      <th>with_outliers</th>\n",
              "      <th>no_oversampling</th>\n",
              "      <th>random_oversampling</th>\n",
              "      <th>SMOTE</th>\n",
              "      <th>PCA</th>\n",
              "    </tr>\n",
              "  </thead>\n",
              "  <tbody>\n",
              "    <tr>\n",
              "      <th>KNN</th>\n",
              "      <td>0.142857</td>\n",
              "      <td>0.142857</td>\n",
              "      <td>0.428571</td>\n",
              "      <td>0.47619</td>\n",
              "      <td>1.0</td>\n",
              "    </tr>\n",
              "  </tbody>\n",
              "</table>\n",
              "</div>"
            ],
            "text/plain": [
              "     with_outliers  no_oversampling  random_oversampling    SMOTE  PCA\n",
              "KNN       0.142857         0.142857             0.428571  0.47619  1.0"
            ]
          },
          "metadata": {},
          "execution_count": 15
        }
      ]
    },
    {
      "cell_type": "code",
      "metadata": {
        "id": "4iITuGbpLsUm",
        "colab": {
          "base_uri": "https://localhost:8080/",
          "height": 98
        },
        "outputId": "8ab9cd12-10ea-40a4-f30b-c7f4dd2d7dce"
      },
      "source": [
        "print(\"ACCURACY TABLE\")\n",
        "accuracy_table.loc[[\"KNN\"], :].head()"
      ],
      "execution_count": null,
      "outputs": [
        {
          "output_type": "stream",
          "name": "stdout",
          "text": [
            "ACCURACY TABLE\n"
          ]
        },
        {
          "output_type": "execute_result",
          "data": {
            "text/html": [
              "<div>\n",
              "<style scoped>\n",
              "    .dataframe tbody tr th:only-of-type {\n",
              "        vertical-align: middle;\n",
              "    }\n",
              "\n",
              "    .dataframe tbody tr th {\n",
              "        vertical-align: top;\n",
              "    }\n",
              "\n",
              "    .dataframe thead th {\n",
              "        text-align: right;\n",
              "    }\n",
              "</style>\n",
              "<table border=\"1\" class=\"dataframe\">\n",
              "  <thead>\n",
              "    <tr style=\"text-align: right;\">\n",
              "      <th></th>\n",
              "      <th>with_outliers</th>\n",
              "      <th>no_oversampling</th>\n",
              "      <th>random_oversampling</th>\n",
              "      <th>SMOTE</th>\n",
              "      <th>PCA</th>\n",
              "    </tr>\n",
              "  </thead>\n",
              "  <tbody>\n",
              "    <tr>\n",
              "      <th>KNN</th>\n",
              "      <td>0.851064</td>\n",
              "      <td>0.846715</td>\n",
              "      <td>0.781022</td>\n",
              "      <td>0.642336</td>\n",
              "      <td>1.0</td>\n",
              "    </tr>\n",
              "  </tbody>\n",
              "</table>\n",
              "</div>"
            ],
            "text/plain": [
              "     with_outliers  no_oversampling  random_oversampling     SMOTE  PCA\n",
              "KNN       0.851064         0.846715             0.781022  0.642336  1.0"
            ]
          },
          "metadata": {},
          "execution_count": 16
        }
      ]
    },
    {
      "cell_type": "code",
      "metadata": {
        "colab": {
          "base_uri": "https://localhost:8080/",
          "height": 385
        },
        "id": "Y2gfnBgarK9F",
        "outputId": "0f9de588-f11f-46e8-eb37-6b4ea0f369cf"
      },
      "source": [
        "#plot decision boundary for PCA dataset\n",
        "df_train = train_datasets['PCA']\n",
        "x_labels = df_train.keys()[0:-1]\n",
        "y_label = df_train.keys()[-1]\n",
        "\n",
        "X = df_train[x_labels]\n",
        "Y = df_train[y_label]\n",
        "\n",
        "tuned_clf = tuned_classifiers['KNN'][9]\n",
        "params = tuned_clf.get_params()\n",
        "\n",
        "clf = neighbors.KNeighborsClassifier(**params)\n",
        "\n",
        "plot_decision_boundaries(X, Y, clf, 'KNN', 'PCA')"
      ],
      "execution_count": null,
      "outputs": [
        {
          "output_type": "display_data",
          "data": {
            "image/png": "[encoded data removed]",
            "text/plain": [
              "<Figure size 1600x800 with 3 Axes>"
            ]
          },
          "metadata": {
            "needs_background": "light"
          }
        }
      ]
    },
    {
      "cell_type": "markdown",
      "metadata": {
        "id": "10Qm18T1w4Ps"
      },
      "source": [
        "## Random Forest"
      ]
    },
    {
      "cell_type": "code",
      "metadata": {
        "colab": {
          "base_uri": "https://localhost:8080/",
          "height": 98
        },
        "id": "w0T-1nirxAJh",
        "outputId": "b1d42a34-a095-47a8-f956-bcdaacca68c1"
      },
      "source": [
        "print(\"RECALL TABLE\")\n",
        "recall_table.loc[[\"RandomForest\"], :].head()"
      ],
      "execution_count": null,
      "outputs": [
        {
          "output_type": "stream",
          "name": "stdout",
          "text": [
            "RECALL TABLE\n"
          ]
        },
        {
          "output_type": "execute_result",
          "data": {
            "text/html": [
              "<div>\n",
              "<style scoped>\n",
              "    .dataframe tbody tr th:only-of-type {\n",
              "        vertical-align: middle;\n",
              "    }\n",
              "\n",
              "    .dataframe tbody tr th {\n",
              "        vertical-align: top;\n",
              "    }\n",
              "\n",
              "    .dataframe thead th {\n",
              "        text-align: right;\n",
              "    }\n",
              "</style>\n",
              "<table border=\"1\" class=\"dataframe\">\n",
              "  <thead>\n",
              "    <tr style=\"text-align: right;\">\n",
              "      <th></th>\n",
              "      <th>with_outliers</th>\n",
              "      <th>no_oversampling</th>\n",
              "      <th>random_oversampling</th>\n",
              "      <th>SMOTE</th>\n",
              "      <th>PCA</th>\n",
              "    </tr>\n",
              "  </thead>\n",
              "  <tbody>\n",
              "    <tr>\n",
              "      <th>RandomForest</th>\n",
              "      <td>0.0</td>\n",
              "      <td>0.0</td>\n",
              "      <td>0.285714</td>\n",
              "      <td>0.238095</td>\n",
              "      <td>1.0</td>\n",
              "    </tr>\n",
              "  </tbody>\n",
              "</table>\n",
              "</div>"
            ],
            "text/plain": [
              "              with_outliers  no_oversampling  ...     SMOTE  PCA\n",
              "RandomForest            0.0              0.0  ...  0.238095  1.0\n",
              "\n",
              "[1 rows x 5 columns]"
            ]
          },
          "metadata": {},
          "execution_count": 18
        }
      ]
    },
    {
      "cell_type": "code",
      "metadata": {
        "colab": {
          "base_uri": "https://localhost:8080/",
          "height": 98
        },
        "id": "Igq6LQslxDtF",
        "outputId": "dfd4c6f8-0669-4db1-a016-05eaab7e3896"
      },
      "source": [
        "print(\"ACCURACY TABLE\")\n",
        "accuracy_table.loc[[\"RandomForest\"], :].head()"
      ],
      "execution_count": null,
      "outputs": [
        {
          "output_type": "stream",
          "name": "stdout",
          "text": [
            "ACCURACY TABLE\n"
          ]
        },
        {
          "output_type": "execute_result",
          "data": {
            "text/html": [
              "<div>\n",
              "<style scoped>\n",
              "    .dataframe tbody tr th:only-of-type {\n",
              "        vertical-align: middle;\n",
              "    }\n",
              "\n",
              "    .dataframe tbody tr th {\n",
              "        vertical-align: top;\n",
              "    }\n",
              "\n",
              "    .dataframe thead th {\n",
              "        text-align: right;\n",
              "    }\n",
              "</style>\n",
              "<table border=\"1\" class=\"dataframe\">\n",
              "  <thead>\n",
              "    <tr style=\"text-align: right;\">\n",
              "      <th></th>\n",
              "      <th>with_outliers</th>\n",
              "      <th>no_oversampling</th>\n",
              "      <th>random_oversampling</th>\n",
              "      <th>SMOTE</th>\n",
              "      <th>PCA</th>\n",
              "    </tr>\n",
              "  </thead>\n",
              "  <tbody>\n",
              "    <tr>\n",
              "      <th>RandomForest</th>\n",
              "      <td>0.851064</td>\n",
              "      <td>0.846715</td>\n",
              "      <td>0.781022</td>\n",
              "      <td>0.664234</td>\n",
              "      <td>1.0</td>\n",
              "    </tr>\n",
              "  </tbody>\n",
              "</table>\n",
              "</div>"
            ],
            "text/plain": [
              "              with_outliers  no_oversampling  ...     SMOTE  PCA\n",
              "RandomForest       0.851064         0.846715  ...  0.664234  1.0\n",
              "\n",
              "[1 rows x 5 columns]"
            ]
          },
          "metadata": {},
          "execution_count": 19
        }
      ]
    },
    {
      "cell_type": "code",
      "metadata": {
        "colab": {
          "base_uri": "https://localhost:8080/",
          "height": 778
        },
        "id": "zlEqUh9yxkuf",
        "outputId": "4cb3b3d6-b0dc-44ef-a7d7-82c5f82cdeef"
      },
      "source": [
        "#plot decision boundary for PCA dataset\n",
        "df_train = train_datasets['PCA']\n",
        "x_labels = df_train.keys()[0:-1]\n",
        "y_label = df_train.keys()[-1]\n",
        "\n",
        "X = df_train[x_labels]\n",
        "Y = df_train[y_label]\n",
        "\n",
        "tuned_clf = tuned_classifiers['RandomForest'][9]\n",
        "params = tuned_clf.get_params()\n",
        "\n",
        "clf = ensemble.RandomForestClassifier(**params)\n",
        "\n",
        "plot_decision_boundaries(X, Y, clf, 'Random forest', 'PCA')"
      ],
      "execution_count": null,
      "outputs": [
        {
          "output_type": "display_data",
          "data": {
            "image/png": "[encoded data removed]",
            "text/plain": [
              "<Figure size 504x288 with 1 Axes>"
            ]
          },
          "metadata": {
            "needs_background": "light"
          }
        },
        {
          "output_type": "display_data",
          "data": {
            "image/png": "[encoded data removed]",
            "text/plain": [
              "<Figure size 1600x800 with 3 Axes>"
            ]
          },
          "metadata": {
            "needs_background": "light"
          }
        }
      ]
    },
    {
      "cell_type": "markdown",
      "metadata": {
        "id": "Kuykgf22V9NZ"
      },
      "source": [
        "## SVC"
      ]
    },
    {
      "cell_type": "code",
      "metadata": {
        "colab": {
          "base_uri": "https://localhost:8080/"
        },
        "id": "I-bP6fwAWEwx",
        "outputId": "44d53e87-455e-47ff-9891-f7380cc20fc5"
      },
      "source": [
        "df_train = train_datasets['PCA']\n",
        "df_test = test_datasets['PCA']\n",
        "x_labels = df_train.keys()[0:-1]\n",
        "y_label = df_train.keys()[-1]\n",
        "\n",
        "X = df_train[x_labels]\n",
        "Y = df_train[y_label]\n",
        "\n",
        "\n",
        "X_test = df_test[x_labels]\n",
        "Y_test = df_test[y_label]\n",
        "\n",
        "linear_svc = svm.SVC(kernel=\"linear\", C=1000)\n",
        "linear_svc.fit(X, Y)\n",
        "prediction = linear_svc.predict(X_test)\n",
        "confusion_matrix(Y_test, prediction)"
      ],
      "execution_count": null,
      "outputs": [
        {
          "output_type": "execute_result",
          "data": {
            "text/plain": [
              "array([[116,   0],\n",
              "       [  0,  21]])"
            ]
          },
          "metadata": {},
          "execution_count": 26
        }
      ]
    }
  ]
}