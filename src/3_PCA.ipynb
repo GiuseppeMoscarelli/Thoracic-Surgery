{
  "nbformat": 4,
  "nbformat_minor": 0,
  "metadata": {
    "colab": {
      "name": "3_PCA.ipynb",
      "provenance": [],
      "collapsed_sections": []
    },
    "kernelspec": {
      "name": "python3",
      "display_name": "Python 3"
    },
    "language_info": {
      "name": "python"
    }
  },
  "cells": [
    {
      "cell_type": "markdown",
      "metadata": {
        "id": "CPjDvBsoD-sb"
      },
      "source": [
        "###Download dataset\n"
      ]
    },
    {
      "cell_type": "code",
      "metadata": {
        "colab": {
          "base_uri": "https://localhost:8080/"
        },
        "id": "rGImoyATiiLZ",
        "outputId": "97fc2cd8-296f-4497-a015-75ae4caa5a19"
      },
      "source": [
        "!mkdir dataset\n",
        "!wget https://raw.githubusercontent.com/GiuseppeMoscarelli/Thoracic-Surgery/main/dataset/ThoracicSurgery_test.csv -P dataset -nc\n",
        "!wget https://raw.githubusercontent.com/GiuseppeMoscarelli/Thoracic-Surgery/main/dataset/ThoracicSurgery_train.csv -P dataset -nc"
      ],
      "execution_count": 1,
      "outputs": [
        {
          "output_type": "stream",
          "name": "stdout",
          "text": [
            "--2021-11-30 16:01:14--  https://raw.githubusercontent.com/GiuseppeMoscarelli/Thoracic-Surgery/main/dataset/ThoracicSurgery_test.csv\n",
            "Resolving raw.githubusercontent.com (raw.githubusercontent.com)... 185.199.108.133, 185.199.109.133, 185.199.110.133, ...\n",
            "Connecting to raw.githubusercontent.com (raw.githubusercontent.com)|185.199.108.133|:443... connected.\n",
            "HTTP request sent, awaiting response... 200 OK\n",
            "Length: 12981 (13K) [text/plain]\n",
            "Saving to: ‘dataset/ThoracicSurgery_test.csv’\n",
            "\n",
            "\rThoracicSurgery_tes   0%[                    ]       0  --.-KB/s               \rThoracicSurgery_tes 100%[===================>]  12.68K  --.-KB/s    in 0s      \n",
            "\n",
            "2021-11-30 16:01:14 (96.4 MB/s) - ‘dataset/ThoracicSurgery_test.csv’ saved [12981/12981]\n",
            "\n",
            "--2021-11-30 16:01:14--  https://raw.githubusercontent.com/GiuseppeMoscarelli/Thoracic-Surgery/main/dataset/ThoracicSurgery_train.csv\n",
            "Resolving raw.githubusercontent.com (raw.githubusercontent.com)... 185.199.108.133, 185.199.109.133, 185.199.110.133, ...\n",
            "Connecting to raw.githubusercontent.com (raw.githubusercontent.com)|185.199.108.133|:443... connected.\n",
            "HTTP request sent, awaiting response... 200 OK\n",
            "Length: 30141 (29K) [text/plain]\n",
            "Saving to: ‘dataset/ThoracicSurgery_train.csv’\n",
            "\n",
            "ThoracicSurgery_tra 100%[===================>]  29.43K  --.-KB/s    in 0s      \n",
            "\n",
            "2021-11-30 16:01:16 (110 MB/s) - ‘dataset/ThoracicSurgery_train.csv’ saved [30141/30141]\n",
            "\n"
          ]
        }
      ]
    },
    {
      "cell_type": "markdown",
      "metadata": {
        "id": "FxYH8xaVEE1q"
      },
      "source": [
        "### Imports"
      ]
    },
    {
      "cell_type": "code",
      "metadata": {
        "id": "LUaZ2-09ix0Q"
      },
      "source": [
        "from pathlib import Path\n",
        "import pandas as pd\n",
        "import matplotlib.pyplot as plt\n",
        "from sklearn.decomposition import PCA\n",
        "import numpy as np\n",
        "from imblearn.over_sampling import SMOTE\n",
        "\n"
      ],
      "execution_count": 2,
      "outputs": []
    },
    {
      "cell_type": "markdown",
      "metadata": {
        "id": "CgnweMPLEH7o"
      },
      "source": [
        "### Read Datasets"
      ]
    },
    {
      "cell_type": "code",
      "metadata": {
        "id": "K2xFlhGqi069"
      },
      "source": [
        "DATASET_PATH_TEST = Path('.') / 'dataset' / 'ThoracicSurgery_test.csv'\n",
        "DATASET_PATH_TRAIN = Path('.') / 'dataset' / 'ThoracicSurgery_train.csv'\n",
        "\n",
        "\n",
        "def load_dataset(train=True):\n",
        "    path = DATASET_PATH_TRAIN if train else DATASET_PATH_TEST\n",
        "    df = pd.read_csv(path)\n",
        "    return df"
      ],
      "execution_count": 3,
      "outputs": []
    },
    {
      "cell_type": "markdown",
      "metadata": {
        "id": "lJ4_QW59EmCy"
      },
      "source": [
        "### Data manipulation"
      ]
    },
    {
      "cell_type": "code",
      "metadata": {
        "colab": {
          "base_uri": "https://localhost:8080/",
          "height": 0
        },
        "id": "C9gOBb2GjGki",
        "outputId": "6872d43e-a7da-4b72-8e33-32dcd55f9257"
      },
      "source": [
        "pd.set_option('display.max_colwidth', 5000)\n",
        "\n",
        "df_train = load_dataset(train=True)\n",
        "df_test = load_dataset(train=False)\n",
        "\n",
        "df_merged = pd.concat([df_train, df_test])\n",
        "\n",
        "train_len = df_train.shape[0]\n",
        "test_len = df_test.shape[0]\n",
        "total_len = train_len + test_len\n",
        "\n",
        "df_merged.head()"
      ],
      "execution_count": 4,
      "outputs": [
        {
          "output_type": "execute_result",
          "data": {
            "text/html": [
              "<div>\n",
              "<style scoped>\n",
              "    .dataframe tbody tr th:only-of-type {\n",
              "        vertical-align: middle;\n",
              "    }\n",
              "\n",
              "    .dataframe tbody tr th {\n",
              "        vertical-align: top;\n",
              "    }\n",
              "\n",
              "    .dataframe thead th {\n",
              "        text-align: right;\n",
              "    }\n",
              "</style>\n",
              "<table border=\"1\" class=\"dataframe\">\n",
              "  <thead>\n",
              "    <tr style=\"text-align: right;\">\n",
              "      <th></th>\n",
              "      <th>Diagnosis</th>\n",
              "      <th>FVC</th>\n",
              "      <th>FEV1</th>\n",
              "      <th>Performance</th>\n",
              "      <th>Pain</th>\n",
              "      <th>Haemoptysis</th>\n",
              "      <th>Dyspnoea</th>\n",
              "      <th>Cough</th>\n",
              "      <th>Weakness</th>\n",
              "      <th>Tumor_Size</th>\n",
              "      <th>Diabetes_Mellitus</th>\n",
              "      <th>MI_6mo</th>\n",
              "      <th>PAD</th>\n",
              "      <th>Smoking</th>\n",
              "      <th>Asthma</th>\n",
              "      <th>Age</th>\n",
              "      <th>Death_1yr</th>\n",
              "    </tr>\n",
              "  </thead>\n",
              "  <tbody>\n",
              "    <tr>\n",
              "      <th>0</th>\n",
              "      <td>DGN4</td>\n",
              "      <td>0.131687</td>\n",
              "      <td>0.176991</td>\n",
              "      <td>PRZ0</td>\n",
              "      <td>0</td>\n",
              "      <td>0</td>\n",
              "      <td>0</td>\n",
              "      <td>0</td>\n",
              "      <td>0</td>\n",
              "      <td>OC12</td>\n",
              "      <td>0</td>\n",
              "      <td>0</td>\n",
              "      <td>0</td>\n",
              "      <td>1</td>\n",
              "      <td>0</td>\n",
              "      <td>0.727273</td>\n",
              "      <td>1</td>\n",
              "    </tr>\n",
              "    <tr>\n",
              "      <th>1</th>\n",
              "      <td>DGN2</td>\n",
              "      <td>0.534979</td>\n",
              "      <td>0.398230</td>\n",
              "      <td>PRZ1</td>\n",
              "      <td>0</td>\n",
              "      <td>0</td>\n",
              "      <td>0</td>\n",
              "      <td>1</td>\n",
              "      <td>0</td>\n",
              "      <td>OC12</td>\n",
              "      <td>0</td>\n",
              "      <td>0</td>\n",
              "      <td>0</td>\n",
              "      <td>1</td>\n",
              "      <td>0</td>\n",
              "      <td>0.515152</td>\n",
              "      <td>1</td>\n",
              "    </tr>\n",
              "    <tr>\n",
              "      <th>2</th>\n",
              "      <td>DGN3</td>\n",
              "      <td>0.106996</td>\n",
              "      <td>0.097345</td>\n",
              "      <td>PRZ1</td>\n",
              "      <td>0</td>\n",
              "      <td>0</td>\n",
              "      <td>0</td>\n",
              "      <td>1</td>\n",
              "      <td>0</td>\n",
              "      <td>OC13</td>\n",
              "      <td>0</td>\n",
              "      <td>0</td>\n",
              "      <td>0</td>\n",
              "      <td>1</td>\n",
              "      <td>0</td>\n",
              "      <td>0.727273</td>\n",
              "      <td>0</td>\n",
              "    </tr>\n",
              "    <tr>\n",
              "      <th>3</th>\n",
              "      <td>DGN2</td>\n",
              "      <td>0.312757</td>\n",
              "      <td>0.303097</td>\n",
              "      <td>PRZ1</td>\n",
              "      <td>0</td>\n",
              "      <td>0</td>\n",
              "      <td>0</td>\n",
              "      <td>1</td>\n",
              "      <td>0</td>\n",
              "      <td>OC11</td>\n",
              "      <td>0</td>\n",
              "      <td>0</td>\n",
              "      <td>0</td>\n",
              "      <td>1</td>\n",
              "      <td>0</td>\n",
              "      <td>0.772727</td>\n",
              "      <td>0</td>\n",
              "    </tr>\n",
              "    <tr>\n",
              "      <th>4</th>\n",
              "      <td>DGN3</td>\n",
              "      <td>0.419753</td>\n",
              "      <td>0.389381</td>\n",
              "      <td>PRZ1</td>\n",
              "      <td>0</td>\n",
              "      <td>1</td>\n",
              "      <td>0</td>\n",
              "      <td>0</td>\n",
              "      <td>0</td>\n",
              "      <td>OC11</td>\n",
              "      <td>0</td>\n",
              "      <td>0</td>\n",
              "      <td>0</td>\n",
              "      <td>0</td>\n",
              "      <td>0</td>\n",
              "      <td>0.484848</td>\n",
              "      <td>0</td>\n",
              "    </tr>\n",
              "  </tbody>\n",
              "</table>\n",
              "</div>"
            ],
            "text/plain": [
              "  Diagnosis       FVC      FEV1  ... Asthma       Age  Death_1yr\n",
              "0      DGN4  0.131687  0.176991  ...      0  0.727273          1\n",
              "1      DGN2  0.534979  0.398230  ...      0  0.515152          1\n",
              "2      DGN3  0.106996  0.097345  ...      0  0.727273          0\n",
              "3      DGN2  0.312757  0.303097  ...      0  0.772727          0\n",
              "4      DGN3  0.419753  0.389381  ...      0  0.484848          0\n",
              "\n",
              "[5 rows x 17 columns]"
            ]
          },
          "metadata": {},
          "execution_count": 4
        }
      ]
    },
    {
      "cell_type": "code",
      "metadata": {
        "id": "nGYS5j7bldjn"
      },
      "source": [
        "#Removing prefix from categorical features\n",
        "def remove_prefix(df, col, prefix):\n",
        "    df[col] = df[col].apply(lambda s: int(s.replace(prefix, '')))\n",
        "    df[col] = (df[col] - df[col].min()) / (df[col].max() - df[col].min())  \n",
        "    return df"
      ],
      "execution_count": 5,
      "outputs": []
    },
    {
      "cell_type": "code",
      "metadata": {
        "colab": {
          "base_uri": "https://localhost:8080/",
          "height": 0
        },
        "id": "l_Mfv7YSl-8b",
        "outputId": "e3969ecf-8606-414f-ba1d-a793c078740c"
      },
      "source": [
        "remove_prefix(df_merged, 'Diagnosis', 'DGN')\n",
        "remove_prefix(df_merged, 'Performance', 'PRZ')\n",
        "remove_prefix(df_merged, 'Tumor_Size', 'OC')"
      ],
      "execution_count": 6,
      "outputs": [
        {
          "output_type": "execute_result",
          "data": {
            "text/html": [
              "<div>\n",
              "<style scoped>\n",
              "    .dataframe tbody tr th:only-of-type {\n",
              "        vertical-align: middle;\n",
              "    }\n",
              "\n",
              "    .dataframe tbody tr th {\n",
              "        vertical-align: top;\n",
              "    }\n",
              "\n",
              "    .dataframe thead th {\n",
              "        text-align: right;\n",
              "    }\n",
              "</style>\n",
              "<table border=\"1\" class=\"dataframe\">\n",
              "  <thead>\n",
              "    <tr style=\"text-align: right;\">\n",
              "      <th></th>\n",
              "      <th>Diagnosis</th>\n",
              "      <th>FVC</th>\n",
              "      <th>FEV1</th>\n",
              "      <th>Performance</th>\n",
              "      <th>Pain</th>\n",
              "      <th>Haemoptysis</th>\n",
              "      <th>Dyspnoea</th>\n",
              "      <th>Cough</th>\n",
              "      <th>Weakness</th>\n",
              "      <th>Tumor_Size</th>\n",
              "      <th>Diabetes_Mellitus</th>\n",
              "      <th>MI_6mo</th>\n",
              "      <th>PAD</th>\n",
              "      <th>Smoking</th>\n",
              "      <th>Asthma</th>\n",
              "      <th>Age</th>\n",
              "      <th>Death_1yr</th>\n",
              "    </tr>\n",
              "  </thead>\n",
              "  <tbody>\n",
              "    <tr>\n",
              "      <th>0</th>\n",
              "      <td>0.428571</td>\n",
              "      <td>0.131687</td>\n",
              "      <td>0.176991</td>\n",
              "      <td>0.0</td>\n",
              "      <td>0</td>\n",
              "      <td>0</td>\n",
              "      <td>0</td>\n",
              "      <td>0</td>\n",
              "      <td>0</td>\n",
              "      <td>0.333333</td>\n",
              "      <td>0</td>\n",
              "      <td>0</td>\n",
              "      <td>0</td>\n",
              "      <td>1</td>\n",
              "      <td>0</td>\n",
              "      <td>0.727273</td>\n",
              "      <td>1</td>\n",
              "    </tr>\n",
              "    <tr>\n",
              "      <th>1</th>\n",
              "      <td>0.142857</td>\n",
              "      <td>0.534979</td>\n",
              "      <td>0.398230</td>\n",
              "      <td>0.5</td>\n",
              "      <td>0</td>\n",
              "      <td>0</td>\n",
              "      <td>0</td>\n",
              "      <td>1</td>\n",
              "      <td>0</td>\n",
              "      <td>0.333333</td>\n",
              "      <td>0</td>\n",
              "      <td>0</td>\n",
              "      <td>0</td>\n",
              "      <td>1</td>\n",
              "      <td>0</td>\n",
              "      <td>0.515152</td>\n",
              "      <td>1</td>\n",
              "    </tr>\n",
              "    <tr>\n",
              "      <th>2</th>\n",
              "      <td>0.285714</td>\n",
              "      <td>0.106996</td>\n",
              "      <td>0.097345</td>\n",
              "      <td>0.5</td>\n",
              "      <td>0</td>\n",
              "      <td>0</td>\n",
              "      <td>0</td>\n",
              "      <td>1</td>\n",
              "      <td>0</td>\n",
              "      <td>0.666667</td>\n",
              "      <td>0</td>\n",
              "      <td>0</td>\n",
              "      <td>0</td>\n",
              "      <td>1</td>\n",
              "      <td>0</td>\n",
              "      <td>0.727273</td>\n",
              "      <td>0</td>\n",
              "    </tr>\n",
              "    <tr>\n",
              "      <th>3</th>\n",
              "      <td>0.142857</td>\n",
              "      <td>0.312757</td>\n",
              "      <td>0.303097</td>\n",
              "      <td>0.5</td>\n",
              "      <td>0</td>\n",
              "      <td>0</td>\n",
              "      <td>0</td>\n",
              "      <td>1</td>\n",
              "      <td>0</td>\n",
              "      <td>0.000000</td>\n",
              "      <td>0</td>\n",
              "      <td>0</td>\n",
              "      <td>0</td>\n",
              "      <td>1</td>\n",
              "      <td>0</td>\n",
              "      <td>0.772727</td>\n",
              "      <td>0</td>\n",
              "    </tr>\n",
              "    <tr>\n",
              "      <th>4</th>\n",
              "      <td>0.285714</td>\n",
              "      <td>0.419753</td>\n",
              "      <td>0.389381</td>\n",
              "      <td>0.5</td>\n",
              "      <td>0</td>\n",
              "      <td>1</td>\n",
              "      <td>0</td>\n",
              "      <td>0</td>\n",
              "      <td>0</td>\n",
              "      <td>0.000000</td>\n",
              "      <td>0</td>\n",
              "      <td>0</td>\n",
              "      <td>0</td>\n",
              "      <td>0</td>\n",
              "      <td>0</td>\n",
              "      <td>0.484848</td>\n",
              "      <td>0</td>\n",
              "    </tr>\n",
              "    <tr>\n",
              "      <th>...</th>\n",
              "      <td>...</td>\n",
              "      <td>...</td>\n",
              "      <td>...</td>\n",
              "      <td>...</td>\n",
              "      <td>...</td>\n",
              "      <td>...</td>\n",
              "      <td>...</td>\n",
              "      <td>...</td>\n",
              "      <td>...</td>\n",
              "      <td>...</td>\n",
              "      <td>...</td>\n",
              "      <td>...</td>\n",
              "      <td>...</td>\n",
              "      <td>...</td>\n",
              "      <td>...</td>\n",
              "      <td>...</td>\n",
              "      <td>...</td>\n",
              "    </tr>\n",
              "    <tr>\n",
              "      <th>132</th>\n",
              "      <td>0.285714</td>\n",
              "      <td>0.209877</td>\n",
              "      <td>0.176991</td>\n",
              "      <td>0.5</td>\n",
              "      <td>0</td>\n",
              "      <td>0</td>\n",
              "      <td>0</td>\n",
              "      <td>1</td>\n",
              "      <td>1</td>\n",
              "      <td>0.000000</td>\n",
              "      <td>0</td>\n",
              "      <td>0</td>\n",
              "      <td>0</td>\n",
              "      <td>1</td>\n",
              "      <td>0</td>\n",
              "      <td>0.696970</td>\n",
              "      <td>0</td>\n",
              "    </tr>\n",
              "    <tr>\n",
              "      <th>133</th>\n",
              "      <td>0.285714</td>\n",
              "      <td>0.559671</td>\n",
              "      <td>0.592920</td>\n",
              "      <td>0.5</td>\n",
              "      <td>0</td>\n",
              "      <td>0</td>\n",
              "      <td>0</td>\n",
              "      <td>1</td>\n",
              "      <td>0</td>\n",
              "      <td>0.333333</td>\n",
              "      <td>0</td>\n",
              "      <td>0</td>\n",
              "      <td>0</td>\n",
              "      <td>1</td>\n",
              "      <td>0</td>\n",
              "      <td>0.621212</td>\n",
              "      <td>0</td>\n",
              "    </tr>\n",
              "    <tr>\n",
              "      <th>134</th>\n",
              "      <td>0.714286</td>\n",
              "      <td>0.806584</td>\n",
              "      <td>0.663717</td>\n",
              "      <td>0.5</td>\n",
              "      <td>0</td>\n",
              "      <td>0</td>\n",
              "      <td>0</td>\n",
              "      <td>1</td>\n",
              "      <td>0</td>\n",
              "      <td>0.333333</td>\n",
              "      <td>0</td>\n",
              "      <td>0</td>\n",
              "      <td>0</td>\n",
              "      <td>0</td>\n",
              "      <td>0</td>\n",
              "      <td>0.621212</td>\n",
              "      <td>0</td>\n",
              "    </tr>\n",
              "    <tr>\n",
              "      <th>135</th>\n",
              "      <td>0.142857</td>\n",
              "      <td>0.337449</td>\n",
              "      <td>0.336283</td>\n",
              "      <td>0.5</td>\n",
              "      <td>0</td>\n",
              "      <td>0</td>\n",
              "      <td>0</td>\n",
              "      <td>1</td>\n",
              "      <td>0</td>\n",
              "      <td>0.000000</td>\n",
              "      <td>0</td>\n",
              "      <td>0</td>\n",
              "      <td>0</td>\n",
              "      <td>0</td>\n",
              "      <td>0</td>\n",
              "      <td>0.424242</td>\n",
              "      <td>0</td>\n",
              "    </tr>\n",
              "    <tr>\n",
              "      <th>136</th>\n",
              "      <td>0.142857</td>\n",
              "      <td>0.351852</td>\n",
              "      <td>0.398230</td>\n",
              "      <td>0.5</td>\n",
              "      <td>0</td>\n",
              "      <td>1</td>\n",
              "      <td>0</td>\n",
              "      <td>1</td>\n",
              "      <td>0</td>\n",
              "      <td>0.333333</td>\n",
              "      <td>0</td>\n",
              "      <td>0</td>\n",
              "      <td>0</td>\n",
              "      <td>1</td>\n",
              "      <td>0</td>\n",
              "      <td>0.575758</td>\n",
              "      <td>0</td>\n",
              "    </tr>\n",
              "  </tbody>\n",
              "</table>\n",
              "<p>455 rows × 17 columns</p>\n",
              "</div>"
            ],
            "text/plain": [
              "     Diagnosis       FVC      FEV1  ...  Asthma       Age  Death_1yr\n",
              "0     0.428571  0.131687  0.176991  ...       0  0.727273          1\n",
              "1     0.142857  0.534979  0.398230  ...       0  0.515152          1\n",
              "2     0.285714  0.106996  0.097345  ...       0  0.727273          0\n",
              "3     0.142857  0.312757  0.303097  ...       0  0.772727          0\n",
              "4     0.285714  0.419753  0.389381  ...       0  0.484848          0\n",
              "..         ...       ...       ...  ...     ...       ...        ...\n",
              "132   0.285714  0.209877  0.176991  ...       0  0.696970          0\n",
              "133   0.285714  0.559671  0.592920  ...       0  0.621212          0\n",
              "134   0.714286  0.806584  0.663717  ...       0  0.621212          0\n",
              "135   0.142857  0.337449  0.336283  ...       0  0.424242          0\n",
              "136   0.142857  0.351852  0.398230  ...       0  0.575758          0\n",
              "\n",
              "[455 rows x 17 columns]"
            ]
          },
          "metadata": {},
          "execution_count": 6
        }
      ]
    },
    {
      "cell_type": "markdown",
      "metadata": {
        "id": "m0WkUo-KErzm"
      },
      "source": [
        "### Applying PCA"
      ]
    },
    {
      "cell_type": "code",
      "metadata": {
        "colab": {
          "base_uri": "https://localhost:8080/",
          "height": 0
        },
        "id": "MbfPXLMRj1zw",
        "outputId": "9754b721-9b93-4f6d-f08f-c3f5fb5cc9f7"
      },
      "source": [
        "n_components=16\n",
        "labels = df_merged.keys()\n",
        "x_labels = labels[:-1]\n",
        "y_label = labels[-1]\n",
        "\n",
        "X = df_merged[x_labels]\n",
        "y = df_merged[y_label]\n",
        "pca = PCA(n_components=n_components, random_state=42)\n",
        "pca_results = pca.fit_transform(X.values)\n",
        "\n",
        "#Plot cumulative and proportional variance explained\n",
        "plt.plot(np.cumsum(pca.explained_variance_ratio_), label=\"Cumulative\")\n",
        "plt.plot(pca.explained_variance_ratio_, label=\"Normal\")\n",
        "plt.legend()\n",
        "plt.xlabel('number of components')\n",
        "plt.ylabel('explained variance')\n"
      ],
      "execution_count": 7,
      "outputs": [
        {
          "output_type": "execute_result",
          "data": {
            "text/plain": [
              "Text(0, 0.5, 'explained variance')"
            ]
          },
          "metadata": {},
          "execution_count": 7
        },
        {
          "output_type": "display_data",
          "data": {
            "image/png": "[encoded data removed]",
            "text/plain": [
              "<Figure size 432x288 with 1 Axes>"
            ]
          },
          "metadata": {
            "needs_background": "light"
          }
        }
      ]
    },
    {
      "cell_type": "markdown",
      "metadata": {
        "id": "x7wDMYQUE9Ey"
      },
      "source": [
        "Select an adequate number of principal components"
      ]
    },
    {
      "cell_type": "code",
      "metadata": {
        "colab": {
          "base_uri": "https://localhost:8080/"
        },
        "id": "1lKM6hLK1dHf",
        "outputId": "57a1e668-1171-4bda-aeae-0d4316ebd760"
      },
      "source": [
        "n_components=9\n",
        "pca = PCA(n_components=n_components, random_state=42)\n",
        "pca_results = pca.fit_transform(X.values)\n",
        "print('>> Cumulative explained variance for {} principal components: {}'.format(\n",
        "    n_components,\n",
        "    np.sum(pca.explained_variance_ratio_))\n",
        ")\n",
        "\n",
        "train_pca, test_pca = np.split(pca_results, [train_len], axis=0)\n",
        "train_pca_y, test_pca_y = np.split(y.values, [train_len], axis=0)\n",
        "\n"
      ],
      "execution_count": 8,
      "outputs": [
        {
          "output_type": "stream",
          "name": "stdout",
          "text": [
            ">> Cumulative explained variance for 9 principal components: 0.9278753145599087\n"
          ]
        }
      ]
    },
    {
      "cell_type": "markdown",
      "metadata": {
        "id": "tK9eaPvjFSya"
      },
      "source": [
        "After applying PCA we applied SMOTE on the obtained dataset"
      ]
    },
    {
      "cell_type": "code",
      "metadata": {
        "id": "n6mnT4JP5RGH"
      },
      "source": [
        "sm = SMOTE(random_state=42, sampling_strategy='not majority')\n",
        "train_pca_smote, train_pca_smote_y = sm.fit_resample(train_pca, train_pca_y)"
      ],
      "execution_count": 9,
      "outputs": []
    },
    {
      "cell_type": "code",
      "metadata": {
        "id": "rOBL5hNu6QHN",
        "colab": {
          "base_uri": "https://localhost:8080/",
          "height": 0
        },
        "outputId": "756ad723-0d17-466f-f13b-00bed69727d5"
      },
      "source": [
        "columns_names = [f\"pc{i+1}\" for i in range(n_components)] + [y_label]\n",
        "\n",
        "train_pca_df = pd.DataFrame(\n",
        "    np.c_[train_pca_smote, train_pca_smote_y],\n",
        "    columns=columns_names)\n",
        "test_pca_df = pd.DataFrame(\n",
        "    np.c_[test_pca, test_pca_y],\n",
        "    columns=columns_names)\n",
        "\n",
        "train_pca_df[y_label] = train_pca_df[y_label].astype(int)\n",
        "test_pca_df[y_label] = test_pca_df[y_label].astype(int)\n",
        "\n",
        "train_pca_df.head()\n"
      ],
      "execution_count": 10,
      "outputs": [
        {
          "output_type": "execute_result",
          "data": {
            "text/html": [
              "<div>\n",
              "<style scoped>\n",
              "    .dataframe tbody tr th:only-of-type {\n",
              "        vertical-align: middle;\n",
              "    }\n",
              "\n",
              "    .dataframe tbody tr th {\n",
              "        vertical-align: top;\n",
              "    }\n",
              "\n",
              "    .dataframe thead th {\n",
              "        text-align: right;\n",
              "    }\n",
              "</style>\n",
              "<table border=\"1\" class=\"dataframe\">\n",
              "  <thead>\n",
              "    <tr style=\"text-align: right;\">\n",
              "      <th></th>\n",
              "      <th>pc1</th>\n",
              "      <th>pc2</th>\n",
              "      <th>pc3</th>\n",
              "      <th>pc4</th>\n",
              "      <th>pc5</th>\n",
              "      <th>pc6</th>\n",
              "      <th>pc7</th>\n",
              "      <th>pc8</th>\n",
              "      <th>pc9</th>\n",
              "      <th>Death_1yr</th>\n",
              "    </tr>\n",
              "  </thead>\n",
              "  <tbody>\n",
              "    <tr>\n",
              "      <th>0</th>\n",
              "      <td>0.700261</td>\n",
              "      <td>-0.310428</td>\n",
              "      <td>0.231869</td>\n",
              "      <td>0.155183</td>\n",
              "      <td>0.134095</td>\n",
              "      <td>-0.116696</td>\n",
              "      <td>0.218389</td>\n",
              "      <td>-0.272984</td>\n",
              "      <td>0.056124</td>\n",
              "      <td>1</td>\n",
              "    </tr>\n",
              "    <tr>\n",
              "      <th>1</th>\n",
              "      <td>-0.244989</td>\n",
              "      <td>-0.249302</td>\n",
              "      <td>-0.288464</td>\n",
              "      <td>-0.020269</td>\n",
              "      <td>-0.082265</td>\n",
              "      <td>0.056222</td>\n",
              "      <td>-0.040176</td>\n",
              "      <td>0.012596</td>\n",
              "      <td>-0.121128</td>\n",
              "      <td>1</td>\n",
              "    </tr>\n",
              "    <tr>\n",
              "      <th>2</th>\n",
              "      <td>-0.315141</td>\n",
              "      <td>-0.184171</td>\n",
              "      <td>-0.266369</td>\n",
              "      <td>0.034101</td>\n",
              "      <td>0.158593</td>\n",
              "      <td>-0.023832</td>\n",
              "      <td>0.319476</td>\n",
              "      <td>-0.418823</td>\n",
              "      <td>-0.065517</td>\n",
              "      <td>0</td>\n",
              "    </tr>\n",
              "    <tr>\n",
              "      <th>3</th>\n",
              "      <td>-0.253496</td>\n",
              "      <td>-0.225830</td>\n",
              "      <td>-0.211251</td>\n",
              "      <td>-0.030107</td>\n",
              "      <td>0.004292</td>\n",
              "      <td>-0.254911</td>\n",
              "      <td>0.069165</td>\n",
              "      <td>0.151610</td>\n",
              "      <td>0.087255</td>\n",
              "      <td>0</td>\n",
              "    </tr>\n",
              "    <tr>\n",
              "      <th>4</th>\n",
              "      <td>0.735795</td>\n",
              "      <td>1.007484</td>\n",
              "      <td>0.112238</td>\n",
              "      <td>0.340897</td>\n",
              "      <td>-0.209617</td>\n",
              "      <td>-0.261222</td>\n",
              "      <td>-0.190015</td>\n",
              "      <td>0.132623</td>\n",
              "      <td>-0.103550</td>\n",
              "      <td>0</td>\n",
              "    </tr>\n",
              "  </tbody>\n",
              "</table>\n",
              "</div>"
            ],
            "text/plain": [
              "        pc1       pc2       pc3  ...       pc8       pc9  Death_1yr\n",
              "0  0.700261 -0.310428  0.231869  ... -0.272984  0.056124          1\n",
              "1 -0.244989 -0.249302 -0.288464  ...  0.012596 -0.121128          1\n",
              "2 -0.315141 -0.184171 -0.266369  ... -0.418823 -0.065517          0\n",
              "3 -0.253496 -0.225830 -0.211251  ...  0.151610  0.087255          0\n",
              "4  0.735795  1.007484  0.112238  ...  0.132623 -0.103550          0\n",
              "\n",
              "[5 rows x 10 columns]"
            ]
          },
          "metadata": {},
          "execution_count": 10
        }
      ]
    },
    {
      "cell_type": "markdown",
      "metadata": {
        "id": "monjk7X4FsuN"
      },
      "source": [
        "### Save new obtained datasets"
      ]
    },
    {
      "cell_type": "code",
      "metadata": {
        "id": "DtJHZlFb3-1j"
      },
      "source": [
        "TRAIN_SAVE_PATH = Path('.') / 'dataset' / 'ThoracicSurgery_pca_train.csv'\n",
        "TEST_SAVE_PATH = Path('.') / 'dataset' / 'ThoracicSurgery_pca_test.csv'\n",
        "\n",
        "train_pca_df.to_csv(TRAIN_SAVE_PATH, index=False)\n",
        "test_pca_df.to_csv(TEST_SAVE_PATH, index=False)\n"
      ],
      "execution_count": 11,
      "outputs": []
    },
    {
      "cell_type": "markdown",
      "metadata": {
        "id": "73bo4bWPHa8Q"
      },
      "source": [
        "### Result analysis"
      ]
    },
    {
      "cell_type": "code",
      "metadata": {
        "colab": {
          "base_uri": "https://localhost:8080/"
        },
        "id": "TWtzbt18ydvt",
        "outputId": "634d8ea4-84ce-4333-b21b-77157b9cc240"
      },
      "source": [
        "print(pca_results.shape)\n",
        "print(pca.components_.shape)\n",
        "reconstructed = np.matmul(pca_results, pca.components_)\n",
        "\n",
        "print(reconstructed.shape)"
      ],
      "execution_count": 12,
      "outputs": [
        {
          "output_type": "stream",
          "name": "stdout",
          "text": [
            "(455, 9)\n",
            "(9, 16)\n",
            "(455, 16)\n"
          ]
        }
      ]
    },
    {
      "cell_type": "code",
      "metadata": {
        "colab": {
          "base_uri": "https://localhost:8080/",
          "height": 81
        },
        "id": "KXSv_L7_z9q_",
        "outputId": "d043766b-c421-4a99-dbba-c41db937d8a4"
      },
      "source": [
        "#Sample a patient from the test set (it will be useful to make an example in decision trees)\n",
        "test_pca_df[-2:-1].head()"
      ],
      "execution_count": 13,
      "outputs": [
        {
          "output_type": "execute_result",
          "data": {
            "text/html": [
              "<div>\n",
              "<style scoped>\n",
              "    .dataframe tbody tr th:only-of-type {\n",
              "        vertical-align: middle;\n",
              "    }\n",
              "\n",
              "    .dataframe tbody tr th {\n",
              "        vertical-align: top;\n",
              "    }\n",
              "\n",
              "    .dataframe thead th {\n",
              "        text-align: right;\n",
              "    }\n",
              "</style>\n",
              "<table border=\"1\" class=\"dataframe\">\n",
              "  <thead>\n",
              "    <tr style=\"text-align: right;\">\n",
              "      <th></th>\n",
              "      <th>pc1</th>\n",
              "      <th>pc2</th>\n",
              "      <th>pc3</th>\n",
              "      <th>pc4</th>\n",
              "      <th>pc5</th>\n",
              "      <th>pc6</th>\n",
              "      <th>pc7</th>\n",
              "      <th>pc8</th>\n",
              "      <th>pc9</th>\n",
              "      <th>Death_1yr</th>\n",
              "    </tr>\n",
              "  </thead>\n",
              "  <tbody>\n",
              "    <tr>\n",
              "      <th>135</th>\n",
              "      <td>0.049141</td>\n",
              "      <td>0.534387</td>\n",
              "      <td>-0.465535</td>\n",
              "      <td>-0.536566</td>\n",
              "      <td>-0.116037</td>\n",
              "      <td>-0.271537</td>\n",
              "      <td>0.013658</td>\n",
              "      <td>0.14084</td>\n",
              "      <td>-0.001379</td>\n",
              "      <td>0</td>\n",
              "    </tr>\n",
              "  </tbody>\n",
              "</table>\n",
              "</div>"
            ],
            "text/plain": [
              "          pc1       pc2       pc3  ...      pc8       pc9  Death_1yr\n",
              "135  0.049141  0.534387 -0.465535  ...  0.14084 -0.001379          0\n",
              "\n",
              "[1 rows x 10 columns]"
            ]
          },
          "metadata": {},
          "execution_count": 13
        }
      ]
    },
    {
      "cell_type": "code",
      "metadata": {
        "colab": {
          "base_uri": "https://localhost:8080/"
        },
        "id": "804SMv8v13x5",
        "outputId": "d987adbf-302c-4a0e-8421-c2fe402cf757"
      },
      "source": [
        "eighth_component = pca.components_[7]\n",
        "eighth_component"
      ],
      "execution_count": 14,
      "outputs": [
        {
          "output_type": "execute_result",
          "data": {
            "text/plain": [
              "array([ 0.08232354,  0.27052835,  0.27409081,  0.1742117 ,  0.46156494,\n",
              "       -0.0109055 , -0.24688166,  0.0433472 , -0.07164708, -0.70806464,\n",
              "        0.16551811,  0.00161269, -0.03349487,  0.04117668, -0.01015909,\n",
              "       -0.04198546])"
            ]
          },
          "metadata": {},
          "execution_count": 14
        }
      ]
    },
    {
      "cell_type": "code",
      "metadata": {
        "colab": {
          "base_uri": "https://localhost:8080/"
        },
        "id": "DFtN6tq86XG1",
        "outputId": "bd3fa1c7-81ba-4574-b3d3-097bd627195c"
      },
      "source": [
        "print(x_labels[4])\n",
        "print(x_labels[9])"
      ],
      "execution_count": 15,
      "outputs": [
        {
          "output_type": "stream",
          "name": "stdout",
          "text": [
            "Pain\n",
            "Tumor_Size\n"
          ]
        }
      ]
    }
  ]
}