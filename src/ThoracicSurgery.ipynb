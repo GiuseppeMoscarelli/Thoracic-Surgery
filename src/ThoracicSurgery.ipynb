{
  "nbformat": 4,
  "nbformat_minor": 0,
  "metadata": {
    "colab": {
      "name": "ThoracicSurgery.ipynb",
      "provenance": [],
      "collapsed_sections": []
    },
    "kernelspec": {
      "name": "python3",
      "display_name": "Python 3"
    },
    "language_info": {
      "name": "python"
    }
  },
  "cells": [
    {
      "cell_type": "markdown",
      "metadata": {
        "id": "B710mWUHEw_W"
      },
      "source": [
        "# Thoracic Surgery\n"
      ]
    },
    {
      "cell_type": "markdown",
      "metadata": {
        "id": "O2e8_AM-Eq64"
      },
      "source": [
        "## Preprocessing"
      ]
    },
    {
      "cell_type": "markdown",
      "metadata": {
        "id": "Oe1C0UW8GQCf"
      },
      "source": [
        "Download dataset"
      ]
    },
    {
      "cell_type": "code",
      "metadata": {
        "colab": {
          "base_uri": "https://localhost:8080/"
        },
        "id": "CH8qD6JGEoPv",
        "outputId": "8b77d4f1-0c2b-4093-b2e2-ce68b0f62e26"
      },
      "source": [
        "!mkdir dataset\n",
        "!wget https://raw.githubusercontent.com/GiuseppeMoscarelli/Thoracic-Surgery/main/dataset/ThoraricSurgery.csv -P dataset -nc"
      ],
      "execution_count": 81,
      "outputs": [
        {
          "output_type": "stream",
          "name": "stdout",
          "text": [
            "mkdir: cannot create directory ‘dataset’: File exists\n",
            "File ‘dataset/ThoraricSurgery.csv’ already there; not retrieving.\n",
            "\n"
          ]
        }
      ]
    },
    {
      "cell_type": "code",
      "metadata": {
        "id": "hBV3hoVIJ7CU"
      },
      "source": [
        "from pathlib import Path\n",
        "import matplotlib.pyplot as plt\n"
      ],
      "execution_count": 82,
      "outputs": []
    },
    {
      "cell_type": "code",
      "metadata": {
        "id": "oa4s2tapGJtP"
      },
      "source": [
        "\n",
        "DATASET_PATH = Path('.') / 'dataset' / 'ThoraricSurgery.csv'\n",
        "\n",
        "\n",
        "def load_dataset():\n",
        "    df = pd.read_csv(DATASET_PATH)\n",
        "    df = df.drop('id', 1)\n",
        "    return df\n"
      ],
      "execution_count": 83,
      "outputs": []
    },
    {
      "cell_type": "code",
      "metadata": {
        "colab": {
          "base_uri": "https://localhost:8080/"
        },
        "id": "SULkvLoLGVKz",
        "outputId": "baa3a087-d966-4f08-8bdb-cae21b692c1c"
      },
      "source": [
        "pd.set_option('display.max_colwidth', 5000)\n",
        "df = load_dataset()\n",
        "\n",
        "# Rename the columns to more understanble names\n",
        "col_names = {'DGN': 'Diagnosis', 'PRE4': 'FVC', 'PRE5': 'FEV1', 'PRE6': 'Performance',\n",
        "              'PRE7': 'Pain', 'PRE8': 'Haemoptysis', 'PRE9': 'Dyspnoea', 'PRE10': 'Cough',\n",
        "              'PRE11': 'Weakness', 'PRE14': 'Tumor_Size', 'PRE17': 'Diabetes_Mellitus',\n",
        "              'PRE19': 'MI_6mo', 'PRE25': 'PAD', 'PRE30': 'Smoking', 'PRE32': 'Asthma',\n",
        "              'AGE': 'Age', 'Risk1Yr': 'Death_1yr'}\n",
        "\n",
        "df = df.rename(index=str, columns=col_names)\n",
        "\n",
        "print(df.head())\n",
        "\n",
        "# Check that there are no null values\n",
        "null_values = df.isnull().sum()\n",
        "\n",
        "print(\"The number of missing values for each column is: \")\n",
        "print(null_values)\n",
        "print()\n",
        "\n",
        "if null_values[1].sum() == 0:\n",
        "    print(\"There are no missing values\")\n",
        "else:\n",
        "    print(\"There are missing values\")"
      ],
      "execution_count": 84,
      "outputs": [
        {
          "output_type": "stream",
          "name": "stdout",
          "text": [
            "  Diagnosis   FVC  FEV1 Performance Pain Haemoptysis Dyspnoea Cough Weakness  \\\n",
            "0      DGN2  2.88  2.16        PRZ1    F           F        F     T        T   \n",
            "1      DGN3  3.40  1.88        PRZ0    F           F        F     F        F   \n",
            "2      DGN3  2.76  2.08        PRZ1    F           F        F     T        F   \n",
            "3      DGN3  3.68  3.04        PRZ0    F           F        F     F        F   \n",
            "4      DGN3  2.44  0.96        PRZ2    F           T        F     T        T   \n",
            "\n",
            "  Tumor_Size Diabetes_Mellitus MI_6mo PAD Smoking Asthma  Age Death_1yr  \n",
            "0       OC14                 F      F   F       T      F   60         F  \n",
            "1       OC12                 F      F   F       T      F   51         F  \n",
            "2       OC11                 F      F   F       T      F   59         F  \n",
            "3       OC11                 F      F   F       F      F   54         F  \n",
            "4       OC11                 F      F   F       T      F   73         T  \n",
            "The number of missing values for each column is: \n",
            "Diagnosis            0\n",
            "FVC                  0\n",
            "FEV1                 0\n",
            "Performance          0\n",
            "Pain                 0\n",
            "Haemoptysis          0\n",
            "Dyspnoea             0\n",
            "Cough                0\n",
            "Weakness             0\n",
            "Tumor_Size           0\n",
            "Diabetes_Mellitus    0\n",
            "MI_6mo               0\n",
            "PAD                  0\n",
            "Smoking              0\n",
            "Asthma               0\n",
            "Age                  0\n",
            "Death_1yr            0\n",
            "dtype: int64\n",
            "\n",
            "There are no missing values\n"
          ]
        }
      ]
    },
    {
      "cell_type": "code",
      "metadata": {
        "id": "_cGe-9AcGtDr"
      },
      "source": [
        "def map_boolean_to_real(df, columns):\n",
        "    x = (df[columns] == 'T').astype(int)\n",
        "    df[columns] = x\n",
        "    return df\n"
      ],
      "execution_count": 85,
      "outputs": []
    },
    {
      "cell_type": "code",
      "metadata": {
        "colab": {
          "base_uri": "https://localhost:8080/",
          "height": 224
        },
        "id": "i-y-B-alGx4-",
        "outputId": "d3c6e2ab-553a-492f-b178-31559f3500f7"
      },
      "source": [
        "df = map_boolean_to_real(df, [\n",
        "                              'Pain', 'Haemoptysis', 'Dyspnoea', 'Cough',\n",
        "                              'Weakness', 'Diabetes_Mellitus', 'MI_6mo', 'PAD',\n",
        "                              'Smoking', 'Asthma', 'Death_1yr'\n",
        "                              ])\n",
        "df.head(5)"
      ],
      "execution_count": 86,
      "outputs": [
        {
          "output_type": "execute_result",
          "data": {
            "text/html": [
              "<div>\n",
              "<style scoped>\n",
              "    .dataframe tbody tr th:only-of-type {\n",
              "        vertical-align: middle;\n",
              "    }\n",
              "\n",
              "    .dataframe tbody tr th {\n",
              "        vertical-align: top;\n",
              "    }\n",
              "\n",
              "    .dataframe thead th {\n",
              "        text-align: right;\n",
              "    }\n",
              "</style>\n",
              "<table border=\"1\" class=\"dataframe\">\n",
              "  <thead>\n",
              "    <tr style=\"text-align: right;\">\n",
              "      <th></th>\n",
              "      <th>Diagnosis</th>\n",
              "      <th>FVC</th>\n",
              "      <th>FEV1</th>\n",
              "      <th>Performance</th>\n",
              "      <th>Pain</th>\n",
              "      <th>Haemoptysis</th>\n",
              "      <th>Dyspnoea</th>\n",
              "      <th>Cough</th>\n",
              "      <th>Weakness</th>\n",
              "      <th>Tumor_Size</th>\n",
              "      <th>Diabetes_Mellitus</th>\n",
              "      <th>MI_6mo</th>\n",
              "      <th>PAD</th>\n",
              "      <th>Smoking</th>\n",
              "      <th>Asthma</th>\n",
              "      <th>Age</th>\n",
              "      <th>Death_1yr</th>\n",
              "    </tr>\n",
              "  </thead>\n",
              "  <tbody>\n",
              "    <tr>\n",
              "      <th>0</th>\n",
              "      <td>DGN2</td>\n",
              "      <td>2.88</td>\n",
              "      <td>2.16</td>\n",
              "      <td>PRZ1</td>\n",
              "      <td>0</td>\n",
              "      <td>0</td>\n",
              "      <td>0</td>\n",
              "      <td>1</td>\n",
              "      <td>1</td>\n",
              "      <td>OC14</td>\n",
              "      <td>0</td>\n",
              "      <td>0</td>\n",
              "      <td>0</td>\n",
              "      <td>1</td>\n",
              "      <td>0</td>\n",
              "      <td>60</td>\n",
              "      <td>0</td>\n",
              "    </tr>\n",
              "    <tr>\n",
              "      <th>1</th>\n",
              "      <td>DGN3</td>\n",
              "      <td>3.40</td>\n",
              "      <td>1.88</td>\n",
              "      <td>PRZ0</td>\n",
              "      <td>0</td>\n",
              "      <td>0</td>\n",
              "      <td>0</td>\n",
              "      <td>0</td>\n",
              "      <td>0</td>\n",
              "      <td>OC12</td>\n",
              "      <td>0</td>\n",
              "      <td>0</td>\n",
              "      <td>0</td>\n",
              "      <td>1</td>\n",
              "      <td>0</td>\n",
              "      <td>51</td>\n",
              "      <td>0</td>\n",
              "    </tr>\n",
              "    <tr>\n",
              "      <th>2</th>\n",
              "      <td>DGN3</td>\n",
              "      <td>2.76</td>\n",
              "      <td>2.08</td>\n",
              "      <td>PRZ1</td>\n",
              "      <td>0</td>\n",
              "      <td>0</td>\n",
              "      <td>0</td>\n",
              "      <td>1</td>\n",
              "      <td>0</td>\n",
              "      <td>OC11</td>\n",
              "      <td>0</td>\n",
              "      <td>0</td>\n",
              "      <td>0</td>\n",
              "      <td>1</td>\n",
              "      <td>0</td>\n",
              "      <td>59</td>\n",
              "      <td>0</td>\n",
              "    </tr>\n",
              "    <tr>\n",
              "      <th>3</th>\n",
              "      <td>DGN3</td>\n",
              "      <td>3.68</td>\n",
              "      <td>3.04</td>\n",
              "      <td>PRZ0</td>\n",
              "      <td>0</td>\n",
              "      <td>0</td>\n",
              "      <td>0</td>\n",
              "      <td>0</td>\n",
              "      <td>0</td>\n",
              "      <td>OC11</td>\n",
              "      <td>0</td>\n",
              "      <td>0</td>\n",
              "      <td>0</td>\n",
              "      <td>0</td>\n",
              "      <td>0</td>\n",
              "      <td>54</td>\n",
              "      <td>0</td>\n",
              "    </tr>\n",
              "    <tr>\n",
              "      <th>4</th>\n",
              "      <td>DGN3</td>\n",
              "      <td>2.44</td>\n",
              "      <td>0.96</td>\n",
              "      <td>PRZ2</td>\n",
              "      <td>0</td>\n",
              "      <td>1</td>\n",
              "      <td>0</td>\n",
              "      <td>1</td>\n",
              "      <td>1</td>\n",
              "      <td>OC11</td>\n",
              "      <td>0</td>\n",
              "      <td>0</td>\n",
              "      <td>0</td>\n",
              "      <td>1</td>\n",
              "      <td>0</td>\n",
              "      <td>73</td>\n",
              "      <td>1</td>\n",
              "    </tr>\n",
              "  </tbody>\n",
              "</table>\n",
              "</div>"
            ],
            "text/plain": [
              "  Diagnosis   FVC  FEV1 Performance  Pain  Haemoptysis  Dyspnoea  Cough  \\\n",
              "0      DGN2  2.88  2.16        PRZ1     0            0         0      1   \n",
              "1      DGN3  3.40  1.88        PRZ0     0            0         0      0   \n",
              "2      DGN3  2.76  2.08        PRZ1     0            0         0      1   \n",
              "3      DGN3  3.68  3.04        PRZ0     0            0         0      0   \n",
              "4      DGN3  2.44  0.96        PRZ2     0            1         0      1   \n",
              "\n",
              "   Weakness Tumor_Size  Diabetes_Mellitus  MI_6mo  PAD  Smoking  Asthma  Age  \\\n",
              "0         1       OC14                  0       0    0        1       0   60   \n",
              "1         0       OC12                  0       0    0        1       0   51   \n",
              "2         0       OC11                  0       0    0        1       0   59   \n",
              "3         0       OC11                  0       0    0        0       0   54   \n",
              "4         1       OC11                  0       0    0        1       0   73   \n",
              "\n",
              "   Death_1yr  \n",
              "0          0  \n",
              "1          0  \n",
              "2          0  \n",
              "3          0  \n",
              "4          1  "
            ]
          },
          "metadata": {},
          "execution_count": 86
        }
      ]
    },
    {
      "cell_type": "markdown",
      "metadata": {
        "id": "g7HodQygIRI1"
      },
      "source": [
        "Scatter plot the three continuous attributes \"FVC\", \"FEV1\" and \"Age\""
      ]
    },
    {
      "cell_type": "code",
      "metadata": {
        "colab": {
          "base_uri": "https://localhost:8080/",
          "height": 803
        },
        "id": "sIATjlDPKTn-",
        "outputId": "f84b49d7-1c54-4d74-ec72-4dd1ca554bd5"
      },
      "source": [
        "plt.plot(df.Age, df.FEV1, linestyle='none', marker='o')\n",
        "plt.xlabel('Age')\n",
        "plt.ylabel('FEV1')\n",
        "plt.show()\n",
        "\n",
        "plt.plot(df.Age, df.FVC, linestyle='none', marker='o')\n",
        "plt.xlabel('Age')\n",
        "plt.ylabel('FVC')\n",
        "plt.show()\n",
        "\n",
        "plt.plot(df.FEV1, df.FVC, linestyle='none', marker='o')\n",
        "plt.xlabel('FEV1')\n",
        "plt.ylabel('FVC')\n",
        "plt.show()"
      ],
      "execution_count": 87,
      "outputs": [
        {
          "output_type": "display_data",
          "data": {
            "image/png": "[encoded data removed]",
            "text/plain": [
              "<Figure size 432x288 with 1 Axes>"
            ]
          },
          "metadata": {
            "needs_background": "light"
          }
        },
        {
          "output_type": "display_data",
          "data": {
            "image/png": "[encoded data removed]",
            "text/plain": [
              "<Figure size 432x288 with 1 Axes>"
            ]
          },
          "metadata": {
            "needs_background": "light"
          }
        },
        {
          "output_type": "display_data",
          "data": {
            "image/png": "[encoded data removed]",
            "text/plain": [
              "<Figure size 432x288 with 1 Axes>"
            ]
          },
          "metadata": {
            "needs_background": "light"
          }
        }
      ]
    },
    {
      "cell_type": "code",
      "metadata": {
        "id": "WBUOBMgtMEPK"
      },
      "source": [
        "# from sklearn.svm import OneClassSVM\n",
        "\n",
        "# svm_clf = OneClassSVM(kernel='sigmoid', gamma='auto').fit(df.FVC.values.reshape(-1, 1))\n",
        "# y_pred =svm_clf.predict(df.FVC.values.reshape(-1, 1))\n",
        "\n",
        "# print(y_pred)"
      ],
      "execution_count": 88,
      "outputs": []
    },
    {
      "cell_type": "code",
      "metadata": {
        "colab": {
          "base_uri": "https://localhost:8080/"
        },
        "id": "DXlwFv4nN4E7",
        "outputId": "fae8fbb6-48a8-4348-b68f-ccd6f48f99ed"
      },
      "source": [
        "print(\"Removing {} outliers\".format((df['FEV1'] >= 7).sum()))\n",
        "\n",
        "df = df[df['FEV1'] < 7] # TODO: use outlier detection to remove the hardcoded value"
      ],
      "execution_count": 89,
      "outputs": [
        {
          "output_type": "stream",
          "name": "stdout",
          "text": [
            "Removing 15 outliers\n"
          ]
        }
      ]
    },
    {
      "cell_type": "code",
      "metadata": {
        "colab": {
          "base_uri": "https://localhost:8080/",
          "height": 803
        },
        "id": "oZ-lvhpiOHJQ",
        "outputId": "cea96dc2-6f98-4108-8495-139ad05e9ccc"
      },
      "source": [
        "plt.plot(df.Age, df.FEV1, linestyle='none', marker='o')\n",
        "plt.xlabel('Age')\n",
        "plt.ylabel('FEV1')\n",
        "plt.show()\n",
        "\n",
        "plt.plot(df.Age, df.FVC, linestyle='none', marker='o')\n",
        "plt.xlabel('Age')\n",
        "plt.ylabel('FVC')\n",
        "plt.show()\n",
        "\n",
        "plt.plot(df.FEV1, df.FVC, linestyle='none', marker='o')\n",
        "plt.xlabel('FEV1')\n",
        "plt.ylabel('FVC')\n",
        "plt.show()"
      ],
      "execution_count": 90,
      "outputs": [
        {
          "output_type": "display_data",
          "data": {
            "image/png": "[encoded data removed]",
            "text/plain": [
              "<Figure size 432x288 with 1 Axes>"
            ]
          },
          "metadata": {
            "needs_background": "light"
          }
        },
        {
          "output_type": "display_data",
          "data": {
            "image/png": "[encoded data removed]",
            "text/plain": [
              "<Figure size 432x288 with 1 Axes>"
            ]
          },
          "metadata": {
            "needs_background": "light"
          }
        },
        {
          "output_type": "display_data",
          "data": {
            "image/png": "[encoded data removed]",
            "text/plain": [
              "<Figure size 432x288 with 1 Axes>"
            ]
          },
          "metadata": {
            "needs_background": "light"
          }
        }
      ]
    },
    {
      "cell_type": "code",
      "metadata": {
        "id": "gWaGmLgjPA-7"
      },
      "source": [
        "SAVE_PATH = Path('.') / 'dataset' / 'CleanThoracicSurgery.csv'\n",
        "\n",
        "df.to_csv(SAVE_PATH)"
      ],
      "execution_count": 92,
      "outputs": []
    }
  ]
}